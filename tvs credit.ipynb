{
 "cells": [
  {
   "cell_type": "code",
   "execution_count": 1,
   "id": "731ea719",
   "metadata": {},
   "outputs": [],
   "source": [
    "import numpy as np\n",
    "import pandas as pd\n",
    "from pandas import Series as ser\n",
    "from pandas import DataFrame as df\n",
    "import seaborn as sns\n",
    "import scipy\n",
    "from scipy import stats\n",
    "import matplotlib.pyplot as plt \n",
    "from sklearn.preprocessing import PowerTransformer , StandardScaler , LabelEncoder\n",
    "from sklearn import model_selection\n",
    "from sklearn.linear_model import LogisticRegression\n",
    "from statsmodels.stats.outliers_influence import variance_inflation_factor\n",
    "from sklearn.model_selection import train_test_split\n",
    "from sklearn.model_selection import KFold\n",
    "import statsmodels.api as sm \n",
    "from sklearn.ensemble import RandomForestClassifier\n",
    "from sklearn.tree import DecisionTreeClassifier\n",
    "from sklearn.ensemble import GradientBoostingClassifier\n",
    "from sklearn.metrics import  classification_report , confusion_matrix , roc_auc_score, roc_curve, accuracy_score\n",
    "from sklearn.model_selection import GridSearchCV"
   ]
  },
  {
   "cell_type": "code",
   "execution_count": 2,
   "id": "d56da17b",
   "metadata": {},
   "outputs": [],
   "source": [
    "import warnings\n",
    "warnings.filterwarnings(\"ignore\")"
   ]
  },
  {
   "cell_type": "code",
   "execution_count": 3,
   "id": "4c4cae70",
   "metadata": {},
   "outputs": [],
   "source": [
    "train = pd.read_csv(\"Train_Set_TVS.csv\")\n",
    "test = pd.read_csv(\"Test_Set_TVS.csv\")"
   ]
  },
  {
   "cell_type": "code",
   "execution_count": 4,
   "id": "56761c3a",
   "metadata": {},
   "outputs": [
    {
     "data": {
      "text/html": [
       "<div>\n",
       "<style scoped>\n",
       "    .dataframe tbody tr th:only-of-type {\n",
       "        vertical-align: middle;\n",
       "    }\n",
       "\n",
       "    .dataframe tbody tr th {\n",
       "        vertical-align: top;\n",
       "    }\n",
       "\n",
       "    .dataframe thead th {\n",
       "        text-align: right;\n",
       "    }\n",
       "</style>\n",
       "<table border=\"1\" class=\"dataframe\">\n",
       "  <thead>\n",
       "    <tr style=\"text-align: right;\">\n",
       "      <th></th>\n",
       "      <th>ID</th>\n",
       "      <th>Compensation</th>\n",
       "      <th>Vehicle_Status</th>\n",
       "      <th>Loan_amt</th>\n",
       "      <th>Annuity_amt</th>\n",
       "      <th>density_Ind</th>\n",
       "      <th>Job_Type</th>\n",
       "      <th>Default_hist</th>\n",
       "      <th>Prop_List</th>\n",
       "      <th>Home_Appliances</th>\n",
       "      <th>...</th>\n",
       "      <th>Region</th>\n",
       "      <th>Age</th>\n",
       "      <th>hour_Process</th>\n",
       "      <th>Addr_permanent</th>\n",
       "      <th>Permanent_Addr_tag</th>\n",
       "      <th>c1_rated</th>\n",
       "      <th>c2_rated</th>\n",
       "      <th>Contact_age</th>\n",
       "      <th>Product_bought</th>\n",
       "      <th>Default</th>\n",
       "    </tr>\n",
       "  </thead>\n",
       "  <tbody>\n",
       "    <tr>\n",
       "      <th>0</th>\n",
       "      <td>540071</td>\n",
       "      <td>801850.0</td>\n",
       "      <td>Y</td>\n",
       "      <td>658040.0</td>\n",
       "      <td>13816.52</td>\n",
       "      <td>0.0304</td>\n",
       "      <td>IT</td>\n",
       "      <td>ndf</td>\n",
       "      <td>Morethan_One</td>\n",
       "      <td>NaN</td>\n",
       "      <td>...</td>\n",
       "      <td>East</td>\n",
       "      <td>46.0</td>\n",
       "      <td>10.0</td>\n",
       "      <td>Yes</td>\n",
       "      <td>No</td>\n",
       "      <td>0.077</td>\n",
       "      <td>0.077</td>\n",
       "      <td>18.0</td>\n",
       "      <td>2.0</td>\n",
       "      <td>1.0</td>\n",
       "    </tr>\n",
       "    <tr>\n",
       "      <th>1</th>\n",
       "      <td>511643</td>\n",
       "      <td>884222.0</td>\n",
       "      <td>N</td>\n",
       "      <td>198075.0</td>\n",
       "      <td>11173.06</td>\n",
       "      <td>0.0194</td>\n",
       "      <td>IT</td>\n",
       "      <td>ndf</td>\n",
       "      <td>Morethan_One</td>\n",
       "      <td>1.0</td>\n",
       "      <td>...</td>\n",
       "      <td>North</td>\n",
       "      <td>46.0</td>\n",
       "      <td>12.0</td>\n",
       "      <td>Yes</td>\n",
       "      <td>Yes</td>\n",
       "      <td>0.184</td>\n",
       "      <td>0.184</td>\n",
       "      <td>306.0</td>\n",
       "      <td>4.0</td>\n",
       "      <td>0.0</td>\n",
       "    </tr>\n",
       "    <tr>\n",
       "      <th>2</th>\n",
       "      <td>506688</td>\n",
       "      <td>284120.0</td>\n",
       "      <td>N</td>\n",
       "      <td>101056.0</td>\n",
       "      <td>8390.40</td>\n",
       "      <td>0.0118</td>\n",
       "      <td>Govt.</td>\n",
       "      <td>ndf</td>\n",
       "      <td>One</td>\n",
       "      <td>4.0</td>\n",
       "      <td>...</td>\n",
       "      <td>North</td>\n",
       "      <td>57.0</td>\n",
       "      <td>5.0</td>\n",
       "      <td>Yes</td>\n",
       "      <td>Yes</td>\n",
       "      <td>0.538</td>\n",
       "      <td>0.538</td>\n",
       "      <td>281.0</td>\n",
       "      <td>4.0</td>\n",
       "      <td>0.0</td>\n",
       "    </tr>\n",
       "    <tr>\n",
       "      <th>3</th>\n",
       "      <td>499360</td>\n",
       "      <td>341874.0</td>\n",
       "      <td>N</td>\n",
       "      <td>179008.0</td>\n",
       "      <td>7184.13</td>\n",
       "      <td>0.0373</td>\n",
       "      <td>Non-IT</td>\n",
       "      <td>df</td>\n",
       "      <td>None</td>\n",
       "      <td>2.0</td>\n",
       "      <td>...</td>\n",
       "      <td>South</td>\n",
       "      <td>39.0</td>\n",
       "      <td>12.0</td>\n",
       "      <td>Yes</td>\n",
       "      <td>Yes</td>\n",
       "      <td>NaN</td>\n",
       "      <td>0.561</td>\n",
       "      <td>20.0</td>\n",
       "      <td>4.0</td>\n",
       "      <td>0.0</td>\n",
       "    </tr>\n",
       "    <tr>\n",
       "      <th>4</th>\n",
       "      <td>438350</td>\n",
       "      <td>1259895.0</td>\n",
       "      <td>Y</td>\n",
       "      <td>573715.0</td>\n",
       "      <td>13212.77</td>\n",
       "      <td>0.0138</td>\n",
       "      <td>Non-IT</td>\n",
       "      <td>ndf</td>\n",
       "      <td>Morethan_One</td>\n",
       "      <td>1.0</td>\n",
       "      <td>...</td>\n",
       "      <td>North</td>\n",
       "      <td>32.0</td>\n",
       "      <td>16.0</td>\n",
       "      <td>Yes</td>\n",
       "      <td>Yes</td>\n",
       "      <td>NaN</td>\n",
       "      <td>0.200</td>\n",
       "      <td>2339.0</td>\n",
       "      <td>6.0</td>\n",
       "      <td>0.0</td>\n",
       "    </tr>\n",
       "  </tbody>\n",
       "</table>\n",
       "<p>5 rows × 33 columns</p>\n",
       "</div>"
      ],
      "text/plain": [
       "       ID  Compensation Vehicle_Status  Loan_amt  Annuity_amt  density_Ind  \\\n",
       "0  540071      801850.0              Y  658040.0     13816.52       0.0304   \n",
       "1  511643      884222.0              N  198075.0     11173.06       0.0194   \n",
       "2  506688      284120.0              N  101056.0      8390.40       0.0118   \n",
       "3  499360      341874.0              N  179008.0      7184.13       0.0373   \n",
       "4  438350     1259895.0              Y  573715.0     13212.77       0.0138   \n",
       "\n",
       "  Job_Type Default_hist     Prop_List  Home_Appliances  ... Region   Age  \\\n",
       "0       IT          ndf  Morethan_One              NaN  ...   East  46.0   \n",
       "1       IT          ndf  Morethan_One              1.0  ...  North  46.0   \n",
       "2    Govt.          ndf           One              4.0  ...  North  57.0   \n",
       "3   Non-IT           df          None              2.0  ...  South  39.0   \n",
       "4   Non-IT          ndf  Morethan_One              1.0  ...  North  32.0   \n",
       "\n",
       "  hour_Process Addr_permanent Permanent_Addr_tag c1_rated  c2_rated  \\\n",
       "0         10.0            Yes                 No    0.077     0.077   \n",
       "1         12.0            Yes                Yes    0.184     0.184   \n",
       "2          5.0            Yes                Yes    0.538     0.538   \n",
       "3         12.0            Yes                Yes      NaN     0.561   \n",
       "4         16.0            Yes                Yes      NaN     0.200   \n",
       "\n",
       "  Contact_age Product_bought Default  \n",
       "0        18.0            2.0     1.0  \n",
       "1       306.0            4.0     0.0  \n",
       "2       281.0            4.0     0.0  \n",
       "3        20.0            4.0     0.0  \n",
       "4      2339.0            6.0     0.0  \n",
       "\n",
       "[5 rows x 33 columns]"
      ]
     },
     "execution_count": 4,
     "metadata": {},
     "output_type": "execute_result"
    }
   ],
   "source": [
    "train.head(5)"
   ]
  },
  {
   "cell_type": "code",
   "execution_count": 5,
   "id": "51c8d892",
   "metadata": {},
   "outputs": [
    {
     "data": {
      "text/html": [
       "<div>\n",
       "<style scoped>\n",
       "    .dataframe tbody tr th:only-of-type {\n",
       "        vertical-align: middle;\n",
       "    }\n",
       "\n",
       "    .dataframe tbody tr th {\n",
       "        vertical-align: top;\n",
       "    }\n",
       "\n",
       "    .dataframe thead th {\n",
       "        text-align: right;\n",
       "    }\n",
       "</style>\n",
       "<table border=\"1\" class=\"dataframe\">\n",
       "  <thead>\n",
       "    <tr style=\"text-align: right;\">\n",
       "      <th></th>\n",
       "      <th>ID</th>\n",
       "      <th>Compensation</th>\n",
       "      <th>Vehicle_Status</th>\n",
       "      <th>Loan_amt</th>\n",
       "      <th>Annuity_amt</th>\n",
       "      <th>density_Ind</th>\n",
       "      <th>Job_Type</th>\n",
       "      <th>Default_hist</th>\n",
       "      <th>Prop_List</th>\n",
       "      <th>Home_Appliances</th>\n",
       "      <th>...</th>\n",
       "      <th>Company_Rating</th>\n",
       "      <th>Region</th>\n",
       "      <th>Age</th>\n",
       "      <th>hour_Process</th>\n",
       "      <th>Addr_permanent</th>\n",
       "      <th>Permanent_Addr_tag</th>\n",
       "      <th>c1_rated</th>\n",
       "      <th>c2_rated</th>\n",
       "      <th>Contact_age</th>\n",
       "      <th>Product_bought</th>\n",
       "    </tr>\n",
       "  </thead>\n",
       "  <tbody>\n",
       "    <tr>\n",
       "      <th>0</th>\n",
       "      <td>487410</td>\n",
       "      <td>653106.0</td>\n",
       "      <td>Y</td>\n",
       "      <td>809400.00</td>\n",
       "      <td>9145.51</td>\n",
       "      <td>0.0015</td>\n",
       "      <td>Govt.</td>\n",
       "      <td>ndf</td>\n",
       "      <td>Morethan_One</td>\n",
       "      <td>1.0</td>\n",
       "      <td>...</td>\n",
       "      <td>2.0</td>\n",
       "      <td>North</td>\n",
       "      <td>39.0</td>\n",
       "      <td>11.0</td>\n",
       "      <td>Yes</td>\n",
       "      <td>Yes</td>\n",
       "      <td>0.349</td>\n",
       "      <td>0.349</td>\n",
       "      <td>3133.0</td>\n",
       "      <td>2.0</td>\n",
       "    </tr>\n",
       "    <tr>\n",
       "      <th>1</th>\n",
       "      <td>533258</td>\n",
       "      <td>434150.0</td>\n",
       "      <td>N</td>\n",
       "      <td>72618.75</td>\n",
       "      <td>7683.23</td>\n",
       "      <td>0.0332</td>\n",
       "      <td>Govt.</td>\n",
       "      <td>ndf</td>\n",
       "      <td>One</td>\n",
       "      <td>4.0</td>\n",
       "      <td>...</td>\n",
       "      <td>3.0</td>\n",
       "      <td>Central</td>\n",
       "      <td>46.0</td>\n",
       "      <td>13.0</td>\n",
       "      <td>Yes</td>\n",
       "      <td>Yes</td>\n",
       "      <td>0.237</td>\n",
       "      <td>0.237</td>\n",
       "      <td>1730.0</td>\n",
       "      <td>5.0</td>\n",
       "    </tr>\n",
       "    <tr>\n",
       "      <th>2</th>\n",
       "      <td>581926</td>\n",
       "      <td>489060.0</td>\n",
       "      <td>N</td>\n",
       "      <td>267255.80</td>\n",
       "      <td>9032.85</td>\n",
       "      <td>0.0316</td>\n",
       "      <td>IT</td>\n",
       "      <td>ndf</td>\n",
       "      <td>Morethan_One</td>\n",
       "      <td>NaN</td>\n",
       "      <td>...</td>\n",
       "      <td>2.0</td>\n",
       "      <td>South</td>\n",
       "      <td>33.0</td>\n",
       "      <td>15.0</td>\n",
       "      <td>Yes</td>\n",
       "      <td>Yes</td>\n",
       "      <td>0.111</td>\n",
       "      <td>0.111</td>\n",
       "      <td>759.0</td>\n",
       "      <td>4.0</td>\n",
       "    </tr>\n",
       "    <tr>\n",
       "      <th>3</th>\n",
       "      <td>486301</td>\n",
       "      <td>957294.0</td>\n",
       "      <td>N</td>\n",
       "      <td>623600.00</td>\n",
       "      <td>12838.25</td>\n",
       "      <td>0.0320</td>\n",
       "      <td>IT</td>\n",
       "      <td>ndf</td>\n",
       "      <td>One</td>\n",
       "      <td>4.0</td>\n",
       "      <td>...</td>\n",
       "      <td>2.0</td>\n",
       "      <td>East</td>\n",
       "      <td>48.0</td>\n",
       "      <td>12.0</td>\n",
       "      <td>Yes</td>\n",
       "      <td>Yes</td>\n",
       "      <td>0.323</td>\n",
       "      <td>0.323</td>\n",
       "      <td>609.0</td>\n",
       "      <td>4.0</td>\n",
       "    </tr>\n",
       "    <tr>\n",
       "      <th>4</th>\n",
       "      <td>580822</td>\n",
       "      <td>1333739.0</td>\n",
       "      <td>N</td>\n",
       "      <td>529520.00</td>\n",
       "      <td>11799.09</td>\n",
       "      <td>0.0073</td>\n",
       "      <td>Non-IT</td>\n",
       "      <td>ndf</td>\n",
       "      <td>One</td>\n",
       "      <td>4.0</td>\n",
       "      <td>...</td>\n",
       "      <td>3.0</td>\n",
       "      <td>North</td>\n",
       "      <td>53.0</td>\n",
       "      <td>7.0</td>\n",
       "      <td>Yes</td>\n",
       "      <td>Yes</td>\n",
       "      <td>0.940</td>\n",
       "      <td>0.940</td>\n",
       "      <td>1222.0</td>\n",
       "      <td>1.0</td>\n",
       "    </tr>\n",
       "  </tbody>\n",
       "</table>\n",
       "<p>5 rows × 32 columns</p>\n",
       "</div>"
      ],
      "text/plain": [
       "       ID  Compensation Vehicle_Status   Loan_amt  Annuity_amt  density_Ind  \\\n",
       "0  487410      653106.0              Y  809400.00      9145.51       0.0015   \n",
       "1  533258      434150.0              N   72618.75      7683.23       0.0332   \n",
       "2  581926      489060.0              N  267255.80      9032.85       0.0316   \n",
       "3  486301      957294.0              N  623600.00     12838.25       0.0320   \n",
       "4  580822     1333739.0              N  529520.00     11799.09       0.0073   \n",
       "\n",
       "  Job_Type Default_hist     Prop_List  Home_Appliances  ... Company_Rating  \\\n",
       "0    Govt.          ndf  Morethan_One              1.0  ...            2.0   \n",
       "1    Govt.          ndf           One              4.0  ...            3.0   \n",
       "2       IT          ndf  Morethan_One              NaN  ...            2.0   \n",
       "3       IT          ndf           One              4.0  ...            2.0   \n",
       "4   Non-IT          ndf           One              4.0  ...            3.0   \n",
       "\n",
       "    Region   Age hour_Process Addr_permanent Permanent_Addr_tag  c1_rated  \\\n",
       "0    North  39.0         11.0            Yes                Yes     0.349   \n",
       "1  Central  46.0         13.0            Yes                Yes     0.237   \n",
       "2    South  33.0         15.0            Yes                Yes     0.111   \n",
       "3     East  48.0         12.0            Yes                Yes     0.323   \n",
       "4    North  53.0          7.0            Yes                Yes     0.940   \n",
       "\n",
       "  c2_rated Contact_age Product_bought  \n",
       "0    0.349      3133.0            2.0  \n",
       "1    0.237      1730.0            5.0  \n",
       "2    0.111       759.0            4.0  \n",
       "3    0.323       609.0            4.0  \n",
       "4    0.940      1222.0            1.0  \n",
       "\n",
       "[5 rows x 32 columns]"
      ]
     },
     "execution_count": 5,
     "metadata": {},
     "output_type": "execute_result"
    }
   ],
   "source": [
    "test.head(5)"
   ]
  },
  {
   "cell_type": "code",
   "execution_count": 6,
   "id": "aa3c2ab8",
   "metadata": {},
   "outputs": [
    {
     "data": {
      "text/plain": [
       "((132440, 33), (56760, 32))"
      ]
     },
     "execution_count": 6,
     "metadata": {},
     "output_type": "execute_result"
    }
   ],
   "source": [
    "train.shape , test.shape"
   ]
  },
  {
   "cell_type": "code",
   "execution_count": 7,
   "id": "41bf2bf2",
   "metadata": {},
   "outputs": [
    {
     "data": {
      "text/plain": [
       "(189200, 33)"
      ]
     },
     "execution_count": 7,
     "metadata": {},
     "output_type": "execute_result"
    }
   ],
   "source": [
    "combi = pd.concat([train, test], ignore_index=True)\n",
    "combi.shape"
   ]
  },
  {
   "cell_type": "code",
   "execution_count": 8,
   "id": "987c2d21",
   "metadata": {},
   "outputs": [
    {
     "data": {
      "text/html": [
       "<div>\n",
       "<style scoped>\n",
       "    .dataframe tbody tr th:only-of-type {\n",
       "        vertical-align: middle;\n",
       "    }\n",
       "\n",
       "    .dataframe tbody tr th {\n",
       "        vertical-align: top;\n",
       "    }\n",
       "\n",
       "    .dataframe thead th {\n",
       "        text-align: right;\n",
       "    }\n",
       "</style>\n",
       "<table border=\"1\" class=\"dataframe\">\n",
       "  <thead>\n",
       "    <tr style=\"text-align: right;\">\n",
       "      <th></th>\n",
       "      <th>ID</th>\n",
       "      <th>Compensation</th>\n",
       "      <th>Vehicle_Status</th>\n",
       "      <th>Loan_amt</th>\n",
       "      <th>Annuity_amt</th>\n",
       "      <th>density_Ind</th>\n",
       "      <th>Job_Type</th>\n",
       "      <th>Default_hist</th>\n",
       "      <th>Prop_List</th>\n",
       "      <th>Home_Appliances</th>\n",
       "      <th>...</th>\n",
       "      <th>Region</th>\n",
       "      <th>Age</th>\n",
       "      <th>hour_Process</th>\n",
       "      <th>Addr_permanent</th>\n",
       "      <th>Permanent_Addr_tag</th>\n",
       "      <th>c1_rated</th>\n",
       "      <th>c2_rated</th>\n",
       "      <th>Contact_age</th>\n",
       "      <th>Product_bought</th>\n",
       "      <th>Default</th>\n",
       "    </tr>\n",
       "  </thead>\n",
       "  <tbody>\n",
       "    <tr>\n",
       "      <th>0</th>\n",
       "      <td>540071</td>\n",
       "      <td>801850.0</td>\n",
       "      <td>Y</td>\n",
       "      <td>658040.0</td>\n",
       "      <td>13816.52</td>\n",
       "      <td>0.0304</td>\n",
       "      <td>IT</td>\n",
       "      <td>ndf</td>\n",
       "      <td>Morethan_One</td>\n",
       "      <td>NaN</td>\n",
       "      <td>...</td>\n",
       "      <td>East</td>\n",
       "      <td>46.0</td>\n",
       "      <td>10.0</td>\n",
       "      <td>Yes</td>\n",
       "      <td>No</td>\n",
       "      <td>0.077</td>\n",
       "      <td>0.077</td>\n",
       "      <td>18.0</td>\n",
       "      <td>2.0</td>\n",
       "      <td>1.0</td>\n",
       "    </tr>\n",
       "    <tr>\n",
       "      <th>1</th>\n",
       "      <td>511643</td>\n",
       "      <td>884222.0</td>\n",
       "      <td>N</td>\n",
       "      <td>198075.0</td>\n",
       "      <td>11173.06</td>\n",
       "      <td>0.0194</td>\n",
       "      <td>IT</td>\n",
       "      <td>ndf</td>\n",
       "      <td>Morethan_One</td>\n",
       "      <td>1.0</td>\n",
       "      <td>...</td>\n",
       "      <td>North</td>\n",
       "      <td>46.0</td>\n",
       "      <td>12.0</td>\n",
       "      <td>Yes</td>\n",
       "      <td>Yes</td>\n",
       "      <td>0.184</td>\n",
       "      <td>0.184</td>\n",
       "      <td>306.0</td>\n",
       "      <td>4.0</td>\n",
       "      <td>0.0</td>\n",
       "    </tr>\n",
       "    <tr>\n",
       "      <th>2</th>\n",
       "      <td>506688</td>\n",
       "      <td>284120.0</td>\n",
       "      <td>N</td>\n",
       "      <td>101056.0</td>\n",
       "      <td>8390.40</td>\n",
       "      <td>0.0118</td>\n",
       "      <td>Govt.</td>\n",
       "      <td>ndf</td>\n",
       "      <td>One</td>\n",
       "      <td>4.0</td>\n",
       "      <td>...</td>\n",
       "      <td>North</td>\n",
       "      <td>57.0</td>\n",
       "      <td>5.0</td>\n",
       "      <td>Yes</td>\n",
       "      <td>Yes</td>\n",
       "      <td>0.538</td>\n",
       "      <td>0.538</td>\n",
       "      <td>281.0</td>\n",
       "      <td>4.0</td>\n",
       "      <td>0.0</td>\n",
       "    </tr>\n",
       "    <tr>\n",
       "      <th>3</th>\n",
       "      <td>499360</td>\n",
       "      <td>341874.0</td>\n",
       "      <td>N</td>\n",
       "      <td>179008.0</td>\n",
       "      <td>7184.13</td>\n",
       "      <td>0.0373</td>\n",
       "      <td>Non-IT</td>\n",
       "      <td>df</td>\n",
       "      <td>None</td>\n",
       "      <td>2.0</td>\n",
       "      <td>...</td>\n",
       "      <td>South</td>\n",
       "      <td>39.0</td>\n",
       "      <td>12.0</td>\n",
       "      <td>Yes</td>\n",
       "      <td>Yes</td>\n",
       "      <td>NaN</td>\n",
       "      <td>0.561</td>\n",
       "      <td>20.0</td>\n",
       "      <td>4.0</td>\n",
       "      <td>0.0</td>\n",
       "    </tr>\n",
       "    <tr>\n",
       "      <th>4</th>\n",
       "      <td>438350</td>\n",
       "      <td>1259895.0</td>\n",
       "      <td>Y</td>\n",
       "      <td>573715.0</td>\n",
       "      <td>13212.77</td>\n",
       "      <td>0.0138</td>\n",
       "      <td>Non-IT</td>\n",
       "      <td>ndf</td>\n",
       "      <td>Morethan_One</td>\n",
       "      <td>1.0</td>\n",
       "      <td>...</td>\n",
       "      <td>North</td>\n",
       "      <td>32.0</td>\n",
       "      <td>16.0</td>\n",
       "      <td>Yes</td>\n",
       "      <td>Yes</td>\n",
       "      <td>NaN</td>\n",
       "      <td>0.200</td>\n",
       "      <td>2339.0</td>\n",
       "      <td>6.0</td>\n",
       "      <td>0.0</td>\n",
       "    </tr>\n",
       "  </tbody>\n",
       "</table>\n",
       "<p>5 rows × 33 columns</p>\n",
       "</div>"
      ],
      "text/plain": [
       "       ID  Compensation Vehicle_Status  Loan_amt  Annuity_amt  density_Ind  \\\n",
       "0  540071      801850.0              Y  658040.0     13816.52       0.0304   \n",
       "1  511643      884222.0              N  198075.0     11173.06       0.0194   \n",
       "2  506688      284120.0              N  101056.0      8390.40       0.0118   \n",
       "3  499360      341874.0              N  179008.0      7184.13       0.0373   \n",
       "4  438350     1259895.0              Y  573715.0     13212.77       0.0138   \n",
       "\n",
       "  Job_Type Default_hist     Prop_List  Home_Appliances  ... Region   Age  \\\n",
       "0       IT          ndf  Morethan_One              NaN  ...   East  46.0   \n",
       "1       IT          ndf  Morethan_One              1.0  ...  North  46.0   \n",
       "2    Govt.          ndf           One              4.0  ...  North  57.0   \n",
       "3   Non-IT           df          None              2.0  ...  South  39.0   \n",
       "4   Non-IT          ndf  Morethan_One              1.0  ...  North  32.0   \n",
       "\n",
       "  hour_Process Addr_permanent Permanent_Addr_tag c1_rated  c2_rated  \\\n",
       "0         10.0            Yes                 No    0.077     0.077   \n",
       "1         12.0            Yes                Yes    0.184     0.184   \n",
       "2          5.0            Yes                Yes    0.538     0.538   \n",
       "3         12.0            Yes                Yes      NaN     0.561   \n",
       "4         16.0            Yes                Yes      NaN     0.200   \n",
       "\n",
       "  Contact_age Product_bought Default  \n",
       "0        18.0            2.0     1.0  \n",
       "1       306.0            4.0     0.0  \n",
       "2       281.0            4.0     0.0  \n",
       "3        20.0            4.0     0.0  \n",
       "4      2339.0            6.0     0.0  \n",
       "\n",
       "[5 rows x 33 columns]"
      ]
     },
     "execution_count": 8,
     "metadata": {},
     "output_type": "execute_result"
    }
   ],
   "source": [
    "combi.head(5)"
   ]
  },
  {
   "cell_type": "code",
   "execution_count": 9,
   "id": "04230307",
   "metadata": {},
   "outputs": [
    {
     "data": {
      "text/html": [
       "<div>\n",
       "<style scoped>\n",
       "    .dataframe tbody tr th:only-of-type {\n",
       "        vertical-align: middle;\n",
       "    }\n",
       "\n",
       "    .dataframe tbody tr th {\n",
       "        vertical-align: top;\n",
       "    }\n",
       "\n",
       "    .dataframe thead th {\n",
       "        text-align: right;\n",
       "    }\n",
       "</style>\n",
       "<table border=\"1\" class=\"dataframe\">\n",
       "  <thead>\n",
       "    <tr style=\"text-align: right;\">\n",
       "      <th></th>\n",
       "      <th>ID</th>\n",
       "      <th>Compensation</th>\n",
       "      <th>Vehicle_Status</th>\n",
       "      <th>Loan_amt</th>\n",
       "      <th>Annuity_amt</th>\n",
       "      <th>density_Ind</th>\n",
       "      <th>Job_Type</th>\n",
       "      <th>Default_hist</th>\n",
       "      <th>Prop_List</th>\n",
       "      <th>Home_Appliances</th>\n",
       "      <th>...</th>\n",
       "      <th>Region</th>\n",
       "      <th>Age</th>\n",
       "      <th>hour_Process</th>\n",
       "      <th>Addr_permanent</th>\n",
       "      <th>Permanent_Addr_tag</th>\n",
       "      <th>c1_rated</th>\n",
       "      <th>c2_rated</th>\n",
       "      <th>Contact_age</th>\n",
       "      <th>Product_bought</th>\n",
       "      <th>Default</th>\n",
       "    </tr>\n",
       "  </thead>\n",
       "  <tbody>\n",
       "    <tr>\n",
       "      <th>189195</th>\n",
       "      <td>513665</td>\n",
       "      <td>671640.0</td>\n",
       "      <td>N</td>\n",
       "      <td>260085.0</td>\n",
       "      <td>9654.50</td>\n",
       "      <td>0.0050</td>\n",
       "      <td>IT</td>\n",
       "      <td>ndf</td>\n",
       "      <td>One</td>\n",
       "      <td>4.0</td>\n",
       "      <td>...</td>\n",
       "      <td>North</td>\n",
       "      <td>42.0</td>\n",
       "      <td>11.0</td>\n",
       "      <td>Yes</td>\n",
       "      <td>Yes</td>\n",
       "      <td>0.716</td>\n",
       "      <td>0.716</td>\n",
       "      <td>215.0</td>\n",
       "      <td>7.0</td>\n",
       "      <td>NaN</td>\n",
       "    </tr>\n",
       "    <tr>\n",
       "      <th>189196</th>\n",
       "      <td>450327</td>\n",
       "      <td>650680.0</td>\n",
       "      <td>N</td>\n",
       "      <td>714467.6</td>\n",
       "      <td>14063.75</td>\n",
       "      <td>0.0321</td>\n",
       "      <td>NaN</td>\n",
       "      <td>ndf</td>\n",
       "      <td>One</td>\n",
       "      <td>NaN</td>\n",
       "      <td>...</td>\n",
       "      <td>East</td>\n",
       "      <td>47.0</td>\n",
       "      <td>9.0</td>\n",
       "      <td>Yes</td>\n",
       "      <td>Yes</td>\n",
       "      <td>NaN</td>\n",
       "      <td>0.193</td>\n",
       "      <td>22.0</td>\n",
       "      <td>0.0</td>\n",
       "      <td>NaN</td>\n",
       "    </tr>\n",
       "    <tr>\n",
       "      <th>189197</th>\n",
       "      <td>476417</td>\n",
       "      <td>551374.0</td>\n",
       "      <td>NaN</td>\n",
       "      <td>231420.0</td>\n",
       "      <td>11299.78</td>\n",
       "      <td>0.0334</td>\n",
       "      <td>Govt.</td>\n",
       "      <td>df</td>\n",
       "      <td>None</td>\n",
       "      <td>2.0</td>\n",
       "      <td>...</td>\n",
       "      <td>East</td>\n",
       "      <td>35.0</td>\n",
       "      <td>10.0</td>\n",
       "      <td>No</td>\n",
       "      <td>Yes</td>\n",
       "      <td>0.175</td>\n",
       "      <td>0.175</td>\n",
       "      <td>776.0</td>\n",
       "      <td>5.0</td>\n",
       "      <td>NaN</td>\n",
       "    </tr>\n",
       "    <tr>\n",
       "      <th>189198</th>\n",
       "      <td>461152</td>\n",
       "      <td>975117.0</td>\n",
       "      <td>N</td>\n",
       "      <td>1096620.0</td>\n",
       "      <td>10223.30</td>\n",
       "      <td>0.0052</td>\n",
       "      <td>IT</td>\n",
       "      <td>ndf</td>\n",
       "      <td>One</td>\n",
       "      <td>4.0</td>\n",
       "      <td>...</td>\n",
       "      <td>North</td>\n",
       "      <td>22.0</td>\n",
       "      <td>13.0</td>\n",
       "      <td>Yes</td>\n",
       "      <td>No</td>\n",
       "      <td>0.669</td>\n",
       "      <td>0.669</td>\n",
       "      <td>873.0</td>\n",
       "      <td>3.0</td>\n",
       "      <td>NaN</td>\n",
       "    </tr>\n",
       "    <tr>\n",
       "      <th>189199</th>\n",
       "      <td>524075</td>\n",
       "      <td>NaN</td>\n",
       "      <td>N</td>\n",
       "      <td>197232.0</td>\n",
       "      <td>12178.59</td>\n",
       "      <td>0.0155</td>\n",
       "      <td>IT</td>\n",
       "      <td>ndf</td>\n",
       "      <td>One</td>\n",
       "      <td>4.0</td>\n",
       "      <td>...</td>\n",
       "      <td>East</td>\n",
       "      <td>39.0</td>\n",
       "      <td>11.0</td>\n",
       "      <td>Yes</td>\n",
       "      <td>No</td>\n",
       "      <td>0.237</td>\n",
       "      <td>0.237</td>\n",
       "      <td>NaN</td>\n",
       "      <td>2.0</td>\n",
       "      <td>NaN</td>\n",
       "    </tr>\n",
       "  </tbody>\n",
       "</table>\n",
       "<p>5 rows × 33 columns</p>\n",
       "</div>"
      ],
      "text/plain": [
       "            ID  Compensation Vehicle_Status   Loan_amt  Annuity_amt  \\\n",
       "189195  513665      671640.0              N   260085.0      9654.50   \n",
       "189196  450327      650680.0              N   714467.6     14063.75   \n",
       "189197  476417      551374.0            NaN   231420.0     11299.78   \n",
       "189198  461152      975117.0              N  1096620.0     10223.30   \n",
       "189199  524075           NaN              N   197232.0     12178.59   \n",
       "\n",
       "        density_Ind Job_Type Default_hist Prop_List  Home_Appliances  ...  \\\n",
       "189195       0.0050       IT          ndf       One              4.0  ...   \n",
       "189196       0.0321      NaN          ndf       One              NaN  ...   \n",
       "189197       0.0334    Govt.           df      None              2.0  ...   \n",
       "189198       0.0052       IT          ndf       One              4.0  ...   \n",
       "189199       0.0155       IT          ndf       One              4.0  ...   \n",
       "\n",
       "       Region   Age hour_Process Addr_permanent Permanent_Addr_tag c1_rated  \\\n",
       "189195  North  42.0         11.0            Yes                Yes    0.716   \n",
       "189196   East  47.0          9.0            Yes                Yes      NaN   \n",
       "189197   East  35.0         10.0             No                Yes    0.175   \n",
       "189198  North  22.0         13.0            Yes                 No    0.669   \n",
       "189199   East  39.0         11.0            Yes                 No    0.237   \n",
       "\n",
       "        c2_rated Contact_age Product_bought Default  \n",
       "189195     0.716       215.0            7.0     NaN  \n",
       "189196     0.193        22.0            0.0     NaN  \n",
       "189197     0.175       776.0            5.0     NaN  \n",
       "189198     0.669       873.0            3.0     NaN  \n",
       "189199     0.237         NaN            2.0     NaN  \n",
       "\n",
       "[5 rows x 33 columns]"
      ]
     },
     "execution_count": 9,
     "metadata": {},
     "output_type": "execute_result"
    }
   ],
   "source": [
    "combi.tail(5)"
   ]
  },
  {
   "cell_type": "code",
   "execution_count": 10,
   "id": "9e474905",
   "metadata": {},
   "outputs": [
    {
     "data": {
      "text/plain": [
       "(189200,)"
      ]
     },
     "execution_count": 10,
     "metadata": {},
     "output_type": "execute_result"
    }
   ],
   "source": [
    "combi.ID.unique().shape"
   ]
  },
  {
   "cell_type": "code",
   "execution_count": 11,
   "id": "d78a0fe3",
   "metadata": {},
   "outputs": [
    {
     "data": {
      "text/plain": [
       "ID                      int64\n",
       "Compensation          float64\n",
       "Vehicle_Status         object\n",
       "Loan_amt              float64\n",
       "Annuity_amt           float64\n",
       "density_Ind           float64\n",
       "Job_Type               object\n",
       "Default_hist           object\n",
       "Prop_List              object\n",
       "Home_Appliances       float64\n",
       "Region_Type            object\n",
       "Credit_Inq             object\n",
       "Education_det          object\n",
       "Marital_Stat           object\n",
       "Gen                    object\n",
       "Credit_Lnks            object\n",
       "Experience            float64\n",
       "Income_Alt             object\n",
       "Day_Process            object\n",
       "Ph.No                  object\n",
       "Type_Loan              object\n",
       "Dependents            float64\n",
       "Company_Rating        float64\n",
       "Region                 object\n",
       "Age                   float64\n",
       "hour_Process          float64\n",
       "Addr_permanent         object\n",
       "Permanent_Addr_tag     object\n",
       "c1_rated              float64\n",
       "c2_rated              float64\n",
       "Contact_age           float64\n",
       "Product_bought        float64\n",
       "Default               float64\n",
       "dtype: object"
      ]
     },
     "execution_count": 11,
     "metadata": {},
     "output_type": "execute_result"
    }
   ],
   "source": [
    "combi.dtypes"
   ]
  },
  {
   "cell_type": "code",
   "execution_count": 12,
   "id": "7a749400",
   "metadata": {},
   "outputs": [
    {
     "data": {
      "text/plain": [
       "ID                        0\n",
       "Compensation           8992\n",
       "Vehicle_Status        12987\n",
       "Loan_amt                  0\n",
       "Annuity_amt            6574\n",
       "density_Ind            7691\n",
       "Job_Type              14568\n",
       "Default_hist              0\n",
       "Prop_List              2876\n",
       "Home_Appliances       15723\n",
       "Region_Type               0\n",
       "Credit_Inq             3856\n",
       "Education_det             0\n",
       "Marital_Stat              0\n",
       "Gen                       0\n",
       "Credit_Lnks               0\n",
       "Experience            31196\n",
       "Income_Alt            10981\n",
       "Day_Process               0\n",
       "Ph.No                     0\n",
       "Type_Loan                 0\n",
       "Dependents                0\n",
       "Company_Rating        16784\n",
       "Region                    0\n",
       "Age                       0\n",
       "hour_Process              0\n",
       "Addr_permanent            0\n",
       "Permanent_Addr_tag        0\n",
       "c1_rated              24876\n",
       "c2_rated              18976\n",
       "Contact_age           11675\n",
       "Product_bought            0\n",
       "Default               56760\n",
       "dtype: int64"
      ]
     },
     "execution_count": 12,
     "metadata": {},
     "output_type": "execute_result"
    }
   ],
   "source": [
    "combi.isna().sum()"
   ]
  },
  {
   "cell_type": "code",
   "execution_count": 13,
   "id": "25a93a05",
   "metadata": {},
   "outputs": [],
   "source": [
    "combi.drop(\"ID\" , axis=1 , inplace = True)"
   ]
  },
  {
   "cell_type": "code",
   "execution_count": 14,
   "id": "ec03a985",
   "metadata": {},
   "outputs": [],
   "source": [
    "df_num = combi.select_dtypes(np.number)"
   ]
  },
  {
   "cell_type": "code",
   "execution_count": 15,
   "id": "88d4abea",
   "metadata": {},
   "outputs": [],
   "source": [
    "df_num.drop(\"Default\" , axis=1 , inplace= True)"
   ]
  },
  {
   "cell_type": "code",
   "execution_count": 16,
   "id": "1396a9ac",
   "metadata": {},
   "outputs": [
    {
     "data": {
      "text/html": [
       "<div>\n",
       "<style scoped>\n",
       "    .dataframe tbody tr th:only-of-type {\n",
       "        vertical-align: middle;\n",
       "    }\n",
       "\n",
       "    .dataframe tbody tr th {\n",
       "        vertical-align: top;\n",
       "    }\n",
       "\n",
       "    .dataframe thead th {\n",
       "        text-align: right;\n",
       "    }\n",
       "</style>\n",
       "<table border=\"1\" class=\"dataframe\">\n",
       "  <thead>\n",
       "    <tr style=\"text-align: right;\">\n",
       "      <th></th>\n",
       "      <th>Compensation</th>\n",
       "      <th>Loan_amt</th>\n",
       "      <th>Annuity_amt</th>\n",
       "      <th>density_Ind</th>\n",
       "      <th>Home_Appliances</th>\n",
       "      <th>Experience</th>\n",
       "      <th>Dependents</th>\n",
       "      <th>Company_Rating</th>\n",
       "      <th>Age</th>\n",
       "      <th>hour_Process</th>\n",
       "      <th>c1_rated</th>\n",
       "      <th>c2_rated</th>\n",
       "      <th>Contact_age</th>\n",
       "      <th>Product_bought</th>\n",
       "    </tr>\n",
       "  </thead>\n",
       "  <tbody>\n",
       "    <tr>\n",
       "      <th>0</th>\n",
       "      <td>801850.0</td>\n",
       "      <td>658040.0</td>\n",
       "      <td>13816.52</td>\n",
       "      <td>0.0304</td>\n",
       "      <td>NaN</td>\n",
       "      <td>0.9</td>\n",
       "      <td>3.0</td>\n",
       "      <td>2.0</td>\n",
       "      <td>46.0</td>\n",
       "      <td>10.0</td>\n",
       "      <td>0.077</td>\n",
       "      <td>0.077</td>\n",
       "      <td>18.0</td>\n",
       "      <td>2.0</td>\n",
       "    </tr>\n",
       "    <tr>\n",
       "      <th>1</th>\n",
       "      <td>884222.0</td>\n",
       "      <td>198075.0</td>\n",
       "      <td>11173.06</td>\n",
       "      <td>0.0194</td>\n",
       "      <td>1.0</td>\n",
       "      <td>3.0</td>\n",
       "      <td>3.0</td>\n",
       "      <td>1.0</td>\n",
       "      <td>46.0</td>\n",
       "      <td>12.0</td>\n",
       "      <td>0.184</td>\n",
       "      <td>0.184</td>\n",
       "      <td>306.0</td>\n",
       "      <td>4.0</td>\n",
       "    </tr>\n",
       "    <tr>\n",
       "      <th>2</th>\n",
       "      <td>284120.0</td>\n",
       "      <td>101056.0</td>\n",
       "      <td>8390.40</td>\n",
       "      <td>0.0118</td>\n",
       "      <td>4.0</td>\n",
       "      <td>NaN</td>\n",
       "      <td>2.0</td>\n",
       "      <td>3.0</td>\n",
       "      <td>57.0</td>\n",
       "      <td>5.0</td>\n",
       "      <td>0.538</td>\n",
       "      <td>0.538</td>\n",
       "      <td>281.0</td>\n",
       "      <td>4.0</td>\n",
       "    </tr>\n",
       "    <tr>\n",
       "      <th>3</th>\n",
       "      <td>341874.0</td>\n",
       "      <td>179008.0</td>\n",
       "      <td>7184.13</td>\n",
       "      <td>0.0373</td>\n",
       "      <td>2.0</td>\n",
       "      <td>4.7</td>\n",
       "      <td>4.0</td>\n",
       "      <td>2.0</td>\n",
       "      <td>39.0</td>\n",
       "      <td>12.0</td>\n",
       "      <td>NaN</td>\n",
       "      <td>0.561</td>\n",
       "      <td>20.0</td>\n",
       "      <td>4.0</td>\n",
       "    </tr>\n",
       "    <tr>\n",
       "      <th>4</th>\n",
       "      <td>1259895.0</td>\n",
       "      <td>573715.0</td>\n",
       "      <td>13212.77</td>\n",
       "      <td>0.0138</td>\n",
       "      <td>1.0</td>\n",
       "      <td>6.9</td>\n",
       "      <td>3.0</td>\n",
       "      <td>1.0</td>\n",
       "      <td>32.0</td>\n",
       "      <td>16.0</td>\n",
       "      <td>NaN</td>\n",
       "      <td>0.200</td>\n",
       "      <td>2339.0</td>\n",
       "      <td>6.0</td>\n",
       "    </tr>\n",
       "  </tbody>\n",
       "</table>\n",
       "</div>"
      ],
      "text/plain": [
       "   Compensation  Loan_amt  Annuity_amt  density_Ind  Home_Appliances  \\\n",
       "0      801850.0  658040.0     13816.52       0.0304              NaN   \n",
       "1      884222.0  198075.0     11173.06       0.0194              1.0   \n",
       "2      284120.0  101056.0      8390.40       0.0118              4.0   \n",
       "3      341874.0  179008.0      7184.13       0.0373              2.0   \n",
       "4     1259895.0  573715.0     13212.77       0.0138              1.0   \n",
       "\n",
       "   Experience  Dependents  Company_Rating   Age  hour_Process  c1_rated  \\\n",
       "0         0.9         3.0             2.0  46.0          10.0     0.077   \n",
       "1         3.0         3.0             1.0  46.0          12.0     0.184   \n",
       "2         NaN         2.0             3.0  57.0           5.0     0.538   \n",
       "3         4.7         4.0             2.0  39.0          12.0       NaN   \n",
       "4         6.9         3.0             1.0  32.0          16.0       NaN   \n",
       "\n",
       "   c2_rated  Contact_age  Product_bought  \n",
       "0     0.077         18.0             2.0  \n",
       "1     0.184        306.0             4.0  \n",
       "2     0.538        281.0             4.0  \n",
       "3     0.561         20.0             4.0  \n",
       "4     0.200       2339.0             6.0  "
      ]
     },
     "execution_count": 16,
     "metadata": {},
     "output_type": "execute_result"
    }
   ],
   "source": [
    "df_num.head(5)"
   ]
  },
  {
   "cell_type": "code",
   "execution_count": 17,
   "id": "fc3dba07",
   "metadata": {},
   "outputs": [
    {
     "data": {
      "image/png": "[encoded data removed]",
      "text/plain": [
       "<Figure size 1440x720 with 14 Axes>"
      ]
     },
     "metadata": {
      "needs_background": "light"
     },
     "output_type": "display_data"
    }
   ],
   "source": [
    "plt.figure(figsize =(20,10))\n",
    "a=3\n",
    "b=5\n",
    "c=1\n",
    "for i in df_num:\n",
    "    plt.subplot(a,b,c)\n",
    "    sns.histplot(df_num[i])\n",
    "    c=c+1\n",
    "        "
   ]
  },
  {
   "cell_type": "code",
   "execution_count": 18,
   "id": "1b445ae1",
   "metadata": {},
   "outputs": [],
   "source": [
    "df_cat = combi.select_dtypes(object)"
   ]
  },
  {
   "cell_type": "code",
   "execution_count": 19,
   "id": "ec9d2e2f",
   "metadata": {},
   "outputs": [
    {
     "data": {
      "text/html": [
       "<div>\n",
       "<style scoped>\n",
       "    .dataframe tbody tr th:only-of-type {\n",
       "        vertical-align: middle;\n",
       "    }\n",
       "\n",
       "    .dataframe tbody tr th {\n",
       "        vertical-align: top;\n",
       "    }\n",
       "\n",
       "    .dataframe thead th {\n",
       "        text-align: right;\n",
       "    }\n",
       "</style>\n",
       "<table border=\"1\" class=\"dataframe\">\n",
       "  <thead>\n",
       "    <tr style=\"text-align: right;\">\n",
       "      <th></th>\n",
       "      <th>Vehicle_Status</th>\n",
       "      <th>Job_Type</th>\n",
       "      <th>Default_hist</th>\n",
       "      <th>Prop_List</th>\n",
       "      <th>Region_Type</th>\n",
       "      <th>Credit_Inq</th>\n",
       "      <th>Education_det</th>\n",
       "      <th>Marital_Stat</th>\n",
       "      <th>Gen</th>\n",
       "      <th>Credit_Lnks</th>\n",
       "      <th>Income_Alt</th>\n",
       "      <th>Day_Process</th>\n",
       "      <th>Ph.No</th>\n",
       "      <th>Type_Loan</th>\n",
       "      <th>Region</th>\n",
       "      <th>Addr_permanent</th>\n",
       "      <th>Permanent_Addr_tag</th>\n",
       "    </tr>\n",
       "  </thead>\n",
       "  <tbody>\n",
       "    <tr>\n",
       "      <th>0</th>\n",
       "      <td>Y</td>\n",
       "      <td>IT</td>\n",
       "      <td>ndf</td>\n",
       "      <td>Morethan_One</td>\n",
       "      <td>Metro</td>\n",
       "      <td>1</td>\n",
       "      <td>Grad</td>\n",
       "      <td>Married</td>\n",
       "      <td>F</td>\n",
       "      <td>1_to_3</td>\n",
       "      <td>Not_Specified</td>\n",
       "      <td>SAT</td>\n",
       "      <td>Yes</td>\n",
       "      <td>CLoan</td>\n",
       "      <td>East</td>\n",
       "      <td>Yes</td>\n",
       "      <td>No</td>\n",
       "    </tr>\n",
       "    <tr>\n",
       "      <th>1</th>\n",
       "      <td>N</td>\n",
       "      <td>IT</td>\n",
       "      <td>ndf</td>\n",
       "      <td>Morethan_One</td>\n",
       "      <td>Metro</td>\n",
       "      <td>2</td>\n",
       "      <td>Grad</td>\n",
       "      <td>Married</td>\n",
       "      <td>M</td>\n",
       "      <td>1_to_3</td>\n",
       "      <td>Not_Specified</td>\n",
       "      <td>wed</td>\n",
       "      <td>Yes</td>\n",
       "      <td>CLoan</td>\n",
       "      <td>North</td>\n",
       "      <td>Yes</td>\n",
       "      <td>Yes</td>\n",
       "    </tr>\n",
       "    <tr>\n",
       "      <th>2</th>\n",
       "      <td>N</td>\n",
       "      <td>Govt.</td>\n",
       "      <td>ndf</td>\n",
       "      <td>One</td>\n",
       "      <td>Metro</td>\n",
       "      <td>3</td>\n",
       "      <td>Other</td>\n",
       "      <td>Married</td>\n",
       "      <td>M</td>\n",
       "      <td>1_to_3</td>\n",
       "      <td>Not_Specified</td>\n",
       "      <td>mon</td>\n",
       "      <td>Yes</td>\n",
       "      <td>CLoan</td>\n",
       "      <td>North</td>\n",
       "      <td>Yes</td>\n",
       "      <td>Yes</td>\n",
       "    </tr>\n",
       "    <tr>\n",
       "      <th>3</th>\n",
       "      <td>N</td>\n",
       "      <td>Non-IT</td>\n",
       "      <td>df</td>\n",
       "      <td>None</td>\n",
       "      <td>Metro</td>\n",
       "      <td>1</td>\n",
       "      <td>Grad</td>\n",
       "      <td>Married</td>\n",
       "      <td>M</td>\n",
       "      <td>1_to_3</td>\n",
       "      <td>Not_Specified</td>\n",
       "      <td>wed</td>\n",
       "      <td>Yes</td>\n",
       "      <td>RLoan</td>\n",
       "      <td>South</td>\n",
       "      <td>Yes</td>\n",
       "      <td>Yes</td>\n",
       "    </tr>\n",
       "    <tr>\n",
       "      <th>4</th>\n",
       "      <td>Y</td>\n",
       "      <td>Non-IT</td>\n",
       "      <td>ndf</td>\n",
       "      <td>Morethan_One</td>\n",
       "      <td>Rural</td>\n",
       "      <td>2</td>\n",
       "      <td>Grad</td>\n",
       "      <td>Married</td>\n",
       "      <td>F</td>\n",
       "      <td>4_to_6</td>\n",
       "      <td>Y</td>\n",
       "      <td>Sun</td>\n",
       "      <td>Yes</td>\n",
       "      <td>CLoan</td>\n",
       "      <td>North</td>\n",
       "      <td>Yes</td>\n",
       "      <td>Yes</td>\n",
       "    </tr>\n",
       "  </tbody>\n",
       "</table>\n",
       "</div>"
      ],
      "text/plain": [
       "  Vehicle_Status Job_Type Default_hist     Prop_List Region_Type Credit_Inq  \\\n",
       "0              Y       IT          ndf  Morethan_One       Metro          1   \n",
       "1              N       IT          ndf  Morethan_One       Metro          2   \n",
       "2              N    Govt.          ndf           One       Metro          3   \n",
       "3              N   Non-IT           df          None       Metro          1   \n",
       "4              Y   Non-IT          ndf  Morethan_One       Rural          2   \n",
       "\n",
       "  Education_det Marital_Stat Gen Credit_Lnks     Income_Alt Day_Process Ph.No  \\\n",
       "0          Grad      Married   F      1_to_3  Not_Specified         SAT   Yes   \n",
       "1          Grad      Married   M      1_to_3  Not_Specified         wed   Yes   \n",
       "2         Other      Married   M      1_to_3  Not_Specified         mon   Yes   \n",
       "3          Grad      Married   M      1_to_3  Not_Specified         wed   Yes   \n",
       "4          Grad      Married   F      4_to_6              Y         Sun   Yes   \n",
       "\n",
       "  Type_Loan Region Addr_permanent Permanent_Addr_tag  \n",
       "0     CLoan   East            Yes                 No  \n",
       "1     CLoan  North            Yes                Yes  \n",
       "2     CLoan  North            Yes                Yes  \n",
       "3     RLoan  South            Yes                Yes  \n",
       "4     CLoan  North            Yes                Yes  "
      ]
     },
     "execution_count": 19,
     "metadata": {},
     "output_type": "execute_result"
    }
   ],
   "source": [
    "df_cat.head(5)"
   ]
  },
  {
   "cell_type": "code",
   "execution_count": 20,
   "id": "396318a3",
   "metadata": {},
   "outputs": [
    {
     "data": {
      "image/png": "[encoded data removed]",
      "text/plain": [
       "<Figure size 1440x1440 with 17 Axes>"
      ]
     },
     "metadata": {
      "needs_background": "light"
     },
     "output_type": "display_data"
    }
   ],
   "source": [
    "plt.figure(figsize =(20,20))\n",
    "a=5\n",
    "b=4\n",
    "c=1\n",
    "for i in df_cat:\n",
    "    plt.subplot(a,b,c)\n",
    "    sns.countplot(df_cat[i])\n",
    "    c=c+1\n",
    "        "
   ]
  },
  {
   "cell_type": "code",
   "execution_count": 21,
   "id": "980d9079",
   "metadata": {},
   "outputs": [
    {
     "data": {
      "text/plain": [
       "<AxesSubplot:>"
      ]
     },
     "execution_count": 21,
     "metadata": {},
     "output_type": "execute_result"
    },
    {
     "data": {
      "image/png": "[encoded data removed]",
      "text/plain": [
       "<Figure size 1080x576 with 2 Axes>"
      ]
     },
     "metadata": {
      "needs_background": "light"
     },
     "output_type": "display_data"
    }
   ],
   "source": [
    "plt.figure(figsize =(15,8))\n",
    "\n",
    "sns.heatmap(combi.corr(), annot = True)"
   ]
  },
  {
   "cell_type": "code",
   "execution_count": 22,
   "id": "5899f5e1",
   "metadata": {},
   "outputs": [
    {
     "data": {
      "text/plain": [
       "0          Grad\n",
       "1          Grad\n",
       "2         Other\n",
       "3          Grad\n",
       "4          Grad\n",
       "          ...  \n",
       "189195     Grad\n",
       "189196     Grad\n",
       "189197     Grad\n",
       "189198    Other\n",
       "189199     Grad\n",
       "Name: Education_det, Length: 189200, dtype: object"
      ]
     },
     "execution_count": 22,
     "metadata": {},
     "output_type": "execute_result"
    }
   ],
   "source": [
    "combi[\"Education_det\"]"
   ]
  },
  {
   "cell_type": "code",
   "execution_count": 23,
   "id": "1e83423a",
   "metadata": {},
   "outputs": [
    {
     "data": {
      "text/plain": [
       "744230.4385765338"
      ]
     },
     "execution_count": 23,
     "metadata": {},
     "output_type": "execute_result"
    }
   ],
   "source": [
    "combi[\"Compensation\"].mean()"
   ]
  },
  {
   "cell_type": "code",
   "execution_count": 24,
   "id": "82e742e4",
   "metadata": {},
   "outputs": [
    {
     "data": {
      "text/plain": [
       "695689.5712922552"
      ]
     },
     "execution_count": 24,
     "metadata": {},
     "output_type": "execute_result"
    }
   ],
   "source": [
    "combi[combi[\"Education_det\"]== \"Grad\"][\"Compensation\"].mean()"
   ]
  },
  {
   "cell_type": "code",
   "execution_count": 25,
   "id": "29c70bd5",
   "metadata": {},
   "outputs": [
    {
     "data": {
      "text/plain": [
       "884671.6559885413"
      ]
     },
     "execution_count": 25,
     "metadata": {},
     "output_type": "execute_result"
    }
   ],
   "source": [
    "combi[combi[\"Education_det\"]== \"P_Grad\"][\"Compensation\"].mean()\n"
   ]
  },
  {
   "cell_type": "code",
   "execution_count": 26,
   "id": "bb8f03cb",
   "metadata": {},
   "outputs": [
    {
     "data": {
      "text/plain": [
       "747692.5101553166"
      ]
     },
     "execution_count": 26,
     "metadata": {},
     "output_type": "execute_result"
    }
   ],
   "source": [
    "combi[combi[\"Education_det\"]== \"Other\"][\"Compensation\"].mean()"
   ]
  },
  {
   "cell_type": "code",
   "execution_count": 27,
   "id": "593147a5",
   "metadata": {},
   "outputs": [
    {
     "data": {
      "text/plain": [
       "714860.1231231231"
      ]
     },
     "execution_count": 27,
     "metadata": {},
     "output_type": "execute_result"
    }
   ],
   "source": [
    "combi[combi[\"Job_Type\"]== \"IT\"][\"Compensation\"].mean()"
   ]
  },
  {
   "cell_type": "code",
   "execution_count": 28,
   "id": "08a25d8d",
   "metadata": {},
   "outputs": [
    {
     "data": {
      "text/plain": [
       "704820.1158327622"
      ]
     },
     "execution_count": 28,
     "metadata": {},
     "output_type": "execute_result"
    }
   ],
   "source": [
    "combi[combi[\"Job_Type\"]== \"Govt.\"][\"Compensation\"].mean()"
   ]
  },
  {
   "cell_type": "code",
   "execution_count": 29,
   "id": "9db899d1",
   "metadata": {},
   "outputs": [
    {
     "data": {
      "text/plain": [
       "846738.7363522954"
      ]
     },
     "execution_count": 29,
     "metadata": {},
     "output_type": "execute_result"
    }
   ],
   "source": [
    "combi[combi[\"Job_Type\"]== \"Non-IT\"][\"Compensation\"].mean()"
   ]
  },
  {
   "cell_type": "code",
   "execution_count": 30,
   "id": "a5d5c1f1",
   "metadata": {},
   "outputs": [
    {
     "data": {
      "text/html": [
       "<div>\n",
       "<style scoped>\n",
       "    .dataframe tbody tr th:only-of-type {\n",
       "        vertical-align: middle;\n",
       "    }\n",
       "\n",
       "    .dataframe tbody tr th {\n",
       "        vertical-align: top;\n",
       "    }\n",
       "\n",
       "    .dataframe thead th {\n",
       "        text-align: right;\n",
       "    }\n",
       "</style>\n",
       "<table border=\"1\" class=\"dataframe\">\n",
       "  <thead>\n",
       "    <tr style=\"text-align: right;\">\n",
       "      <th></th>\n",
       "      <th>Compensation</th>\n",
       "      <th>Vehicle_Status</th>\n",
       "      <th>Loan_amt</th>\n",
       "      <th>Annuity_amt</th>\n",
       "      <th>density_Ind</th>\n",
       "      <th>Job_Type</th>\n",
       "      <th>Default_hist</th>\n",
       "      <th>Prop_List</th>\n",
       "      <th>Home_Appliances</th>\n",
       "      <th>Region_Type</th>\n",
       "      <th>...</th>\n",
       "      <th>Region</th>\n",
       "      <th>Age</th>\n",
       "      <th>hour_Process</th>\n",
       "      <th>Addr_permanent</th>\n",
       "      <th>Permanent_Addr_tag</th>\n",
       "      <th>c1_rated</th>\n",
       "      <th>c2_rated</th>\n",
       "      <th>Contact_age</th>\n",
       "      <th>Product_bought</th>\n",
       "      <th>Default</th>\n",
       "    </tr>\n",
       "  </thead>\n",
       "  <tbody>\n",
       "    <tr>\n",
       "      <th>0</th>\n",
       "      <td>801850.0</td>\n",
       "      <td>Y</td>\n",
       "      <td>658040.0</td>\n",
       "      <td>13816.52</td>\n",
       "      <td>0.0304</td>\n",
       "      <td>IT</td>\n",
       "      <td>ndf</td>\n",
       "      <td>Morethan_One</td>\n",
       "      <td>NaN</td>\n",
       "      <td>Metro</td>\n",
       "      <td>...</td>\n",
       "      <td>East</td>\n",
       "      <td>46.0</td>\n",
       "      <td>10.0</td>\n",
       "      <td>Yes</td>\n",
       "      <td>No</td>\n",
       "      <td>0.077</td>\n",
       "      <td>0.077</td>\n",
       "      <td>18.0</td>\n",
       "      <td>2.0</td>\n",
       "      <td>1.0</td>\n",
       "    </tr>\n",
       "    <tr>\n",
       "      <th>1</th>\n",
       "      <td>884222.0</td>\n",
       "      <td>N</td>\n",
       "      <td>198075.0</td>\n",
       "      <td>11173.06</td>\n",
       "      <td>0.0194</td>\n",
       "      <td>IT</td>\n",
       "      <td>ndf</td>\n",
       "      <td>Morethan_One</td>\n",
       "      <td>1.0</td>\n",
       "      <td>Metro</td>\n",
       "      <td>...</td>\n",
       "      <td>North</td>\n",
       "      <td>46.0</td>\n",
       "      <td>12.0</td>\n",
       "      <td>Yes</td>\n",
       "      <td>Yes</td>\n",
       "      <td>0.184</td>\n",
       "      <td>0.184</td>\n",
       "      <td>306.0</td>\n",
       "      <td>4.0</td>\n",
       "      <td>0.0</td>\n",
       "    </tr>\n",
       "    <tr>\n",
       "      <th>2</th>\n",
       "      <td>284120.0</td>\n",
       "      <td>N</td>\n",
       "      <td>101056.0</td>\n",
       "      <td>8390.40</td>\n",
       "      <td>0.0118</td>\n",
       "      <td>Govt.</td>\n",
       "      <td>ndf</td>\n",
       "      <td>One</td>\n",
       "      <td>4.0</td>\n",
       "      <td>Metro</td>\n",
       "      <td>...</td>\n",
       "      <td>North</td>\n",
       "      <td>57.0</td>\n",
       "      <td>5.0</td>\n",
       "      <td>Yes</td>\n",
       "      <td>Yes</td>\n",
       "      <td>0.538</td>\n",
       "      <td>0.538</td>\n",
       "      <td>281.0</td>\n",
       "      <td>4.0</td>\n",
       "      <td>0.0</td>\n",
       "    </tr>\n",
       "    <tr>\n",
       "      <th>3</th>\n",
       "      <td>341874.0</td>\n",
       "      <td>N</td>\n",
       "      <td>179008.0</td>\n",
       "      <td>7184.13</td>\n",
       "      <td>0.0373</td>\n",
       "      <td>Non-IT</td>\n",
       "      <td>df</td>\n",
       "      <td>None</td>\n",
       "      <td>2.0</td>\n",
       "      <td>Metro</td>\n",
       "      <td>...</td>\n",
       "      <td>South</td>\n",
       "      <td>39.0</td>\n",
       "      <td>12.0</td>\n",
       "      <td>Yes</td>\n",
       "      <td>Yes</td>\n",
       "      <td>NaN</td>\n",
       "      <td>0.561</td>\n",
       "      <td>20.0</td>\n",
       "      <td>4.0</td>\n",
       "      <td>0.0</td>\n",
       "    </tr>\n",
       "    <tr>\n",
       "      <th>4</th>\n",
       "      <td>1259895.0</td>\n",
       "      <td>Y</td>\n",
       "      <td>573715.0</td>\n",
       "      <td>13212.77</td>\n",
       "      <td>0.0138</td>\n",
       "      <td>Non-IT</td>\n",
       "      <td>ndf</td>\n",
       "      <td>Morethan_One</td>\n",
       "      <td>1.0</td>\n",
       "      <td>Rural</td>\n",
       "      <td>...</td>\n",
       "      <td>North</td>\n",
       "      <td>32.0</td>\n",
       "      <td>16.0</td>\n",
       "      <td>Yes</td>\n",
       "      <td>Yes</td>\n",
       "      <td>NaN</td>\n",
       "      <td>0.200</td>\n",
       "      <td>2339.0</td>\n",
       "      <td>6.0</td>\n",
       "      <td>0.0</td>\n",
       "    </tr>\n",
       "    <tr>\n",
       "      <th>...</th>\n",
       "      <td>...</td>\n",
       "      <td>...</td>\n",
       "      <td>...</td>\n",
       "      <td>...</td>\n",
       "      <td>...</td>\n",
       "      <td>...</td>\n",
       "      <td>...</td>\n",
       "      <td>...</td>\n",
       "      <td>...</td>\n",
       "      <td>...</td>\n",
       "      <td>...</td>\n",
       "      <td>...</td>\n",
       "      <td>...</td>\n",
       "      <td>...</td>\n",
       "      <td>...</td>\n",
       "      <td>...</td>\n",
       "      <td>...</td>\n",
       "      <td>...</td>\n",
       "      <td>...</td>\n",
       "      <td>...</td>\n",
       "      <td>...</td>\n",
       "    </tr>\n",
       "    <tr>\n",
       "      <th>189195</th>\n",
       "      <td>671640.0</td>\n",
       "      <td>N</td>\n",
       "      <td>260085.0</td>\n",
       "      <td>9654.50</td>\n",
       "      <td>0.0050</td>\n",
       "      <td>IT</td>\n",
       "      <td>ndf</td>\n",
       "      <td>One</td>\n",
       "      <td>4.0</td>\n",
       "      <td>Metro</td>\n",
       "      <td>...</td>\n",
       "      <td>North</td>\n",
       "      <td>42.0</td>\n",
       "      <td>11.0</td>\n",
       "      <td>Yes</td>\n",
       "      <td>Yes</td>\n",
       "      <td>0.716</td>\n",
       "      <td>0.716</td>\n",
       "      <td>215.0</td>\n",
       "      <td>7.0</td>\n",
       "      <td>NaN</td>\n",
       "    </tr>\n",
       "    <tr>\n",
       "      <th>189196</th>\n",
       "      <td>650680.0</td>\n",
       "      <td>N</td>\n",
       "      <td>714467.6</td>\n",
       "      <td>14063.75</td>\n",
       "      <td>0.0321</td>\n",
       "      <td>NaN</td>\n",
       "      <td>ndf</td>\n",
       "      <td>One</td>\n",
       "      <td>NaN</td>\n",
       "      <td>Metro</td>\n",
       "      <td>...</td>\n",
       "      <td>East</td>\n",
       "      <td>47.0</td>\n",
       "      <td>9.0</td>\n",
       "      <td>Yes</td>\n",
       "      <td>Yes</td>\n",
       "      <td>NaN</td>\n",
       "      <td>0.193</td>\n",
       "      <td>22.0</td>\n",
       "      <td>0.0</td>\n",
       "      <td>NaN</td>\n",
       "    </tr>\n",
       "    <tr>\n",
       "      <th>189197</th>\n",
       "      <td>551374.0</td>\n",
       "      <td>NaN</td>\n",
       "      <td>231420.0</td>\n",
       "      <td>11299.78</td>\n",
       "      <td>0.0334</td>\n",
       "      <td>Govt.</td>\n",
       "      <td>df</td>\n",
       "      <td>None</td>\n",
       "      <td>2.0</td>\n",
       "      <td>Metro</td>\n",
       "      <td>...</td>\n",
       "      <td>East</td>\n",
       "      <td>35.0</td>\n",
       "      <td>10.0</td>\n",
       "      <td>No</td>\n",
       "      <td>Yes</td>\n",
       "      <td>0.175</td>\n",
       "      <td>0.175</td>\n",
       "      <td>776.0</td>\n",
       "      <td>5.0</td>\n",
       "      <td>NaN</td>\n",
       "    </tr>\n",
       "    <tr>\n",
       "      <th>189198</th>\n",
       "      <td>975117.0</td>\n",
       "      <td>N</td>\n",
       "      <td>1096620.0</td>\n",
       "      <td>10223.30</td>\n",
       "      <td>0.0052</td>\n",
       "      <td>IT</td>\n",
       "      <td>ndf</td>\n",
       "      <td>One</td>\n",
       "      <td>4.0</td>\n",
       "      <td>Metro</td>\n",
       "      <td>...</td>\n",
       "      <td>North</td>\n",
       "      <td>22.0</td>\n",
       "      <td>13.0</td>\n",
       "      <td>Yes</td>\n",
       "      <td>No</td>\n",
       "      <td>0.669</td>\n",
       "      <td>0.669</td>\n",
       "      <td>873.0</td>\n",
       "      <td>3.0</td>\n",
       "      <td>NaN</td>\n",
       "    </tr>\n",
       "    <tr>\n",
       "      <th>189199</th>\n",
       "      <td>NaN</td>\n",
       "      <td>N</td>\n",
       "      <td>197232.0</td>\n",
       "      <td>12178.59</td>\n",
       "      <td>0.0155</td>\n",
       "      <td>IT</td>\n",
       "      <td>ndf</td>\n",
       "      <td>One</td>\n",
       "      <td>4.0</td>\n",
       "      <td>Metro</td>\n",
       "      <td>...</td>\n",
       "      <td>East</td>\n",
       "      <td>39.0</td>\n",
       "      <td>11.0</td>\n",
       "      <td>Yes</td>\n",
       "      <td>No</td>\n",
       "      <td>0.237</td>\n",
       "      <td>0.237</td>\n",
       "      <td>NaN</td>\n",
       "      <td>2.0</td>\n",
       "      <td>NaN</td>\n",
       "    </tr>\n",
       "  </tbody>\n",
       "</table>\n",
       "<p>189200 rows × 32 columns</p>\n",
       "</div>"
      ],
      "text/plain": [
       "        Compensation Vehicle_Status   Loan_amt  Annuity_amt  density_Ind  \\\n",
       "0           801850.0              Y   658040.0     13816.52       0.0304   \n",
       "1           884222.0              N   198075.0     11173.06       0.0194   \n",
       "2           284120.0              N   101056.0      8390.40       0.0118   \n",
       "3           341874.0              N   179008.0      7184.13       0.0373   \n",
       "4          1259895.0              Y   573715.0     13212.77       0.0138   \n",
       "...              ...            ...        ...          ...          ...   \n",
       "189195      671640.0              N   260085.0      9654.50       0.0050   \n",
       "189196      650680.0              N   714467.6     14063.75       0.0321   \n",
       "189197      551374.0            NaN   231420.0     11299.78       0.0334   \n",
       "189198      975117.0              N  1096620.0     10223.30       0.0052   \n",
       "189199           NaN              N   197232.0     12178.59       0.0155   \n",
       "\n",
       "       Job_Type Default_hist     Prop_List  Home_Appliances Region_Type  ...  \\\n",
       "0            IT          ndf  Morethan_One              NaN       Metro  ...   \n",
       "1            IT          ndf  Morethan_One              1.0       Metro  ...   \n",
       "2         Govt.          ndf           One              4.0       Metro  ...   \n",
       "3        Non-IT           df          None              2.0       Metro  ...   \n",
       "4        Non-IT          ndf  Morethan_One              1.0       Rural  ...   \n",
       "...         ...          ...           ...              ...         ...  ...   \n",
       "189195       IT          ndf           One              4.0       Metro  ...   \n",
       "189196      NaN          ndf           One              NaN       Metro  ...   \n",
       "189197    Govt.           df          None              2.0       Metro  ...   \n",
       "189198       IT          ndf           One              4.0       Metro  ...   \n",
       "189199       IT          ndf           One              4.0       Metro  ...   \n",
       "\n",
       "       Region   Age hour_Process Addr_permanent Permanent_Addr_tag  c1_rated  \\\n",
       "0        East  46.0         10.0            Yes                 No     0.077   \n",
       "1       North  46.0         12.0            Yes                Yes     0.184   \n",
       "2       North  57.0          5.0            Yes                Yes     0.538   \n",
       "3       South  39.0         12.0            Yes                Yes       NaN   \n",
       "4       North  32.0         16.0            Yes                Yes       NaN   \n",
       "...       ...   ...          ...            ...                ...       ...   \n",
       "189195  North  42.0         11.0            Yes                Yes     0.716   \n",
       "189196   East  47.0          9.0            Yes                Yes       NaN   \n",
       "189197   East  35.0         10.0             No                Yes     0.175   \n",
       "189198  North  22.0         13.0            Yes                 No     0.669   \n",
       "189199   East  39.0         11.0            Yes                 No     0.237   \n",
       "\n",
       "       c2_rated Contact_age Product_bought Default  \n",
       "0         0.077        18.0            2.0     1.0  \n",
       "1         0.184       306.0            4.0     0.0  \n",
       "2         0.538       281.0            4.0     0.0  \n",
       "3         0.561        20.0            4.0     0.0  \n",
       "4         0.200      2339.0            6.0     0.0  \n",
       "...         ...         ...            ...     ...  \n",
       "189195    0.716       215.0            7.0     NaN  \n",
       "189196    0.193        22.0            0.0     NaN  \n",
       "189197    0.175       776.0            5.0     NaN  \n",
       "189198    0.669       873.0            3.0     NaN  \n",
       "189199    0.237         NaN            2.0     NaN  \n",
       "\n",
       "[189200 rows x 32 columns]"
      ]
     },
     "execution_count": 30,
     "metadata": {},
     "output_type": "execute_result"
    }
   ],
   "source": [
    "combi"
   ]
  },
  {
   "cell_type": "code",
   "execution_count": 31,
   "id": "b8a491ac",
   "metadata": {},
   "outputs": [],
   "source": [
    "combi['Compensation'] = combi.groupby('Education_det')['Compensation'].transform(\n",
    "    lambda grp: grp.fillna(np.mean(grp))\n",
    ")"
   ]
  },
  {
   "cell_type": "code",
   "execution_count": 32,
   "id": "2afcd662",
   "metadata": {},
   "outputs": [
    {
     "data": {
      "text/plain": [
       "0"
      ]
     },
     "execution_count": 32,
     "metadata": {},
     "output_type": "execute_result"
    }
   ],
   "source": [
    "combi[\"Compensation\"].isna().sum()"
   ]
  },
  {
   "cell_type": "code",
   "execution_count": 33,
   "id": "8da45a9f",
   "metadata": {},
   "outputs": [
    {
     "data": {
      "text/plain": [
       "<AxesSubplot:ylabel='Density'>"
      ]
     },
     "execution_count": 33,
     "metadata": {},
     "output_type": "execute_result"
    },
    {
     "data": {
      "image/png": "[encoded data removed]",
      "text/plain": [
       "<Figure size 432x288 with 1 Axes>"
      ]
     },
     "metadata": {
      "needs_background": "light"
     },
     "output_type": "display_data"
    }
   ],
   "source": [
    "combi[\"Compensation\"].plot(kind=\"density\")"
   ]
  },
  {
   "cell_type": "code",
   "execution_count": 34,
   "id": "bc4dfa23",
   "metadata": {},
   "outputs": [
    {
     "data": {
      "text/plain": [
       "N    116091\n",
       "Y     60122\n",
       "Name: Vehicle_Status, dtype: int64"
      ]
     },
     "execution_count": 34,
     "metadata": {},
     "output_type": "execute_result"
    }
   ],
   "source": [
    "combi[\"Vehicle_Status\"].value_counts()"
   ]
  },
  {
   "cell_type": "code",
   "execution_count": 35,
   "id": "83011892",
   "metadata": {},
   "outputs": [],
   "source": [
    "combi['Vehicle_Status'].replace(np.NaN, \"N\", inplace = True)"
   ]
  },
  {
   "cell_type": "code",
   "execution_count": 36,
   "id": "1edb8ead",
   "metadata": {},
   "outputs": [
    {
     "data": {
      "text/plain": [
       "<AxesSubplot:ylabel='Density'>"
      ]
     },
     "execution_count": 36,
     "metadata": {},
     "output_type": "execute_result"
    },
    {
     "data": {
      "image/png": "[encoded data removed]",
      "text/plain": [
       "<Figure size 432x288 with 1 Axes>"
      ]
     },
     "metadata": {
      "needs_background": "light"
     },
     "output_type": "display_data"
    }
   ],
   "source": [
    "combi[\"Loan_amt\"].plot(kind=\"density\")"
   ]
  },
  {
   "cell_type": "code",
   "execution_count": 37,
   "id": "588a39be",
   "metadata": {},
   "outputs": [
    {
     "data": {
      "text/plain": [
       "<AxesSubplot:ylabel='Density'>"
      ]
     },
     "execution_count": 37,
     "metadata": {},
     "output_type": "execute_result"
    },
    {
     "data": {
      "image/png": "[encoded data removed]",
      "text/plain": [
       "<Figure size 432x288 with 1 Axes>"
      ]
     },
     "metadata": {
      "needs_background": "light"
     },
     "output_type": "display_data"
    }
   ],
   "source": [
    "combi[\"Annuity_amt\"].plot(kind=\"density\")"
   ]
  },
  {
   "cell_type": "code",
   "execution_count": 38,
   "id": "d997b375",
   "metadata": {},
   "outputs": [
    {
     "data": {
      "text/plain": [
       "array([13816.52, 11173.06,  8390.4 , ..., 14063.75, 11299.78, 10223.3 ])"
      ]
     },
     "execution_count": 38,
     "metadata": {},
     "output_type": "execute_result"
    }
   ],
   "source": [
    "combi[\"Annuity_amt\"].unique()"
   ]
  },
  {
   "cell_type": "code",
   "execution_count": 39,
   "id": "9f662654",
   "metadata": {},
   "outputs": [
    {
     "data": {
      "text/plain": [
       "(10841.400309101627,\n",
       " 10768.665,\n",
       " 0     8931.30\n",
       " 1     9849.37\n",
       " 2    10584.74\n",
       " 3    10774.62\n",
       " 4    10855.91\n",
       " 5    11247.95\n",
       " 6    11522.15\n",
       " 7    11612.50\n",
       " 8    12055.05\n",
       " dtype: float64)"
      ]
     },
     "execution_count": 39,
     "metadata": {},
     "output_type": "execute_result"
    }
   ],
   "source": [
    "combi[\"Annuity_amt\"].mean() , combi[\"Annuity_amt\"].median() , combi[\"Annuity_amt\"].mode()"
   ]
  },
  {
   "cell_type": "code",
   "execution_count": 40,
   "id": "28c6739d",
   "metadata": {},
   "outputs": [],
   "source": [
    "combi['Annuity_amt'].replace(np.NaN,10768.665 , inplace = True)"
   ]
  },
  {
   "cell_type": "code",
   "execution_count": 41,
   "id": "d66876ef",
   "metadata": {},
   "outputs": [
    {
     "data": {
      "text/plain": [
       "0"
      ]
     },
     "execution_count": 41,
     "metadata": {},
     "output_type": "execute_result"
    }
   ],
   "source": [
    "combi['Annuity_amt'].isna().sum()"
   ]
  },
  {
   "cell_type": "code",
   "execution_count": 42,
   "id": "30db767c",
   "metadata": {},
   "outputs": [
    {
     "data": {
      "text/plain": [
       "array([3.0400e-02, 1.9400e-02, 1.1800e-02, 3.7300e-02, 1.3800e-02,\n",
       "       2.3600e-02, 8.9000e-03, 6.2000e-03, 3.6800e-02, 3.4500e-02,\n",
       "       4.8000e-03, 8.0000e-04, 2.1000e-02, 1.7000e-03, 1.0500e-02,\n",
       "       3.6500e-02, 3.0300e-02, 5.7000e-03,        nan, 1.7200e-02,\n",
       "       3.5100e-02, 7.9000e-03, 2.0000e-03, 1.5500e-02, 1.5700e-02,\n",
       "       1.4800e-02, 1.9000e-03, 4.9000e-03, 2.7700e-02, 2.4200e-02,\n",
       "       1.2500e-02, 2.7200e-02, 2.0200e-02, 2.5000e-02, 2.5700e-02,\n",
       "       8.1000e-03, 1.6800e-02, 3.2700e-02, 3.1700e-02, 9.2000e-03,\n",
       "       2.2300e-02, 1.6200e-02, 1.0900e-02, 5.2000e-03, 2.9300e-02,\n",
       "       2.2600e-02, 1.7700e-02, 3.9100e-02, 2.6600e-02, 2.9200e-02,\n",
       "       1.4000e-03, 6.9000e-03, 3.8600e-02, 1.8900e-02, 2.7500e-02,\n",
       "       4.0100e-02, 2.5600e-02, 2.0500e-02, 3.1000e-02, 1.7000e-02,\n",
       "       2.6200e-02, 2.4500e-02, 2.4300e-02, 2.8100e-02, 2.6800e-02,\n",
       "       2.4000e-02, 8.2000e-03, 1.5000e-02, 3.5500e-02, 2.0300e-02,\n",
       "       1.1100e-02, 2.1100e-02, 1.9600e-02, 1.3900e-02, 2.3000e-02,\n",
       "       3.1600e-02, 9.0000e-03, 8.6000e-03, 3.9200e-02, 8.3000e-03,\n",
       "       7.8000e-03, 3.0700e-02, 3.4600e-02, 7.5000e-03, 2.0900e-02,\n",
       "       8.8000e-03, 2.0400e-02, 4.0000e-02, 2.5100e-02, 1.1000e-02,\n",
       "       3.9500e-02, 3.4000e-03, 3.2000e-03, 1.9900e-02, 3.9400e-02,\n",
       "       3.4100e-02, 1.2600e-02, 7.7000e-03, 3.2800e-02, 2.0600e-02,\n",
       "       3.6700e-02, 8.0000e-03, 1.6300e-02, 7.1000e-03, 2.2500e-02,\n",
       "       2.1400e-02, 2.7600e-02, 2.9700e-02, 1.5200e-02, 2.4600e-02,\n",
       "       1.5600e-02, 1.2000e-03, 3.4300e-02, 2.5200e-02, 1.8100e-02,\n",
       "       2.4400e-02, 2.5900e-02, 5.1000e-03, 2.7400e-02, 2.3700e-02,\n",
       "       2.6000e-03, 1.3500e-02, 3.7400e-02, 1.6000e-02, 4.6000e-03,\n",
       "       1.5400e-02, 2.2400e-02, 6.6000e-03, 4.1000e-03, 1.7500e-02,\n",
       "       3.2200e-02, 3.1500e-02, 6.8000e-03, 1.4900e-02, 4.5000e-03,\n",
       "       3.5700e-02, 3.3000e-03, 1.0300e-02, 8.4000e-03, 3.1900e-02,\n",
       "       7.4000e-03, 3.3400e-02, 3.8000e-02, 1.2200e-02, 3.5200e-02,\n",
       "       9.1000e-03, 6.5000e-03, 3.1400e-02, 2.2700e-02, 1.9500e-02,\n",
       "       3.8500e-02, 3.8000e-03, 3.5000e-02, 3.6600e-02, 3.6900e-02,\n",
       "       2.8400e-02, 1.2700e-02, 3.9000e-02, 3.4700e-02, 2.5800e-02,\n",
       "       9.9000e-03, 3.2300e-02, 1.0700e-02, 1.0200e-02, 1.4200e-02,\n",
       "       2.6000e-02, 1.2900e-02, 3.0000e-03, 2.5300e-02, 2.7000e-03,\n",
       "       3.9600e-02, 1.6600e-02, 2.4100e-02, 2.4000e-03, 2.7300e-02,\n",
       "       3.5600e-02, 3.1300e-02, 2.8600e-02, 2.6900e-02, 3.6000e-02,\n",
       "       2.3200e-02, 9.7000e-03, 3.7000e-02, 3.7000e-03, 3.7200e-02,\n",
       "       2.3400e-02, 2.9600e-02, 3.3500e-02, 1.8400e-02, 3.2100e-02,\n",
       "       3.1100e-02, 3.3900e-02, 3.1000e-03, 2.9100e-02, 2.7800e-02,\n",
       "       2.4700e-02, 2.9900e-02, 5.6000e-03, 9.8000e-03, 3.9000e-03,\n",
       "       2.5000e-03, 6.0000e-04, 1.2000e-02, 4.0000e-03, 2.5500e-02,\n",
       "       2.6300e-02, 1.7300e-02, 2.9800e-02, 2.1800e-02, 3.1800e-02,\n",
       "       9.6000e-03, 4.0200e-02, 5.4000e-03, 4.4000e-03, 2.1200e-02,\n",
       "       1.0600e-02, 1.4600e-02, 3.4900e-02, 5.0000e-03, 2.3000e-03,\n",
       "       6.0000e-03, 2.9000e-02, 2.1600e-02, 1.9200e-02, 3.2900e-02,\n",
       "       1.3100e-02, 1.5800e-02, 1.3300e-02, 2.1000e-03, 3.3700e-02,\n",
       "       3.7800e-02, 1.8800e-02, 3.3000e-02, 3.0900e-02, 2.9500e-02,\n",
       "       2.1300e-02, 1.7900e-02, 2.8900e-02, 4.2000e-03, 2.3900e-02,\n",
       "       1.8000e-03, 1.5300e-02, 9.0000e-04, 2.1900e-02, 1.7600e-02,\n",
       "       1.4700e-02, 9.3000e-03, 7.6000e-03, 8.5000e-03, 1.1400e-02,\n",
       "       3.2000e-02, 2.1700e-02, 1.8600e-02, 3.9300e-02, 2.4800e-02,\n",
       "       3.3800e-02, 1.9300e-02, 1.4300e-02, 2.3800e-02, 2.9400e-02,\n",
       "       3.2500e-02, 1.4000e-02, 1.3000e-03, 1.1500e-02, 3.4000e-02,\n",
       "       3.5400e-02, 1.8000e-02, 2.7000e-02, 1.1300e-02, 1.9100e-02,\n",
       "       5.5000e-03, 1.6000e-03, 1.8700e-02, 2.8800e-02, 3.6200e-02,\n",
       "       2.6400e-02, 6.4000e-03, 1.3000e-02, 2.7900e-02, 2.2200e-02,\n",
       "       3.3100e-02, 3.3600e-02, 8.7000e-03, 3.6400e-02, 2.6700e-02,\n",
       "       3.8400e-02, 2.6500e-02, 1.0400e-02, 7.0000e-03, 3.0100e-02,\n",
       "       1.3400e-02, 3.8900e-02, 2.2800e-02, 4.0300e-02, 3.0500e-02,\n",
       "       3.7900e-02, 3.8800e-02, 2.8200e-02, 4.0600e-02, 2.0800e-02,\n",
       "       2.0000e-02, 3.6300e-02, 2.1500e-02, 3.9800e-02, 3.8100e-02,\n",
       "       7.0000e-04, 1.8500e-02, 6.7000e-03, 3.5800e-02, 2.4900e-02,\n",
       "       4.7000e-03, 1.0800e-02, 2.2100e-02, 2.8300e-02, 9.4000e-03,\n",
       "       2.8000e-03, 1.1900e-02, 3.3200e-02, 3.8700e-02, 1.6500e-02,\n",
       "       2.8000e-02, 1.1600e-02, 3.0600e-02, 3.7600e-02, 2.3300e-02,\n",
       "       1.7800e-02, 5.8000e-03, 3.5300e-02, 2.3100e-02, 1.9000e-02,\n",
       "       1.0000e-04, 3.6100e-02, 1.6100e-02, 1.5000e-03, 2.2900e-02,\n",
       "       1.5900e-02, 1.7400e-02, 6.3000e-03, 3.7700e-02, 3.8300e-02,\n",
       "       9.5000e-03, 1.6900e-02, 1.3200e-02, 1.9800e-02, 4.0500e-02,\n",
       "       1.5100e-02, 1.8200e-02, 5.9000e-03, 1.4100e-02, 1.8300e-02,\n",
       "       2.0700e-02, 7.2000e-03, 2.3500e-02, 3.5000e-03, 3.0000e-04,\n",
       "       1.0100e-02, 3.0200e-02, 3.0800e-02, 1.7100e-02, 2.9000e-03,\n",
       "       1.3600e-02, 1.2800e-02, 2.8700e-02, 5.0000e-04, 3.9900e-02,\n",
       "       3.3300e-02, 1.0000e-02, 1.1000e-03, 1.9700e-02, 1.3700e-02,\n",
       "       3.7500e-02, 3.6000e-03, 2.7100e-02, 1.4500e-02, 2.6100e-02,\n",
       "       4.3000e-03, 7.3000e-03, 3.4200e-02, 1.6700e-02, 2.5400e-02,\n",
       "       1.4400e-02, 1.1700e-02, 3.1200e-02, 6.1000e-03, 4.0400e-02,\n",
       "       1.0000e-03, 4.0800e-02, 4.0000e-04, 3.5900e-02, 3.0000e-02,\n",
       "       3.4400e-02, 3.7100e-02, 2.2000e-02, 3.9700e-02, 3.8200e-02,\n",
       "       1.2400e-02, 1.2100e-02, 2.0000e-04, 3.2600e-02, 1.1200e-02,\n",
       "       2.2000e-03, 5.3000e-03, 2.8500e-02, 3.2400e-02, 3.4800e-02,\n",
       "       1.2300e-02, 2.0100e-02, 1.6400e-02, 4.1300e-02, 4.1000e-02,\n",
       "       4.0900e-02, 4.1200e-02, 4.0700e-02, 4.1400e-02, 2.0178e+00,\n",
       "       4.1100e-02, 2.0156e+00, 2.0033e+00, 0.0000e+00, 2.0372e+00,\n",
       "       2.0222e+00])"
      ]
     },
     "execution_count": 42,
     "metadata": {},
     "output_type": "execute_result"
    }
   ],
   "source": [
    "combi[\"density_Ind\"].unique()"
   ]
  },
  {
   "cell_type": "code",
   "execution_count": 43,
   "id": "2927f076",
   "metadata": {},
   "outputs": [
    {
     "data": {
      "text/plain": [
       "Metro    153596\n",
       "Rural     31804\n",
       "other      3800\n",
       "Name: Region_Type, dtype: int64"
      ]
     },
     "execution_count": 43,
     "metadata": {},
     "output_type": "execute_result"
    }
   ],
   "source": [
    "combi[\"Region_Type\"].value_counts()"
   ]
  },
  {
   "cell_type": "code",
   "execution_count": 44,
   "id": "1f009d51",
   "metadata": {},
   "outputs": [
    {
     "data": {
      "text/plain": [
       "(0.02052045036890775,\n",
       " 0.020410499797841628,\n",
       " 0.02037119621581956,\n",
       " 0.020438086980083994)"
      ]
     },
     "execution_count": 44,
     "metadata": {},
     "output_type": "execute_result"
    }
   ],
   "source": [
    "combi[combi[\"Region\"]== \"North\"][\"density_Ind\"].mean() ,combi[combi[\"Region\"]== \"South\"][\"density_Ind\"].mean(),combi[combi[\"Region\"]== \"East\"][\"density_Ind\"].mean(), combi[combi[\"Region\"]== \"Central\"][\"density_Ind\"].mean()"
   ]
  },
  {
   "cell_type": "code",
   "execution_count": 45,
   "id": "4487baf4",
   "metadata": {},
   "outputs": [
    {
     "data": {
      "text/plain": [
       "(0.02042905990445801, 0.020521459030374643, 0.02078363885088915)"
      ]
     },
     "execution_count": 45,
     "metadata": {},
     "output_type": "execute_result"
    }
   ],
   "source": [
    "combi[combi[\"Region_Type\"]== \"Metro\"][\"density_Ind\"].mean() ,combi[combi[\"Region_Type\"]== \"Rural\"][\"density_Ind\"].mean(),combi[combi[\"Region_Type\"]== \"other\"][\"density_Ind\"].mean()"
   ]
  },
  {
   "cell_type": "code",
   "execution_count": 46,
   "id": "0de9029c",
   "metadata": {},
   "outputs": [],
   "source": [
    "combi['density_Ind'] = combi.groupby('Region_Type')['density_Ind'].transform(\n",
    "    lambda grp: grp.fillna(np.mean(grp))\n",
    ")"
   ]
  },
  {
   "cell_type": "code",
   "execution_count": 47,
   "id": "7918c65e",
   "metadata": {},
   "outputs": [
    {
     "data": {
      "text/plain": [
       "0"
      ]
     },
     "execution_count": 47,
     "metadata": {},
     "output_type": "execute_result"
    }
   ],
   "source": [
    "combi['density_Ind'].isna().sum()"
   ]
  },
  {
   "cell_type": "code",
   "execution_count": 48,
   "id": "d66627b8",
   "metadata": {},
   "outputs": [],
   "source": [
    "combi['Job_Type'].replace(np.NaN,\"IT\" , inplace = True)"
   ]
  },
  {
   "cell_type": "code",
   "execution_count": 49,
   "id": "7d427acf",
   "metadata": {},
   "outputs": [
    {
     "data": {
      "text/plain": [
       "0"
      ]
     },
     "execution_count": 49,
     "metadata": {},
     "output_type": "execute_result"
    }
   ],
   "source": [
    "combi['Job_Type'].isna().sum()"
   ]
  },
  {
   "cell_type": "code",
   "execution_count": 50,
   "id": "3c710dab",
   "metadata": {},
   "outputs": [
    {
     "data": {
      "text/plain": [
       "array(['ndf', 'df'], dtype=object)"
      ]
     },
     "execution_count": 50,
     "metadata": {},
     "output_type": "execute_result"
    }
   ],
   "source": [
    "combi['Default_hist'].unique()"
   ]
  },
  {
   "cell_type": "code",
   "execution_count": 51,
   "id": "f4dc3eca",
   "metadata": {},
   "outputs": [],
   "source": [
    "combi['Default_hist'].replace(\"df\",1 , inplace = True)\n",
    "combi['Default_hist'].replace(\"ndf\",0 , inplace = True)"
   ]
  },
  {
   "cell_type": "code",
   "execution_count": 52,
   "id": "a9d7d4b6",
   "metadata": {},
   "outputs": [
    {
     "data": {
      "text/plain": [
       "One             130781\n",
       "Morethan_One     36942\n",
       "None             18601\n",
       "Name: Prop_List, dtype: int64"
      ]
     },
     "execution_count": 52,
     "metadata": {},
     "output_type": "execute_result"
    }
   ],
   "source": [
    "combi['Prop_List'].value_counts()"
   ]
  },
  {
   "cell_type": "code",
   "execution_count": 53,
   "id": "68cc5290",
   "metadata": {},
   "outputs": [],
   "source": [
    "combi['Prop_List'].replace(np.nan,\"One\" , inplace = True)\n"
   ]
  },
  {
   "cell_type": "code",
   "execution_count": 54,
   "id": "214f55c8",
   "metadata": {},
   "outputs": [
    {
     "data": {
      "text/plain": [
       "0"
      ]
     },
     "execution_count": 54,
     "metadata": {},
     "output_type": "execute_result"
    }
   ],
   "source": [
    "combi['Prop_List'].isna().sum()"
   ]
  },
  {
   "cell_type": "code",
   "execution_count": 55,
   "id": "1cfa6471",
   "metadata": {},
   "outputs": [
    {
     "data": {
      "text/plain": [
       "4.0     121796\n",
       "1.0      34324\n",
       "2.0      15108\n",
       "3.0       2173\n",
       "5.0         43\n",
       "6.0         17\n",
       "10.0         3\n",
       "7.0          3\n",
       "14.0         3\n",
       "19.0         2\n",
       "12.0         2\n",
       "8.0          2\n",
       "9.0          1\n",
       "Name: Home_Appliances, dtype: int64"
      ]
     },
     "execution_count": 55,
     "metadata": {},
     "output_type": "execute_result"
    }
   ],
   "source": [
    "combi['Home_Appliances'].value_counts()"
   ]
  },
  {
   "cell_type": "code",
   "execution_count": 56,
   "id": "e89e0e7a",
   "metadata": {},
   "outputs": [],
   "source": [
    "combi['Home_Appliances'].replace(np.nan,4.0 , inplace = True)"
   ]
  },
  {
   "cell_type": "code",
   "execution_count": 57,
   "id": "088c51af",
   "metadata": {},
   "outputs": [
    {
     "data": {
      "text/plain": [
       "1     95775\n",
       "2     43392\n",
       "3     33176\n",
       ">4    13001\n",
       "Name: Credit_Inq, dtype: int64"
      ]
     },
     "execution_count": 57,
     "metadata": {},
     "output_type": "execute_result"
    }
   ],
   "source": [
    "combi['Credit_Inq'].value_counts()"
   ]
  },
  {
   "cell_type": "code",
   "execution_count": 58,
   "id": "c35107d5",
   "metadata": {},
   "outputs": [],
   "source": [
    "combi['Credit_Inq'].replace(np.nan,1 , inplace = True)"
   ]
  },
  {
   "cell_type": "code",
   "execution_count": 59,
   "id": "14dcb70a",
   "metadata": {},
   "outputs": [
    {
     "data": {
      "text/plain": [
       "array([ 0.9,  3. ,  nan,  4.7,  6.9, 19.6,  4.1, 13.6,  7.6,  1.3,  2.4,\n",
       "        1.2, 10.7,  2.5,  5.3, 12.8, 18.7,  1.7,  3.9, 12. , 10.3,  1. ,\n",
       "        6.3,  7.7,  5.7, 10.5,  7.9, 13.3,  3.7,  1.1, 11.3,  8.2,  6.5,\n",
       "        6.2,  2.8,  4.5,  2.3,  5.2,  4.2,  0.7, 17.5,  5.1,  7.1, 13.8,\n",
       "        5. ,  3.3, 21.2, 21.7,  1.6,  8.8,  6.1, 10.8, 19.1, 13.1, 15.6,\n",
       "       17.7, 10. ,  1.8, 23.9, 15. ,  3.4,  7.8,  5.6,  8. ,  1.4,  0.6,\n",
       "       17.8,  5.8, 17.6, 11.2,  1.9,  9.8, 35.1,  6.6,  4.6,  3.6,  4.9,\n",
       "        7.5,  3.2,  9.7,  5.5,  9.6,  3.8,  0.5,  2.1,  2.6,  2.2,  9.4,\n",
       "       10.1,  3.5,  2. , 11.9,  1.5, 29.2, 11.1,  6. , 14.9, 16.9, 22. ,\n",
       "        7. ,  2.9, 13.9, 24.1,  0.3,  4.4, 11.6,  9.3, 10.4, 16. ,  0.4,\n",
       "        8.3,  2.7, 34. ,  0.2,  0.8, 11.7,  8.6,  5.4, 14.4,  6.8, 11.8,\n",
       "       12.3,  4.3,  7.4, 18.9,  3.1,  9. , 19.5, 11.5,  9.2, 19.2, 14.5,\n",
       "        9.1, 22.3,  8.9,  8.7, 11. , 17.3, 13.2,  6.4,  6.7,  8.5,  4. ,\n",
       "       14.1, 23.4,  8.4, 20.1,  5.9, 23.2, 15.5, 12.6, 21.4, 20.3, 12.9,\n",
       "        4.8, 18.3, 16.6, 28. , 16.5, 12.4,  8.1, 18.2, 21.5, 26.5,  7.2,\n",
       "       29.6, 10.9,  9.9, 12.7, 22.4, 14.3, 15.9, 24.3, 21. , 31.9, 35.4,\n",
       "       16.7, 29.4, 13. , 18. , 14.6, 23.5, 25.5, 37.8, 27.9, 10.6, 31. ,\n",
       "       28.2, 18.8, 28.3, 11.4, 13.4, 13.5,  7.3, 12.2, 14. , 33.3, 32.8,\n",
       "       25.6, 10.2, 20.5, 15.8, 29. , 12.5, 14.7,  0.1, 25.2, 20.9, 12.1,\n",
       "       15.1,  9.5, 24.5, 30.8, 31.7, 14.8, 34.2, 35.6, 26.4, 17. , 20. ,\n",
       "       38.1, 15.3, 17.2, 23.3, 21.6, 18.4, 30.7, 16.3, 16.8, 20.4, 21.1,\n",
       "       28.4, 19.7, 23.8, 20.6, 17.4, 27.2, 28.7, 27.1, 38.3, 29.9, 36.1,\n",
       "       37.4, 25. , 32.1, 35. , 26.2, 13.7, 15.4, 19.3, 30.9, 26.1, 21.3,\n",
       "       30. , 25.4, 25.9, 15.7, 19.8, 35.7, 15.2, 24.6, 21.8, 16.4, 23.1,\n",
       "       33.8, 31.2, 14.2, 16.2, 36.9, 23. , 19.9, 28.8, 30.2, 39.2, 22.8,\n",
       "       32.9, 32.5, 37.5, 18.1, 29.3, 18.6, 17.1, 25.8, 32.6, 24.2, 26.3,\n",
       "       28.9, 25.1, 24. , 28.1, 22.5, 29.7, 24.8, 41.9, 31.3, 18.5, 22.2,\n",
       "       34.5, 20.2, 23.7, 26.7, 16.1, 39.1, 35.2, 33.1, 38.5, 20.7, 28.5,\n",
       "       40.3, 40.6, 27.8, 32.4, 27.6, 42.3, 20.8, 22.7, 29.1, 33. , 30.6,\n",
       "       17.9, 37.2, 24.4, 35.8, 25.7, 23.6, 35.5, 30.4, 33.2, 21.9, 34.9,\n",
       "       31.1, 26. , 31.8, 19.4, 26.6, 30.1, 43.1, 27.4, 32. , 24.9, 34.1,\n",
       "       32.2, 39. , 22.6, 38. , 41.2, 32.3, 26.8, 27. , 31.6, 37.3, 38.4,\n",
       "       39.4, 22.1, 29.5, 22.9, 41.4, 25.3, 27.5, 48. , 29.8, 26.9, 31.4,\n",
       "       30.5, 33.6, 36.2, 31.5, 34.6, 24.7,  0. , 37.9, 37.1, 36.6, 32.7,\n",
       "       27.7, 19. , 33.5, 27.3, 39.9, 34.7, 39.6, 30.3, 37.7, 35.9, 38.8,\n",
       "       33.4, 28.6, 41.5, 39.3, 39.8, 34.3, 36. , 40.1, 36.5, 34.4, 40.5,\n",
       "       33.7, 45.1, 36.4, 38.9, 40. , 39.7, 33.9, 41. , 35.3, 36.8, 42.4,\n",
       "       36.3, 36.7, 44.7, 37. , 44.8, 42. , 42.2, 42.7, 41.3, 38.7, 34.8,\n",
       "       43.3, 41.7, 40.7, 40.4, 44.9, 48.1, 38.2, 40.2, 42.5, 47. , 43.9,\n",
       "       43. , 44.1, 39.5, 42.8, 45.7, 44.2, 37.6, 45.6, 45.2, 43.6, 40.8,\n",
       "       43.4, 42.9, 45.3, 40.9, 44.3, 41.1, 46.2, 43.7, 42.1, 38.6])"
      ]
     },
     "execution_count": 59,
     "metadata": {},
     "output_type": "execute_result"
    }
   ],
   "source": [
    "combi['Experience'].unique()"
   ]
  },
  {
   "cell_type": "code",
   "execution_count": 60,
   "id": "e902d4fd",
   "metadata": {},
   "outputs": [
    {
     "data": {
      "text/plain": [
       "(6.583514974304075,\n",
       " 4.6,\n",
       " 0    10.1\n",
       " dtype: float64)"
      ]
     },
     "execution_count": 60,
     "metadata": {},
     "output_type": "execute_result"
    }
   ],
   "source": [
    "combi['Experience'].mean() , combi['Experience'].median() , combi['Experience'].mode()"
   ]
  },
  {
   "cell_type": "code",
   "execution_count": 61,
   "id": "a6ecb307",
   "metadata": {},
   "outputs": [
    {
     "data": {
      "text/plain": [
       "<AxesSubplot:xlabel='Experience'>"
      ]
     },
     "execution_count": 61,
     "metadata": {},
     "output_type": "execute_result"
    },
    {
     "data": {
      "image/png": "[encoded data removed]",
      "text/plain": [
       "<Figure size 432x288 with 1 Axes>"
      ]
     },
     "metadata": {
      "needs_background": "light"
     },
     "output_type": "display_data"
    }
   ],
   "source": [
    "sns.boxplot(combi['Experience'])"
   ]
  },
  {
   "cell_type": "code",
   "execution_count": 62,
   "id": "1d14a365",
   "metadata": {},
   "outputs": [],
   "source": [
    "combi['Experience'].replace(np.nan,4.6 , inplace = True)"
   ]
  },
  {
   "cell_type": "code",
   "execution_count": 63,
   "id": "a58a7409",
   "metadata": {},
   "outputs": [
    {
     "data": {
      "text/plain": [
       "array([3., 2., 4., 1., 5., 6., 8., 7., 9.])"
      ]
     },
     "execution_count": 63,
     "metadata": {},
     "output_type": "execute_result"
    }
   ],
   "source": [
    "combi['Dependents'].unique()"
   ]
  },
  {
   "cell_type": "code",
   "execution_count": 64,
   "id": "617a95e3",
   "metadata": {},
   "outputs": [
    {
     "data": {
      "text/plain": [
       "array([10., 12.,  5., 16., 14.,  9.,  8., 11., 13., 15.,  6., 18., 20.,\n",
       "       17.,  7., 19.,  2.,  3.,  1.,  4.,  0., 22., 21., 24., 23., 25.])"
      ]
     },
     "execution_count": 64,
     "metadata": {},
     "output_type": "execute_result"
    }
   ],
   "source": [
    "combi[\"hour_Process\"].unique()"
   ]
  },
  {
   "cell_type": "code",
   "execution_count": 65,
   "id": "723f77fe",
   "metadata": {},
   "outputs": [
    {
     "data": {
      "text/plain": [
       "2.0    128441\n",
       "3.0     24568\n",
       "1.0     19407\n",
       "Name: Company_Rating, dtype: int64"
      ]
     },
     "execution_count": 65,
     "metadata": {},
     "output_type": "execute_result"
    }
   ],
   "source": [
    "combi[\"Company_Rating\"].value_counts()"
   ]
  },
  {
   "cell_type": "code",
   "execution_count": 66,
   "id": "46e3209e",
   "metadata": {},
   "outputs": [],
   "source": [
    "combi[\"Company_Rating\"].replace(np.nan,2 , inplace = True)"
   ]
  },
  {
   "cell_type": "code",
   "execution_count": 67,
   "id": "5c2a65bb",
   "metadata": {},
   "outputs": [
    {
     "data": {
      "text/plain": [
       "(871,)"
      ]
     },
     "execution_count": 67,
     "metadata": {},
     "output_type": "execute_result"
    }
   ],
   "source": [
    "combi[\"c1_rated\"].unique().shape"
   ]
  },
  {
   "cell_type": "code",
   "execution_count": 68,
   "id": "2e3f3e97",
   "metadata": {},
   "outputs": [
    {
     "data": {
      "text/plain": [
       "(0.5057720235632123,\n",
       " 0.5,\n",
       " 0    0.826\n",
       " dtype: float64)"
      ]
     },
     "execution_count": 68,
     "metadata": {},
     "output_type": "execute_result"
    }
   ],
   "source": [
    "combi[\"c1_rated\"].mean() ,combi[\"c1_rated\"].median() , combi[\"c1_rated\"].mode()"
   ]
  },
  {
   "cell_type": "code",
   "execution_count": 69,
   "id": "ec927c0d",
   "metadata": {},
   "outputs": [],
   "source": [
    "combi[\"c1_rated\"].replace(np.nan,0.5 , inplace = True)"
   ]
  },
  {
   "cell_type": "code",
   "execution_count": 70,
   "id": "be2347e8",
   "metadata": {},
   "outputs": [
    {
     "data": {
      "text/plain": [
       "(0.5061731776952824,\n",
       " 0.5,\n",
       " 0    0.826\n",
       " dtype: float64)"
      ]
     },
     "execution_count": 70,
     "metadata": {},
     "output_type": "execute_result"
    }
   ],
   "source": [
    "combi[\"c2_rated\"].mean() ,combi[\"c2_rated\"].median() , combi[\"c2_rated\"].mode()"
   ]
  },
  {
   "cell_type": "code",
   "execution_count": 71,
   "id": "cd173a03",
   "metadata": {},
   "outputs": [],
   "source": [
    "### Since c1 and c2 are having same exact values we can drop either of them..\n",
    "combi.drop(\"c2_rated\" , axis =1 , inplace = True)"
   ]
  },
  {
   "cell_type": "code",
   "execution_count": 72,
   "id": "5aea1d3d",
   "metadata": {},
   "outputs": [
    {
     "data": {
      "text/plain": [
       "array([  18.,  306.,  281., ..., 3615., 3792., 3933.])"
      ]
     },
     "execution_count": 72,
     "metadata": {},
     "output_type": "execute_result"
    }
   ],
   "source": [
    "combi[\"Contact_age\"].unique()"
   ]
  },
  {
   "cell_type": "code",
   "execution_count": 73,
   "id": "feec37ed",
   "metadata": {},
   "outputs": [
    {
     "data": {
      "text/plain": [
       "(977.1631601182931,\n",
       " 769.0,\n",
       " 0    19.0\n",
       " dtype: float64)"
      ]
     },
     "execution_count": 73,
     "metadata": {},
     "output_type": "execute_result"
    }
   ],
   "source": [
    "combi[\"Contact_age\"].mean() ,combi[\"Contact_age\"].median() , combi[\"Contact_age\"].mode()"
   ]
  },
  {
   "cell_type": "code",
   "execution_count": 74,
   "id": "18e948db",
   "metadata": {},
   "outputs": [],
   "source": [
    "combi[\"Contact_age\"].replace(np.nan,769 , inplace = True)"
   ]
  },
  {
   "cell_type": "code",
   "execution_count": 75,
   "id": "7cb6ba54",
   "metadata": {},
   "outputs": [
    {
     "data": {
      "text/plain": [
       "Not_Specified    128289\n",
       "Y                 49930\n",
       "Name: Income_Alt, dtype: int64"
      ]
     },
     "execution_count": 75,
     "metadata": {},
     "output_type": "execute_result"
    }
   ],
   "source": [
    "combi[\"Income_Alt\"].value_counts()"
   ]
  },
  {
   "cell_type": "code",
   "execution_count": 76,
   "id": "43c4ef51",
   "metadata": {},
   "outputs": [],
   "source": [
    "combi[\"Income_Alt\"].replace(np.nan,\"Not_Specified\" , inplace = True)"
   ]
  },
  {
   "cell_type": "code",
   "execution_count": 77,
   "id": "d2bf57be",
   "metadata": {},
   "outputs": [
    {
     "data": {
      "text/plain": [
       "Compensation              0\n",
       "Vehicle_Status            0\n",
       "Loan_amt                  0\n",
       "Annuity_amt               0\n",
       "density_Ind               0\n",
       "Job_Type                  0\n",
       "Default_hist              0\n",
       "Prop_List                 0\n",
       "Home_Appliances           0\n",
       "Region_Type               0\n",
       "Credit_Inq                0\n",
       "Education_det             0\n",
       "Marital_Stat              0\n",
       "Gen                       0\n",
       "Credit_Lnks               0\n",
       "Experience                0\n",
       "Income_Alt                0\n",
       "Day_Process               0\n",
       "Ph.No                     0\n",
       "Type_Loan                 0\n",
       "Dependents                0\n",
       "Company_Rating            0\n",
       "Region                    0\n",
       "Age                       0\n",
       "hour_Process              0\n",
       "Addr_permanent            0\n",
       "Permanent_Addr_tag        0\n",
       "c1_rated                  0\n",
       "Contact_age               0\n",
       "Product_bought            0\n",
       "Default               56760\n",
       "dtype: int64"
      ]
     },
     "execution_count": 77,
     "metadata": {},
     "output_type": "execute_result"
    }
   ],
   "source": [
    "combi.isna().sum()"
   ]
  },
  {
   "cell_type": "code",
   "execution_count": 78,
   "id": "a3c66784",
   "metadata": {},
   "outputs": [],
   "source": [
    "df_num = combi.select_dtypes(np.number)"
   ]
  },
  {
   "cell_type": "code",
   "execution_count": 79,
   "id": "e9e67aa9",
   "metadata": {},
   "outputs": [],
   "source": [
    "df_num.drop(\"Default\" , axis=1 , inplace=True)"
   ]
  },
  {
   "cell_type": "code",
   "execution_count": 80,
   "id": "7f695e6a",
   "metadata": {},
   "outputs": [],
   "source": [
    "df_num.drop(\"Annuity_amt\" , axis=1 , inplace=True)"
   ]
  },
  {
   "cell_type": "code",
   "execution_count": 81,
   "id": "533d890f",
   "metadata": {},
   "outputs": [
    {
     "data": {
      "text/html": [
       "<div>\n",
       "<style scoped>\n",
       "    .dataframe tbody tr th:only-of-type {\n",
       "        vertical-align: middle;\n",
       "    }\n",
       "\n",
       "    .dataframe tbody tr th {\n",
       "        vertical-align: top;\n",
       "    }\n",
       "\n",
       "    .dataframe thead th {\n",
       "        text-align: right;\n",
       "    }\n",
       "</style>\n",
       "<table border=\"1\" class=\"dataframe\">\n",
       "  <thead>\n",
       "    <tr style=\"text-align: right;\">\n",
       "      <th></th>\n",
       "      <th>VIF_Factor</th>\n",
       "      <th>Features</th>\n",
       "    </tr>\n",
       "  </thead>\n",
       "  <tbody>\n",
       "    <tr>\n",
       "      <th>0</th>\n",
       "      <td>15.156755</td>\n",
       "      <td>Age</td>\n",
       "    </tr>\n",
       "    <tr>\n",
       "      <th>1</th>\n",
       "      <td>14.557628</td>\n",
       "      <td>Company_Rating</td>\n",
       "    </tr>\n",
       "    <tr>\n",
       "      <th>2</th>\n",
       "      <td>12.550103</td>\n",
       "      <td>Dependents</td>\n",
       "    </tr>\n",
       "    <tr>\n",
       "      <th>3</th>\n",
       "      <td>11.128442</td>\n",
       "      <td>Home_Appliances</td>\n",
       "    </tr>\n",
       "    <tr>\n",
       "      <th>4</th>\n",
       "      <td>10.389057</td>\n",
       "      <td>hour_Process</td>\n",
       "    </tr>\n",
       "    <tr>\n",
       "      <th>5</th>\n",
       "      <td>4.920737</td>\n",
       "      <td>c1_rated</td>\n",
       "    </tr>\n",
       "    <tr>\n",
       "      <th>6</th>\n",
       "      <td>4.185613</td>\n",
       "      <td>Compensation</td>\n",
       "    </tr>\n",
       "    <tr>\n",
       "      <th>7</th>\n",
       "      <td>3.608353</td>\n",
       "      <td>Loan_amt</td>\n",
       "    </tr>\n",
       "    <tr>\n",
       "      <th>8</th>\n",
       "      <td>3.418968</td>\n",
       "      <td>Product_bought</td>\n",
       "    </tr>\n",
       "    <tr>\n",
       "      <th>9</th>\n",
       "      <td>2.739727</td>\n",
       "      <td>density_Ind</td>\n",
       "    </tr>\n",
       "    <tr>\n",
       "      <th>10</th>\n",
       "      <td>2.499117</td>\n",
       "      <td>Contact_age</td>\n",
       "    </tr>\n",
       "    <tr>\n",
       "      <th>11</th>\n",
       "      <td>2.272202</td>\n",
       "      <td>Experience</td>\n",
       "    </tr>\n",
       "    <tr>\n",
       "      <th>12</th>\n",
       "      <td>1.956682</td>\n",
       "      <td>Default_hist</td>\n",
       "    </tr>\n",
       "  </tbody>\n",
       "</table>\n",
       "</div>"
      ],
      "text/plain": [
       "    VIF_Factor         Features\n",
       "0    15.156755              Age\n",
       "1    14.557628   Company_Rating\n",
       "2    12.550103       Dependents\n",
       "3    11.128442  Home_Appliances\n",
       "4    10.389057     hour_Process\n",
       "5     4.920737         c1_rated\n",
       "6     4.185613     Compensation\n",
       "7     3.608353         Loan_amt\n",
       "8     3.418968   Product_bought\n",
       "9     2.739727      density_Ind\n",
       "10    2.499117      Contact_age\n",
       "11    2.272202       Experience\n",
       "12    1.956682     Default_hist"
      ]
     },
     "execution_count": 81,
     "metadata": {},
     "output_type": "execute_result"
    }
   ],
   "source": [
    "vif = pd.DataFrame() \n",
    "vif['VIF_Factor'] = [variance_inflation_factor(df_num.values,i) for i in range(df_num.shape[1])] \n",
    "vif['Features'] = df_num.columns \n",
    "vif.sort_values('VIF_Factor', ascending=False).reset_index(drop=True)"
   ]
  },
  {
   "cell_type": "code",
   "execution_count": 82,
   "id": "8f0e9223",
   "metadata": {
    "scrolled": true
   },
   "outputs": [],
   "source": [
    "combi[\"Default_hist\"] = combi[\"Default_hist\"].astype(int)\n",
    "combi[\"Company_Rating\"] = combi[\"Company_Rating\"].astype(int)\n",
    "combi[\"Age\"] = combi[\"Age\"].astype(int)\n",
    "combi[\"hour_Process\"] = combi[\"hour_Process\"].astype(int)\n",
    "combi[\"Dependents\"] = combi[\"Dependents\"].astype(int)\n",
    "combi[\"Contact_age\"] = combi[\"Contact_age\"].astype(int)\n",
    "combi[\"Product_bought\"] = combi[\"Product_bought\"].astype(int)"
   ]
  },
  {
   "cell_type": "code",
   "execution_count": 83,
   "id": "e04a382c",
   "metadata": {},
   "outputs": [
    {
     "data": {
      "text/plain": [
       "Compensation          float64\n",
       "Vehicle_Status         object\n",
       "Loan_amt              float64\n",
       "Annuity_amt           float64\n",
       "density_Ind           float64\n",
       "Job_Type               object\n",
       "Default_hist            int32\n",
       "Prop_List              object\n",
       "Home_Appliances       float64\n",
       "Region_Type            object\n",
       "Credit_Inq             object\n",
       "Education_det          object\n",
       "Marital_Stat           object\n",
       "Gen                    object\n",
       "Credit_Lnks            object\n",
       "Experience            float64\n",
       "Income_Alt             object\n",
       "Day_Process            object\n",
       "Ph.No                  object\n",
       "Type_Loan              object\n",
       "Dependents              int32\n",
       "Company_Rating          int32\n",
       "Region                 object\n",
       "Age                     int32\n",
       "hour_Process            int32\n",
       "Addr_permanent         object\n",
       "Permanent_Addr_tag     object\n",
       "c1_rated              float64\n",
       "Contact_age             int32\n",
       "Product_bought          int32\n",
       "Default               float64\n",
       "dtype: object"
      ]
     },
     "execution_count": 83,
     "metadata": {},
     "output_type": "execute_result"
    }
   ],
   "source": [
    "combi.dtypes"
   ]
  },
  {
   "cell_type": "code",
   "execution_count": 84,
   "id": "84e90aa4",
   "metadata": {},
   "outputs": [
    {
     "data": {
      "text/plain": [
       "<AxesSubplot:xlabel='Default', ylabel='count'>"
      ]
     },
     "execution_count": 84,
     "metadata": {},
     "output_type": "execute_result"
    },
    {
     "data": {
      "image/png": "[encoded data removed]",
      "text/plain": [
       "<Figure size 432x288 with 1 Axes>"
      ]
     },
     "metadata": {
      "needs_background": "light"
     },
     "output_type": "display_data"
    }
   ],
   "source": [
    "sns.countplot(combi[\"Default\"])"
   ]
  },
  {
   "cell_type": "code",
   "execution_count": 85,
   "id": "2dd874fb",
   "metadata": {},
   "outputs": [],
   "source": [
    "combi1= pd.get_dummies(combi , drop_first=True)"
   ]
  },
  {
   "cell_type": "code",
   "execution_count": 86,
   "id": "2d42e34b",
   "metadata": {},
   "outputs": [
    {
     "data": {
      "text/plain": [
       "((132440, 48), (56760, 47), (132440, 33), (56760, 32))"
      ]
     },
     "execution_count": 86,
     "metadata": {},
     "output_type": "execute_result"
    }
   ],
   "source": [
    "newtrain = combi1.loc[0:train.shape[0]-1]\n",
    "newtest = combi1.loc[train.shape[0]:, ]\n",
    "newtest.drop(\"Default\" , axis=1 , inplace=True)\n",
    "newtrain.shape,newtest.shape,train.shape,test.shape"
   ]
  },
  {
   "cell_type": "code",
   "execution_count": 87,
   "id": "e5967466",
   "metadata": {},
   "outputs": [],
   "source": [
    "newtrain[\"Default\"] = newtrain[\"Default\"].astype(int)"
   ]
  },
  {
   "cell_type": "code",
   "execution_count": 88,
   "id": "c6db9541",
   "metadata": {},
   "outputs": [
    {
     "data": {
      "text/html": [
       "<table class=\"simpletable\">\n",
       "<caption>OLS Regression Results</caption>\n",
       "<tr>\n",
       "  <th>Dep. Variable:</th>         <td>Default</td>     <th>  R-squared:         </th> <td>   0.002</td> \n",
       "</tr>\n",
       "<tr>\n",
       "  <th>Model:</th>                   <td>OLS</td>       <th>  Adj. R-squared:    </th> <td>   0.002</td> \n",
       "</tr>\n",
       "<tr>\n",
       "  <th>Method:</th>             <td>Least Squares</td>  <th>  F-statistic:       </th> <td>   6.711</td> \n",
       "</tr>\n",
       "<tr>\n",
       "  <th>Date:</th>             <td>Fri, 29 Jul 2022</td> <th>  Prob (F-statistic):</th> <td>2.26e-41</td> \n",
       "</tr>\n",
       "<tr>\n",
       "  <th>Time:</th>                 <td>14:04:17</td>     <th>  Log-Likelihood:    </th> <td> -79325.</td> \n",
       "</tr>\n",
       "<tr>\n",
       "  <th>No. Observations:</th>      <td>132440</td>      <th>  AIC:               </th> <td>1.587e+05</td>\n",
       "</tr>\n",
       "<tr>\n",
       "  <th>Df Residuals:</th>          <td>132392</td>      <th>  BIC:               </th> <td>1.592e+05</td>\n",
       "</tr>\n",
       "<tr>\n",
       "  <th>Df Model:</th>              <td>    47</td>      <th>                     </th>     <td> </td>    \n",
       "</tr>\n",
       "<tr>\n",
       "  <th>Covariance Type:</th>      <td>nonrobust</td>    <th>                     </th>     <td> </td>    \n",
       "</tr>\n",
       "</table>\n",
       "<table class=\"simpletable\">\n",
       "<tr>\n",
       "             <td></td>               <th>coef</th>     <th>std err</th>      <th>t</th>      <th>P>|t|</th>  <th>[0.025</th>    <th>0.975]</th>  \n",
       "</tr>\n",
       "<tr>\n",
       "  <th>const</th>                  <td>    0.3169</td> <td>    0.019</td> <td>   16.260</td> <td> 0.000</td> <td>    0.279</td> <td>    0.355</td>\n",
       "</tr>\n",
       "<tr>\n",
       "  <th>Compensation</th>           <td>  3.94e-09</td> <td> 2.86e-09</td> <td>    1.376</td> <td> 0.169</td> <td>-1.67e-09</td> <td> 9.55e-09</td>\n",
       "</tr>\n",
       "<tr>\n",
       "  <th>Loan_amt</th>               <td>-6.639e-09</td> <td> 5.24e-09</td> <td>   -1.266</td> <td> 0.206</td> <td>-1.69e-08</td> <td> 3.64e-09</td>\n",
       "</tr>\n",
       "<tr>\n",
       "  <th>Annuity_amt</th>            <td>-2.612e-08</td> <td> 6.91e-07</td> <td>   -0.038</td> <td> 0.970</td> <td>-1.38e-06</td> <td> 1.33e-06</td>\n",
       "</tr>\n",
       "<tr>\n",
       "  <th>density_Ind</th>            <td>    0.0284</td> <td>    0.082</td> <td>    0.347</td> <td> 0.729</td> <td>   -0.132</td> <td>    0.189</td>\n",
       "</tr>\n",
       "<tr>\n",
       "  <th>Default_hist</th>           <td>    0.0171</td> <td>    0.029</td> <td>    0.581</td> <td> 0.561</td> <td>   -0.041</td> <td>    0.075</td>\n",
       "</tr>\n",
       "<tr>\n",
       "  <th>Home_Appliances</th>        <td>   -0.0027</td> <td>    0.003</td> <td>   -1.056</td> <td> 0.291</td> <td>   -0.008</td> <td>    0.002</td>\n",
       "</tr>\n",
       "<tr>\n",
       "  <th>Experience</th>             <td>   -0.0010</td> <td>    0.000</td> <td>   -4.346</td> <td> 0.000</td> <td>   -0.001</td> <td>   -0.001</td>\n",
       "</tr>\n",
       "<tr>\n",
       "  <th>Dependents</th>             <td>-4.786e-05</td> <td>    0.004</td> <td>   -0.013</td> <td> 0.990</td> <td>   -0.007</td> <td>    0.007</td>\n",
       "</tr>\n",
       "<tr>\n",
       "  <th>Company_Rating</th>         <td>    0.0106</td> <td>    0.003</td> <td>    4.009</td> <td> 0.000</td> <td>    0.005</td> <td>    0.016</td>\n",
       "</tr>\n",
       "<tr>\n",
       "  <th>Age</th>                    <td>   -0.0006</td> <td>    0.000</td> <td>   -4.496</td> <td> 0.000</td> <td>   -0.001</td> <td>   -0.000</td>\n",
       "</tr>\n",
       "<tr>\n",
       "  <th>hour_Process</th>           <td>   -0.0006</td> <td>    0.000</td> <td>   -1.826</td> <td> 0.068</td> <td>   -0.001</td> <td> 4.71e-05</td>\n",
       "</tr>\n",
       "<tr>\n",
       "  <th>c1_rated</th>               <td>   -0.0204</td> <td>    0.005</td> <td>   -4.214</td> <td> 0.000</td> <td>   -0.030</td> <td>   -0.011</td>\n",
       "</tr>\n",
       "<tr>\n",
       "  <th>Contact_age</th>            <td>-5.721e-06</td> <td> 1.53e-06</td> <td>   -3.729</td> <td> 0.000</td> <td>-8.73e-06</td> <td>-2.71e-06</td>\n",
       "</tr>\n",
       "<tr>\n",
       "  <th>Product_bought</th>         <td>    0.0013</td> <td>    0.001</td> <td>    2.358</td> <td> 0.018</td> <td>    0.000</td> <td>    0.002</td>\n",
       "</tr>\n",
       "<tr>\n",
       "  <th>Vehicle_Status_Y</th>       <td>   -0.0097</td> <td>    0.003</td> <td>   -3.452</td> <td> 0.001</td> <td>   -0.015</td> <td>   -0.004</td>\n",
       "</tr>\n",
       "<tr>\n",
       "  <th>Job_Type_IT</th>            <td>   -0.0055</td> <td>    0.003</td> <td>   -1.734</td> <td> 0.083</td> <td>   -0.012</td> <td>    0.001</td>\n",
       "</tr>\n",
       "<tr>\n",
       "  <th>Job_Type_Non-IT</th>        <td>   -0.0072</td> <td>    0.004</td> <td>   -1.868</td> <td> 0.062</td> <td>   -0.015</td> <td>    0.000</td>\n",
       "</tr>\n",
       "<tr>\n",
       "  <th>Prop_List_None</th>         <td>   -0.0178</td> <td>    0.029</td> <td>   -0.616</td> <td> 0.538</td> <td>   -0.074</td> <td>    0.039</td>\n",
       "</tr>\n",
       "<tr>\n",
       "  <th>Prop_List_One</th>          <td>    0.0108</td> <td>    0.009</td> <td>    1.260</td> <td> 0.208</td> <td>   -0.006</td> <td>    0.028</td>\n",
       "</tr>\n",
       "<tr>\n",
       "  <th>Region_Type_Rural</th>      <td>   -0.0018</td> <td>    0.003</td> <td>   -0.539</td> <td> 0.590</td> <td>   -0.008</td> <td>    0.005</td>\n",
       "</tr>\n",
       "<tr>\n",
       "  <th>Region_Type_other</th>      <td>   -0.0041</td> <td>    0.009</td> <td>   -0.467</td> <td> 0.641</td> <td>   -0.021</td> <td>    0.013</td>\n",
       "</tr>\n",
       "<tr>\n",
       "  <th>Credit_Inq_1</th>           <td>    0.0198</td> <td>    0.009</td> <td>    2.274</td> <td> 0.023</td> <td>    0.003</td> <td>    0.037</td>\n",
       "</tr>\n",
       "<tr>\n",
       "  <th>Credit_Inq_2</th>           <td>    0.0183</td> <td>    0.009</td> <td>    2.060</td> <td> 0.039</td> <td>    0.001</td> <td>    0.036</td>\n",
       "</tr>\n",
       "<tr>\n",
       "  <th>Credit_Inq_3</th>           <td>    0.0119</td> <td>    0.009</td> <td>    1.272</td> <td> 0.203</td> <td>   -0.006</td> <td>    0.030</td>\n",
       "</tr>\n",
       "<tr>\n",
       "  <th>Credit_Inq_>4</th>          <td>    0.0195</td> <td>    0.010</td> <td>    1.995</td> <td> 0.046</td> <td>    0.000</td> <td>    0.039</td>\n",
       "</tr>\n",
       "<tr>\n",
       "  <th>Education_det_Other</th>    <td>   -0.0042</td> <td>    0.006</td> <td>   -0.719</td> <td> 0.472</td> <td>   -0.016</td> <td>    0.007</td>\n",
       "</tr>\n",
       "<tr>\n",
       "  <th>Education_det_P_Grad</th>   <td>   -0.0165</td> <td>    0.003</td> <td>   -5.560</td> <td> 0.000</td> <td>   -0.022</td> <td>   -0.011</td>\n",
       "</tr>\n",
       "<tr>\n",
       "  <th>Marital_Stat_Married</th>   <td>    0.0031</td> <td>    0.006</td> <td>    0.502</td> <td> 0.616</td> <td>   -0.009</td> <td>    0.015</td>\n",
       "</tr>\n",
       "<tr>\n",
       "  <th>Marital_Stat_Single</th>    <td>   -0.0015</td> <td>    0.006</td> <td>   -0.263</td> <td> 0.792</td> <td>   -0.013</td> <td>    0.010</td>\n",
       "</tr>\n",
       "<tr>\n",
       "  <th>Marital_Stat_Widow</th>     <td>    0.0112</td> <td>    0.007</td> <td>    1.529</td> <td> 0.126</td> <td>   -0.003</td> <td>    0.026</td>\n",
       "</tr>\n",
       "<tr>\n",
       "  <th>Gen_M</th>                  <td>   -0.0138</td> <td>    0.003</td> <td>   -4.890</td> <td> 0.000</td> <td>   -0.019</td> <td>   -0.008</td>\n",
       "</tr>\n",
       "<tr>\n",
       "  <th>Credit_Lnks_4_to_6</th>     <td>    0.0073</td> <td>    0.004</td> <td>    1.763</td> <td> 0.078</td> <td>   -0.001</td> <td>    0.015</td>\n",
       "</tr>\n",
       "<tr>\n",
       "  <th>Credit_Lnks_>6</th>         <td>   -0.0118</td> <td>    0.011</td> <td>   -1.084</td> <td> 0.278</td> <td>   -0.033</td> <td>    0.010</td>\n",
       "</tr>\n",
       "<tr>\n",
       "  <th>Income_Alt_Y</th>           <td>   -0.0021</td> <td>    0.003</td> <td>   -0.713</td> <td> 0.476</td> <td>   -0.008</td> <td>    0.004</td>\n",
       "</tr>\n",
       "<tr>\n",
       "  <th>Day_Process_SAT</th>        <td>    0.0062</td> <td>    0.005</td> <td>    1.303</td> <td> 0.193</td> <td>   -0.003</td> <td>    0.015</td>\n",
       "</tr>\n",
       "<tr>\n",
       "  <th>Day_Process_Sun</th>        <td>   -0.0029</td> <td>    0.006</td> <td>   -0.479</td> <td> 0.632</td> <td>   -0.015</td> <td>    0.009</td>\n",
       "</tr>\n",
       "<tr>\n",
       "  <th>Day_Process_Tue</th>        <td>    0.0006</td> <td>    0.004</td> <td>    0.149</td> <td> 0.882</td> <td>   -0.008</td> <td>    0.009</td>\n",
       "</tr>\n",
       "<tr>\n",
       "  <th>Day_Process_mon</th>        <td>   -0.0011</td> <td>    0.004</td> <td>   -0.262</td> <td> 0.793</td> <td>   -0.009</td> <td>    0.007</td>\n",
       "</tr>\n",
       "<tr>\n",
       "  <th>Day_Process_thur</th>       <td>    0.0052</td> <td>    0.004</td> <td>    1.222</td> <td> 0.222</td> <td>   -0.003</td> <td>    0.013</td>\n",
       "</tr>\n",
       "<tr>\n",
       "  <th>Day_Process_wed</th>        <td>    0.0010</td> <td>    0.004</td> <td>    0.245</td> <td> 0.806</td> <td>   -0.007</td> <td>    0.009</td>\n",
       "</tr>\n",
       "<tr>\n",
       "  <th>Ph.No_Yes</th>              <td>   -0.0073</td> <td>    0.003</td> <td>   -2.222</td> <td> 0.026</td> <td>   -0.014</td> <td>   -0.001</td>\n",
       "</tr>\n",
       "<tr>\n",
       "  <th>Type_Loan_RLoan</th>        <td>   -0.0105</td> <td>    0.004</td> <td>   -2.453</td> <td> 0.014</td> <td>   -0.019</td> <td>   -0.002</td>\n",
       "</tr>\n",
       "<tr>\n",
       "  <th>Region_East</th>            <td>   -0.0038</td> <td>    0.004</td> <td>   -0.999</td> <td> 0.318</td> <td>   -0.011</td> <td>    0.004</td>\n",
       "</tr>\n",
       "<tr>\n",
       "  <th>Region_North</th>           <td>    0.0004</td> <td>    0.004</td> <td>    0.114</td> <td> 0.909</td> <td>   -0.007</td> <td>    0.008</td>\n",
       "</tr>\n",
       "<tr>\n",
       "  <th>Region_South</th>           <td>    0.0058</td> <td>    0.004</td> <td>    1.445</td> <td> 0.148</td> <td>   -0.002</td> <td>    0.014</td>\n",
       "</tr>\n",
       "<tr>\n",
       "  <th>Addr_permanent_Yes</th>     <td>   -0.0170</td> <td>    0.005</td> <td>   -3.663</td> <td> 0.000</td> <td>   -0.026</td> <td>   -0.008</td>\n",
       "</tr>\n",
       "<tr>\n",
       "  <th>Permanent_Addr_tag_Yes</th> <td>    0.0027</td> <td>    0.003</td> <td>    0.817</td> <td> 0.414</td> <td>   -0.004</td> <td>    0.009</td>\n",
       "</tr>\n",
       "</table>\n",
       "<table class=\"simpletable\">\n",
       "<tr>\n",
       "  <th>Omnibus:</th>       <td>31701.893</td> <th>  Durbin-Watson:     </th> <td>   2.000</td> \n",
       "</tr>\n",
       "<tr>\n",
       "  <th>Prob(Omnibus):</th>  <td> 0.000</td>   <th>  Jarque-Bera (JB):  </th> <td>29065.933</td>\n",
       "</tr>\n",
       "<tr>\n",
       "  <th>Skew:</th>           <td> 1.065</td>   <th>  Prob(JB):          </th> <td>    0.00</td> \n",
       "</tr>\n",
       "<tr>\n",
       "  <th>Kurtosis:</th>       <td> 2.147</td>   <th>  Cond. No.          </th> <td>6.55e+07</td> \n",
       "</tr>\n",
       "</table><br/><br/>Notes:<br/>[1] Standard Errors assume that the covariance matrix of the errors is correctly specified.<br/>[2] The condition number is large, 6.55e+07. This might indicate that there are<br/>strong multicollinearity or other numerical problems."
      ],
      "text/plain": [
       "<class 'statsmodels.iolib.summary.Summary'>\n",
       "\"\"\"\n",
       "                            OLS Regression Results                            \n",
       "==============================================================================\n",
       "Dep. Variable:                Default   R-squared:                       0.002\n",
       "Model:                            OLS   Adj. R-squared:                  0.002\n",
       "Method:                 Least Squares   F-statistic:                     6.711\n",
       "Date:                Fri, 29 Jul 2022   Prob (F-statistic):           2.26e-41\n",
       "Time:                        14:04:17   Log-Likelihood:                -79325.\n",
       "No. Observations:              132440   AIC:                         1.587e+05\n",
       "Df Residuals:                  132392   BIC:                         1.592e+05\n",
       "Df Model:                          47                                         \n",
       "Covariance Type:            nonrobust                                         \n",
       "==========================================================================================\n",
       "                             coef    std err          t      P>|t|      [0.025      0.975]\n",
       "------------------------------------------------------------------------------------------\n",
       "const                      0.3169      0.019     16.260      0.000       0.279       0.355\n",
       "Compensation             3.94e-09   2.86e-09      1.376      0.169   -1.67e-09    9.55e-09\n",
       "Loan_amt               -6.639e-09   5.24e-09     -1.266      0.206   -1.69e-08    3.64e-09\n",
       "Annuity_amt            -2.612e-08   6.91e-07     -0.038      0.970   -1.38e-06    1.33e-06\n",
       "density_Ind                0.0284      0.082      0.347      0.729      -0.132       0.189\n",
       "Default_hist               0.0171      0.029      0.581      0.561      -0.041       0.075\n",
       "Home_Appliances           -0.0027      0.003     -1.056      0.291      -0.008       0.002\n",
       "Experience                -0.0010      0.000     -4.346      0.000      -0.001      -0.001\n",
       "Dependents             -4.786e-05      0.004     -0.013      0.990      -0.007       0.007\n",
       "Company_Rating             0.0106      0.003      4.009      0.000       0.005       0.016\n",
       "Age                       -0.0006      0.000     -4.496      0.000      -0.001      -0.000\n",
       "hour_Process              -0.0006      0.000     -1.826      0.068      -0.001    4.71e-05\n",
       "c1_rated                  -0.0204      0.005     -4.214      0.000      -0.030      -0.011\n",
       "Contact_age            -5.721e-06   1.53e-06     -3.729      0.000   -8.73e-06   -2.71e-06\n",
       "Product_bought             0.0013      0.001      2.358      0.018       0.000       0.002\n",
       "Vehicle_Status_Y          -0.0097      0.003     -3.452      0.001      -0.015      -0.004\n",
       "Job_Type_IT               -0.0055      0.003     -1.734      0.083      -0.012       0.001\n",
       "Job_Type_Non-IT           -0.0072      0.004     -1.868      0.062      -0.015       0.000\n",
       "Prop_List_None            -0.0178      0.029     -0.616      0.538      -0.074       0.039\n",
       "Prop_List_One              0.0108      0.009      1.260      0.208      -0.006       0.028\n",
       "Region_Type_Rural         -0.0018      0.003     -0.539      0.590      -0.008       0.005\n",
       "Region_Type_other         -0.0041      0.009     -0.467      0.641      -0.021       0.013\n",
       "Credit_Inq_1               0.0198      0.009      2.274      0.023       0.003       0.037\n",
       "Credit_Inq_2               0.0183      0.009      2.060      0.039       0.001       0.036\n",
       "Credit_Inq_3               0.0119      0.009      1.272      0.203      -0.006       0.030\n",
       "Credit_Inq_>4              0.0195      0.010      1.995      0.046       0.000       0.039\n",
       "Education_det_Other       -0.0042      0.006     -0.719      0.472      -0.016       0.007\n",
       "Education_det_P_Grad      -0.0165      0.003     -5.560      0.000      -0.022      -0.011\n",
       "Marital_Stat_Married       0.0031      0.006      0.502      0.616      -0.009       0.015\n",
       "Marital_Stat_Single       -0.0015      0.006     -0.263      0.792      -0.013       0.010\n",
       "Marital_Stat_Widow         0.0112      0.007      1.529      0.126      -0.003       0.026\n",
       "Gen_M                     -0.0138      0.003     -4.890      0.000      -0.019      -0.008\n",
       "Credit_Lnks_4_to_6         0.0073      0.004      1.763      0.078      -0.001       0.015\n",
       "Credit_Lnks_>6            -0.0118      0.011     -1.084      0.278      -0.033       0.010\n",
       "Income_Alt_Y              -0.0021      0.003     -0.713      0.476      -0.008       0.004\n",
       "Day_Process_SAT            0.0062      0.005      1.303      0.193      -0.003       0.015\n",
       "Day_Process_Sun           -0.0029      0.006     -0.479      0.632      -0.015       0.009\n",
       "Day_Process_Tue            0.0006      0.004      0.149      0.882      -0.008       0.009\n",
       "Day_Process_mon           -0.0011      0.004     -0.262      0.793      -0.009       0.007\n",
       "Day_Process_thur           0.0052      0.004      1.222      0.222      -0.003       0.013\n",
       "Day_Process_wed            0.0010      0.004      0.245      0.806      -0.007       0.009\n",
       "Ph.No_Yes                 -0.0073      0.003     -2.222      0.026      -0.014      -0.001\n",
       "Type_Loan_RLoan           -0.0105      0.004     -2.453      0.014      -0.019      -0.002\n",
       "Region_East               -0.0038      0.004     -0.999      0.318      -0.011       0.004\n",
       "Region_North               0.0004      0.004      0.114      0.909      -0.007       0.008\n",
       "Region_South               0.0058      0.004      1.445      0.148      -0.002       0.014\n",
       "Addr_permanent_Yes        -0.0170      0.005     -3.663      0.000      -0.026      -0.008\n",
       "Permanent_Addr_tag_Yes     0.0027      0.003      0.817      0.414      -0.004       0.009\n",
       "==============================================================================\n",
       "Omnibus:                    31701.893   Durbin-Watson:                   2.000\n",
       "Prob(Omnibus):                  0.000   Jarque-Bera (JB):            29065.933\n",
       "Skew:                           1.065   Prob(JB):                         0.00\n",
       "Kurtosis:                       2.147   Cond. No.                     6.55e+07\n",
       "==============================================================================\n",
       "\n",
       "Notes:\n",
       "[1] Standard Errors assume that the covariance matrix of the errors is correctly specified.\n",
       "[2] The condition number is large, 6.55e+07. This might indicate that there are\n",
       "strong multicollinearity or other numerical problems.\n",
       "\"\"\""
      ]
     },
     "execution_count": 88,
     "metadata": {},
     "output_type": "execute_result"
    }
   ],
   "source": [
    "x1 = newtrain.drop(\"Default\" , axis =1 )\n",
    "y1= newtrain[\"Default\"]\n",
    "x2= sm.add_constant(x1)\n",
    "rf = sm.OLS(y1 ,x2).fit()\n",
    "rf.summary()"
   ]
  },
  {
   "cell_type": "code",
   "execution_count": 89,
   "id": "477e5fae",
   "metadata": {},
   "outputs": [],
   "source": [
    "pvalue=rf.pvalues\n",
    "pval=pd.DataFrame(pvalue)\n",
    "signi=pval[pval[0]<0.05].index"
   ]
  },
  {
   "cell_type": "code",
   "execution_count": 90,
   "id": "8a586de1",
   "metadata": {},
   "outputs": [
    {
     "data": {
      "text/plain": [
       "Index(['const', 'Experience', 'Company_Rating', 'Age', 'c1_rated',\n",
       "       'Contact_age', 'Product_bought', 'Vehicle_Status_Y', 'Credit_Inq_1',\n",
       "       'Credit_Inq_2', 'Credit_Inq_>4', 'Education_det_P_Grad', 'Gen_M',\n",
       "       'Ph.No_Yes', 'Type_Loan_RLoan', 'Addr_permanent_Yes'],\n",
       "      dtype='object')"
      ]
     },
     "execution_count": 90,
     "metadata": {},
     "output_type": "execute_result"
    }
   ],
   "source": [
    "signi"
   ]
  },
  {
   "cell_type": "code",
   "execution_count": 93,
   "id": "16bdfd65",
   "metadata": {},
   "outputs": [],
   "source": [
    "signi = newtrain[['Experience', 'Company_Rating', 'Age',\n",
    "       'c1_rated', 'Contact_age', 'Product_bought', 'Credit_Inq_1',\n",
    "       'Credit_Inq_2', 'Credit_Inq_>4', 'Education_det_P_Grad', 'Gen_M',\n",
    "       'Ph.No_Yes', 'Type_Loan_RLoan', 'Addr_permanent_Yes']]"
   ]
  },
  {
   "cell_type": "code",
   "execution_count": 94,
   "id": "238875af",
   "metadata": {},
   "outputs": [
    {
     "data": {
      "text/html": [
       "<table class=\"simpletable\">\n",
       "<caption>OLS Regression Results</caption>\n",
       "<tr>\n",
       "  <th>Dep. Variable:</th>         <td>Default</td>     <th>  R-squared:         </th> <td>   0.002</td> \n",
       "</tr>\n",
       "<tr>\n",
       "  <th>Model:</th>                   <td>OLS</td>       <th>  Adj. R-squared:    </th> <td>   0.002</td> \n",
       "</tr>\n",
       "<tr>\n",
       "  <th>Method:</th>             <td>Least Squares</td>  <th>  F-statistic:       </th> <td>   18.80</td> \n",
       "</tr>\n",
       "<tr>\n",
       "  <th>Date:</th>             <td>Fri, 29 Jul 2022</td> <th>  Prob (F-statistic):</th> <td>5.81e-48</td> \n",
       "</tr>\n",
       "<tr>\n",
       "  <th>Time:</th>                 <td>14:05:40</td>     <th>  Log-Likelihood:    </th> <td> -79351.</td> \n",
       "</tr>\n",
       "<tr>\n",
       "  <th>No. Observations:</th>      <td>132440</td>      <th>  AIC:               </th> <td>1.587e+05</td>\n",
       "</tr>\n",
       "<tr>\n",
       "  <th>Df Residuals:</th>          <td>132425</td>      <th>  BIC:               </th> <td>1.589e+05</td>\n",
       "</tr>\n",
       "<tr>\n",
       "  <th>Df Model:</th>              <td>    14</td>      <th>                     </th>     <td> </td>    \n",
       "</tr>\n",
       "<tr>\n",
       "  <th>Covariance Type:</th>      <td>nonrobust</td>    <th>                     </th>     <td> </td>    \n",
       "</tr>\n",
       "</table>\n",
       "<table class=\"simpletable\">\n",
       "<tr>\n",
       "            <td></td>              <th>coef</th>     <th>std err</th>      <th>t</th>      <th>P>|t|</th>  <th>[0.025</th>    <th>0.975]</th>  \n",
       "</tr>\n",
       "<tr>\n",
       "  <th>const</th>                <td>    0.3070</td> <td>    0.011</td> <td>   28.288</td> <td> 0.000</td> <td>    0.286</td> <td>    0.328</td>\n",
       "</tr>\n",
       "<tr>\n",
       "  <th>Experience</th>           <td>   -0.0011</td> <td>    0.000</td> <td>   -4.767</td> <td> 0.000</td> <td>   -0.001</td> <td>   -0.001</td>\n",
       "</tr>\n",
       "<tr>\n",
       "  <th>Company_Rating</th>       <td>    0.0117</td> <td>    0.003</td> <td>    4.612</td> <td> 0.000</td> <td>    0.007</td> <td>    0.017</td>\n",
       "</tr>\n",
       "<tr>\n",
       "  <th>Age</th>                  <td>   -0.0005</td> <td>    0.000</td> <td>   -3.801</td> <td> 0.000</td> <td>   -0.001</td> <td>   -0.000</td>\n",
       "</tr>\n",
       "<tr>\n",
       "  <th>c1_rated</th>             <td>   -0.0205</td> <td>    0.005</td> <td>   -4.222</td> <td> 0.000</td> <td>   -0.030</td> <td>   -0.011</td>\n",
       "</tr>\n",
       "<tr>\n",
       "  <th>Contact_age</th>          <td>-6.107e-06</td> <td> 1.53e-06</td> <td>   -3.998</td> <td> 0.000</td> <td> -9.1e-06</td> <td>-3.11e-06</td>\n",
       "</tr>\n",
       "<tr>\n",
       "  <th>Product_bought</th>       <td>    0.0015</td> <td>    0.001</td> <td>    2.637</td> <td> 0.008</td> <td>    0.000</td> <td>    0.003</td>\n",
       "</tr>\n",
       "<tr>\n",
       "  <th>Credit_Inq_1</th>         <td>    0.0086</td> <td>    0.004</td> <td>    2.165</td> <td> 0.030</td> <td>    0.001</td> <td>    0.016</td>\n",
       "</tr>\n",
       "<tr>\n",
       "  <th>Credit_Inq_2</th>         <td>    0.0070</td> <td>    0.004</td> <td>    1.597</td> <td> 0.110</td> <td>   -0.002</td> <td>    0.016</td>\n",
       "</tr>\n",
       "<tr>\n",
       "  <th>Credit_Inq_>4</th>        <td>    0.0079</td> <td>    0.006</td> <td>    1.321</td> <td> 0.187</td> <td>   -0.004</td> <td>    0.020</td>\n",
       "</tr>\n",
       "<tr>\n",
       "  <th>Education_det_P_Grad</th> <td>   -0.0181</td> <td>    0.003</td> <td>   -6.301</td> <td> 0.000</td> <td>   -0.024</td> <td>   -0.012</td>\n",
       "</tr>\n",
       "<tr>\n",
       "  <th>Gen_M</th>                <td>   -0.0095</td> <td>    0.003</td> <td>   -3.644</td> <td> 0.000</td> <td>   -0.015</td> <td>   -0.004</td>\n",
       "</tr>\n",
       "<tr>\n",
       "  <th>Ph.No_Yes</th>            <td>   -0.0064</td> <td>    0.003</td> <td>   -2.060</td> <td> 0.039</td> <td>   -0.013</td> <td>   -0.000</td>\n",
       "</tr>\n",
       "<tr>\n",
       "  <th>Type_Loan_RLoan</th>      <td>   -0.0096</td> <td>    0.004</td> <td>   -2.306</td> <td> 0.021</td> <td>   -0.018</td> <td>   -0.001</td>\n",
       "</tr>\n",
       "<tr>\n",
       "  <th>Addr_permanent_Yes</th>   <td>   -0.0183</td> <td>    0.005</td> <td>   -3.976</td> <td> 0.000</td> <td>   -0.027</td> <td>   -0.009</td>\n",
       "</tr>\n",
       "</table>\n",
       "<table class=\"simpletable\">\n",
       "<tr>\n",
       "  <th>Omnibus:</th>       <td>31770.430</td> <th>  Durbin-Watson:     </th> <td>   2.000</td> \n",
       "</tr>\n",
       "<tr>\n",
       "  <th>Prob(Omnibus):</th>  <td> 0.000</td>   <th>  Jarque-Bera (JB):  </th> <td>29100.830</td>\n",
       "</tr>\n",
       "<tr>\n",
       "  <th>Skew:</th>           <td> 1.066</td>   <th>  Prob(JB):          </th> <td>    0.00</td> \n",
       "</tr>\n",
       "<tr>\n",
       "  <th>Kurtosis:</th>       <td> 2.146</td>   <th>  Cond. No.          </th> <td>1.24e+04</td> \n",
       "</tr>\n",
       "</table><br/><br/>Notes:<br/>[1] Standard Errors assume that the covariance matrix of the errors is correctly specified.<br/>[2] The condition number is large, 1.24e+04. This might indicate that there are<br/>strong multicollinearity or other numerical problems."
      ],
      "text/plain": [
       "<class 'statsmodels.iolib.summary.Summary'>\n",
       "\"\"\"\n",
       "                            OLS Regression Results                            \n",
       "==============================================================================\n",
       "Dep. Variable:                Default   R-squared:                       0.002\n",
       "Model:                            OLS   Adj. R-squared:                  0.002\n",
       "Method:                 Least Squares   F-statistic:                     18.80\n",
       "Date:                Fri, 29 Jul 2022   Prob (F-statistic):           5.81e-48\n",
       "Time:                        14:05:40   Log-Likelihood:                -79351.\n",
       "No. Observations:              132440   AIC:                         1.587e+05\n",
       "Df Residuals:                  132425   BIC:                         1.589e+05\n",
       "Df Model:                          14                                         \n",
       "Covariance Type:            nonrobust                                         \n",
       "========================================================================================\n",
       "                           coef    std err          t      P>|t|      [0.025      0.975]\n",
       "----------------------------------------------------------------------------------------\n",
       "const                    0.3070      0.011     28.288      0.000       0.286       0.328\n",
       "Experience              -0.0011      0.000     -4.767      0.000      -0.001      -0.001\n",
       "Company_Rating           0.0117      0.003      4.612      0.000       0.007       0.017\n",
       "Age                     -0.0005      0.000     -3.801      0.000      -0.001      -0.000\n",
       "c1_rated                -0.0205      0.005     -4.222      0.000      -0.030      -0.011\n",
       "Contact_age          -6.107e-06   1.53e-06     -3.998      0.000    -9.1e-06   -3.11e-06\n",
       "Product_bought           0.0015      0.001      2.637      0.008       0.000       0.003\n",
       "Credit_Inq_1             0.0086      0.004      2.165      0.030       0.001       0.016\n",
       "Credit_Inq_2             0.0070      0.004      1.597      0.110      -0.002       0.016\n",
       "Credit_Inq_>4            0.0079      0.006      1.321      0.187      -0.004       0.020\n",
       "Education_det_P_Grad    -0.0181      0.003     -6.301      0.000      -0.024      -0.012\n",
       "Gen_M                   -0.0095      0.003     -3.644      0.000      -0.015      -0.004\n",
       "Ph.No_Yes               -0.0064      0.003     -2.060      0.039      -0.013      -0.000\n",
       "Type_Loan_RLoan         -0.0096      0.004     -2.306      0.021      -0.018      -0.001\n",
       "Addr_permanent_Yes      -0.0183      0.005     -3.976      0.000      -0.027      -0.009\n",
       "==============================================================================\n",
       "Omnibus:                    31770.430   Durbin-Watson:                   2.000\n",
       "Prob(Omnibus):                  0.000   Jarque-Bera (JB):            29100.830\n",
       "Skew:                           1.066   Prob(JB):                         0.00\n",
       "Kurtosis:                       2.146   Cond. No.                     1.24e+04\n",
       "==============================================================================\n",
       "\n",
       "Notes:\n",
       "[1] Standard Errors assume that the covariance matrix of the errors is correctly specified.\n",
       "[2] The condition number is large, 1.24e+04. This might indicate that there are\n",
       "strong multicollinearity or other numerical problems.\n",
       "\"\"\""
      ]
     },
     "execution_count": 94,
     "metadata": {},
     "output_type": "execute_result"
    }
   ],
   "source": [
    "y1= newtrain[\"Default\"]\n",
    "x2= sm.add_constant(signi)\n",
    "rf1 = sm.OLS(y1 ,x2).fit()\n",
    "rf1.summary()"
   ]
  },
  {
   "cell_type": "code",
   "execution_count": 95,
   "id": "10ab1600",
   "metadata": {},
   "outputs": [
    {
     "data": {
      "text/plain": [
       "Index(['const', 'Experience', 'Company_Rating', 'Age', 'c1_rated',\n",
       "       'Contact_age', 'Product_bought', 'Vehicle_Status_Y', 'Credit_Inq_1',\n",
       "       'Credit_Inq_2', 'Credit_Inq_>4', 'Education_det_P_Grad', 'Gen_M',\n",
       "       'Ph.No_Yes', 'Type_Loan_RLoan', 'Addr_permanent_Yes'],\n",
       "      dtype='object')"
      ]
     },
     "execution_count": 95,
     "metadata": {},
     "output_type": "execute_result"
    }
   ],
   "source": [
    "pvalue=rf.pvalues\n",
    "pval=pd.DataFrame(pvalue)\n",
    "signi=pval[pval[0]<0.05].index\n",
    "signi"
   ]
  },
  {
   "cell_type": "code",
   "execution_count": 96,
   "id": "bf0eba5f",
   "metadata": {},
   "outputs": [],
   "source": [
    "signi = newtrain[['Experience', 'Company_Rating', 'Age',\n",
    "       'c1_rated', 'Contact_age', 'Product_bought', 'Credit_Inq_1',\n",
    "       'Credit_Inq_2', 'Credit_Inq_>4', 'Education_det_P_Grad', 'Gen_M',\n",
    "       'Ph.No_Yes', 'Type_Loan_RLoan', 'Addr_permanent_Yes']]"
   ]
  },
  {
   "cell_type": "code",
   "execution_count": 97,
   "id": "0579160b",
   "metadata": {},
   "outputs": [
    {
     "data": {
      "text/html": [
       "<table class=\"simpletable\">\n",
       "<caption>OLS Regression Results</caption>\n",
       "<tr>\n",
       "  <th>Dep. Variable:</th>         <td>Default</td>     <th>  R-squared:         </th> <td>   0.002</td> \n",
       "</tr>\n",
       "<tr>\n",
       "  <th>Model:</th>                   <td>OLS</td>       <th>  Adj. R-squared:    </th> <td>   0.002</td> \n",
       "</tr>\n",
       "<tr>\n",
       "  <th>Method:</th>             <td>Least Squares</td>  <th>  F-statistic:       </th> <td>   18.80</td> \n",
       "</tr>\n",
       "<tr>\n",
       "  <th>Date:</th>             <td>Fri, 29 Jul 2022</td> <th>  Prob (F-statistic):</th> <td>5.81e-48</td> \n",
       "</tr>\n",
       "<tr>\n",
       "  <th>Time:</th>                 <td>14:06:05</td>     <th>  Log-Likelihood:    </th> <td> -79351.</td> \n",
       "</tr>\n",
       "<tr>\n",
       "  <th>No. Observations:</th>      <td>132440</td>      <th>  AIC:               </th> <td>1.587e+05</td>\n",
       "</tr>\n",
       "<tr>\n",
       "  <th>Df Residuals:</th>          <td>132425</td>      <th>  BIC:               </th> <td>1.589e+05</td>\n",
       "</tr>\n",
       "<tr>\n",
       "  <th>Df Model:</th>              <td>    14</td>      <th>                     </th>     <td> </td>    \n",
       "</tr>\n",
       "<tr>\n",
       "  <th>Covariance Type:</th>      <td>nonrobust</td>    <th>                     </th>     <td> </td>    \n",
       "</tr>\n",
       "</table>\n",
       "<table class=\"simpletable\">\n",
       "<tr>\n",
       "            <td></td>              <th>coef</th>     <th>std err</th>      <th>t</th>      <th>P>|t|</th>  <th>[0.025</th>    <th>0.975]</th>  \n",
       "</tr>\n",
       "<tr>\n",
       "  <th>const</th>                <td>    0.3070</td> <td>    0.011</td> <td>   28.288</td> <td> 0.000</td> <td>    0.286</td> <td>    0.328</td>\n",
       "</tr>\n",
       "<tr>\n",
       "  <th>Experience</th>           <td>   -0.0011</td> <td>    0.000</td> <td>   -4.767</td> <td> 0.000</td> <td>   -0.001</td> <td>   -0.001</td>\n",
       "</tr>\n",
       "<tr>\n",
       "  <th>Company_Rating</th>       <td>    0.0117</td> <td>    0.003</td> <td>    4.612</td> <td> 0.000</td> <td>    0.007</td> <td>    0.017</td>\n",
       "</tr>\n",
       "<tr>\n",
       "  <th>Age</th>                  <td>   -0.0005</td> <td>    0.000</td> <td>   -3.801</td> <td> 0.000</td> <td>   -0.001</td> <td>   -0.000</td>\n",
       "</tr>\n",
       "<tr>\n",
       "  <th>c1_rated</th>             <td>   -0.0205</td> <td>    0.005</td> <td>   -4.222</td> <td> 0.000</td> <td>   -0.030</td> <td>   -0.011</td>\n",
       "</tr>\n",
       "<tr>\n",
       "  <th>Contact_age</th>          <td>-6.107e-06</td> <td> 1.53e-06</td> <td>   -3.998</td> <td> 0.000</td> <td> -9.1e-06</td> <td>-3.11e-06</td>\n",
       "</tr>\n",
       "<tr>\n",
       "  <th>Product_bought</th>       <td>    0.0015</td> <td>    0.001</td> <td>    2.637</td> <td> 0.008</td> <td>    0.000</td> <td>    0.003</td>\n",
       "</tr>\n",
       "<tr>\n",
       "  <th>Credit_Inq_1</th>         <td>    0.0086</td> <td>    0.004</td> <td>    2.165</td> <td> 0.030</td> <td>    0.001</td> <td>    0.016</td>\n",
       "</tr>\n",
       "<tr>\n",
       "  <th>Credit_Inq_2</th>         <td>    0.0070</td> <td>    0.004</td> <td>    1.597</td> <td> 0.110</td> <td>   -0.002</td> <td>    0.016</td>\n",
       "</tr>\n",
       "<tr>\n",
       "  <th>Credit_Inq_>4</th>        <td>    0.0079</td> <td>    0.006</td> <td>    1.321</td> <td> 0.187</td> <td>   -0.004</td> <td>    0.020</td>\n",
       "</tr>\n",
       "<tr>\n",
       "  <th>Education_det_P_Grad</th> <td>   -0.0181</td> <td>    0.003</td> <td>   -6.301</td> <td> 0.000</td> <td>   -0.024</td> <td>   -0.012</td>\n",
       "</tr>\n",
       "<tr>\n",
       "  <th>Gen_M</th>                <td>   -0.0095</td> <td>    0.003</td> <td>   -3.644</td> <td> 0.000</td> <td>   -0.015</td> <td>   -0.004</td>\n",
       "</tr>\n",
       "<tr>\n",
       "  <th>Ph.No_Yes</th>            <td>   -0.0064</td> <td>    0.003</td> <td>   -2.060</td> <td> 0.039</td> <td>   -0.013</td> <td>   -0.000</td>\n",
       "</tr>\n",
       "<tr>\n",
       "  <th>Type_Loan_RLoan</th>      <td>   -0.0096</td> <td>    0.004</td> <td>   -2.306</td> <td> 0.021</td> <td>   -0.018</td> <td>   -0.001</td>\n",
       "</tr>\n",
       "<tr>\n",
       "  <th>Addr_permanent_Yes</th>   <td>   -0.0183</td> <td>    0.005</td> <td>   -3.976</td> <td> 0.000</td> <td>   -0.027</td> <td>   -0.009</td>\n",
       "</tr>\n",
       "</table>\n",
       "<table class=\"simpletable\">\n",
       "<tr>\n",
       "  <th>Omnibus:</th>       <td>31770.430</td> <th>  Durbin-Watson:     </th> <td>   2.000</td> \n",
       "</tr>\n",
       "<tr>\n",
       "  <th>Prob(Omnibus):</th>  <td> 0.000</td>   <th>  Jarque-Bera (JB):  </th> <td>29100.830</td>\n",
       "</tr>\n",
       "<tr>\n",
       "  <th>Skew:</th>           <td> 1.066</td>   <th>  Prob(JB):          </th> <td>    0.00</td> \n",
       "</tr>\n",
       "<tr>\n",
       "  <th>Kurtosis:</th>       <td> 2.146</td>   <th>  Cond. No.          </th> <td>1.24e+04</td> \n",
       "</tr>\n",
       "</table><br/><br/>Notes:<br/>[1] Standard Errors assume that the covariance matrix of the errors is correctly specified.<br/>[2] The condition number is large, 1.24e+04. This might indicate that there are<br/>strong multicollinearity or other numerical problems."
      ],
      "text/plain": [
       "<class 'statsmodels.iolib.summary.Summary'>\n",
       "\"\"\"\n",
       "                            OLS Regression Results                            \n",
       "==============================================================================\n",
       "Dep. Variable:                Default   R-squared:                       0.002\n",
       "Model:                            OLS   Adj. R-squared:                  0.002\n",
       "Method:                 Least Squares   F-statistic:                     18.80\n",
       "Date:                Fri, 29 Jul 2022   Prob (F-statistic):           5.81e-48\n",
       "Time:                        14:06:05   Log-Likelihood:                -79351.\n",
       "No. Observations:              132440   AIC:                         1.587e+05\n",
       "Df Residuals:                  132425   BIC:                         1.589e+05\n",
       "Df Model:                          14                                         \n",
       "Covariance Type:            nonrobust                                         \n",
       "========================================================================================\n",
       "                           coef    std err          t      P>|t|      [0.025      0.975]\n",
       "----------------------------------------------------------------------------------------\n",
       "const                    0.3070      0.011     28.288      0.000       0.286       0.328\n",
       "Experience              -0.0011      0.000     -4.767      0.000      -0.001      -0.001\n",
       "Company_Rating           0.0117      0.003      4.612      0.000       0.007       0.017\n",
       "Age                     -0.0005      0.000     -3.801      0.000      -0.001      -0.000\n",
       "c1_rated                -0.0205      0.005     -4.222      0.000      -0.030      -0.011\n",
       "Contact_age          -6.107e-06   1.53e-06     -3.998      0.000    -9.1e-06   -3.11e-06\n",
       "Product_bought           0.0015      0.001      2.637      0.008       0.000       0.003\n",
       "Credit_Inq_1             0.0086      0.004      2.165      0.030       0.001       0.016\n",
       "Credit_Inq_2             0.0070      0.004      1.597      0.110      -0.002       0.016\n",
       "Credit_Inq_>4            0.0079      0.006      1.321      0.187      -0.004       0.020\n",
       "Education_det_P_Grad    -0.0181      0.003     -6.301      0.000      -0.024      -0.012\n",
       "Gen_M                   -0.0095      0.003     -3.644      0.000      -0.015      -0.004\n",
       "Ph.No_Yes               -0.0064      0.003     -2.060      0.039      -0.013      -0.000\n",
       "Type_Loan_RLoan         -0.0096      0.004     -2.306      0.021      -0.018      -0.001\n",
       "Addr_permanent_Yes      -0.0183      0.005     -3.976      0.000      -0.027      -0.009\n",
       "==============================================================================\n",
       "Omnibus:                    31770.430   Durbin-Watson:                   2.000\n",
       "Prob(Omnibus):                  0.000   Jarque-Bera (JB):            29100.830\n",
       "Skew:                           1.066   Prob(JB):                         0.00\n",
       "Kurtosis:                       2.146   Cond. No.                     1.24e+04\n",
       "==============================================================================\n",
       "\n",
       "Notes:\n",
       "[1] Standard Errors assume that the covariance matrix of the errors is correctly specified.\n",
       "[2] The condition number is large, 1.24e+04. This might indicate that there are\n",
       "strong multicollinearity or other numerical problems.\n",
       "\"\"\""
      ]
     },
     "execution_count": 97,
     "metadata": {},
     "output_type": "execute_result"
    }
   ],
   "source": [
    "y1= newtrain[\"Default\"]\n",
    "x2= sm.add_constant(signi)\n",
    "rf1 = sm.OLS(y1 ,x2).fit()\n",
    "rf1.summary()"
   ]
  },
  {
   "cell_type": "code",
   "execution_count": 98,
   "id": "b52ac937",
   "metadata": {},
   "outputs": [],
   "source": [
    "from sklearn.metrics import mean_squared_error"
   ]
  },
  {
   "cell_type": "code",
   "execution_count": 99,
   "id": "bc224b76",
   "metadata": {},
   "outputs": [],
   "source": [
    "xtrain ,xtest, ytrain , ytest = train_test_split(signi,y1,test_size=.3 , random_state=0)"
   ]
  },
  {
   "cell_type": "code",
   "execution_count": 100,
   "id": "b8cb5246",
   "metadata": {},
   "outputs": [
    {
     "name": "stdout",
     "output_type": "stream",
     "text": [
      "              precision    recall  f1-score   support\n",
      "\n",
      "           0       0.74      0.72      0.73     29268\n",
      "           1       0.27      0.29      0.28     10464\n",
      "\n",
      "    accuracy                           0.61     39732\n",
      "   macro avg       0.50      0.50      0.50     39732\n",
      "weighted avg       0.62      0.61      0.61     39732\n",
      "\n"
     ]
    }
   ],
   "source": [
    "# Importing decision tree classifier from sklearn library\n",
    "from sklearn.tree import DecisionTreeClassifier\n",
    "\n",
    "# Fitting the decision tree with default hyperparameters, apart from\n",
    "# max_depth which is 5 so that we can plot and read the tree.\n",
    "dt_default = DecisionTreeClassifier()\n",
    "dt_default.fit(xtrain, ytrain)\n",
    "\n",
    "from sklearn.metrics import classification_report, confusion_matrix, accuracy_score\n",
    "\n",
    "# Making predictions\n",
    "y_pred_default = dt_default.predict(xtest)\n",
    "\n",
    "# Printing classification report\n",
    "print(classification_report(ytest, y_pred_default))"
   ]
  },
  {
   "cell_type": "code",
   "execution_count": 101,
   "id": "08eedbf0",
   "metadata": {},
   "outputs": [
    {
     "name": "stdout",
     "output_type": "stream",
     "text": [
      "              precision    recall  f1-score   support\n",
      "\n",
      "           0       0.74      0.98      0.84     29268\n",
      "           1       0.27      0.02      0.04     10464\n",
      "\n",
      "    accuracy                           0.73     39732\n",
      "   macro avg       0.50      0.50      0.44     39732\n",
      "weighted avg       0.61      0.73      0.63     39732\n",
      "\n"
     ]
    }
   ],
   "source": [
    "dt_default = RandomForestClassifier()\n",
    "dt_default.fit(xtrain, ytrain)\n",
    "\n",
    "from sklearn.metrics import classification_report, confusion_matrix, accuracy_score\n",
    "\n",
    "# Making predictions\n",
    "y_pred_default = dt_default.predict(xtest)\n",
    "\n",
    "# Printing classification report\n",
    "print(classification_report(ytest, y_pred_default))"
   ]
  },
  {
   "cell_type": "code",
   "execution_count": null,
   "id": "07688700",
   "metadata": {},
   "outputs": [],
   "source": [
    "dt_default = GradientBoostingClassifier()\n",
    "dt_default.fit(xtrain, ytrain)\n",
    "\n",
    "from sklearn.metrics import classification_report, confusion_matrix, accuracy_score\n",
    "\n",
    "# Making predictions\n",
    "y_pred_default = dt_default.predict(xtest)\n",
    "\n",
    "# Printing classification report\n",
    "print(classification_report(ytest, y_pred_default))"
   ]
  },
  {
   "cell_type": "code",
   "execution_count": null,
   "id": "fdd72d41",
   "metadata": {},
   "outputs": [],
   "source": [
    "from lightgbm import LGBMClassifier\n"
   ]
  },
  {
   "cell_type": "code",
   "execution_count": null,
   "id": "fbee8a79",
   "metadata": {},
   "outputs": [],
   "source": [
    "dt_default = LGBMClassifier()\n",
    "dt_default.fit(xtrain, ytrain)\n",
    "\n",
    "from sklearn.metrics import classification_report, confusion_matrix, accuracy_score\n",
    "\n",
    "# Making predictions\n",
    "y_pred_default = dt_default.predict(xtest)\n",
    "\n",
    "# Printing classification report\n",
    "print(classification_report(ytest, y_pred_default))"
   ]
  },
  {
   "cell_type": "code",
   "execution_count": null,
   "id": "c9887eb0",
   "metadata": {},
   "outputs": [],
   "source": [
    "---------------------------------------------------------------------------------------------------------"
   ]
  },
  {
   "cell_type": "code",
   "execution_count": 102,
   "id": "230c6120",
   "metadata": {},
   "outputs": [],
   "source": [
    "from imblearn.over_sampling import SMOTE"
   ]
  },
  {
   "cell_type": "code",
   "execution_count": 103,
   "id": "f7a44ec9",
   "metadata": {},
   "outputs": [],
   "source": [
    "X = newtrain.drop('Default', axis=1)  \n",
    "y = newtrain['Default']\n",
    "\n",
    "X_train, X_test, y_train, y_test = train_test_split(X,y, test_size=0.33, stratify=y, random_state=2)"
   ]
  },
  {
   "cell_type": "code",
   "execution_count": 104,
   "id": "f16c0036",
   "metadata": {},
   "outputs": [
    {
     "name": "stdout",
     "output_type": "stream",
     "text": [
      "130564\n",
      "65282\n"
     ]
    }
   ],
   "source": [
    "sm = SMOTE(random_state=1)\n",
    "X_SMOTE, y_SMOTE = sm.fit_resample(X_train, y_train)\n",
    "print(len(y_SMOTE))\n",
    "print(y_SMOTE.sum())"
   ]
  },
  {
   "cell_type": "code",
   "execution_count": 105,
   "id": "e0a94891",
   "metadata": {},
   "outputs": [
    {
     "name": "stdout",
     "output_type": "stream",
     "text": [
      "              precision    recall  f1-score   support\n",
      "\n",
      "           0       0.74      0.97      0.84     32154\n",
      "           1       0.27      0.03      0.06     11552\n",
      "\n",
      "    accuracy                           0.72     43706\n",
      "   macro avg       0.50      0.50      0.45     43706\n",
      "weighted avg       0.61      0.72      0.63     43706\n",
      "\n",
      "[[31122  1032]\n",
      " [11170   382]]\n"
     ]
    },
    {
     "data": {
      "text/plain": [
       "0.7208163638859653"
      ]
     },
     "execution_count": 105,
     "metadata": {},
     "output_type": "execute_result"
    }
   ],
   "source": [
    "rf= RandomForestClassifier()\n",
    "model = rf.fit(X_SMOTE, y_SMOTE)\n",
    "pred = rf.predict(X_test)\n",
    "print(classification_report(y_test , pred))\n",
    "print(confusion_matrix(y_test , pred))\n",
    "accuracy_score(y_test , pred)"
   ]
  },
  {
   "cell_type": "code",
   "execution_count": 106,
   "id": "16864b5a",
   "metadata": {},
   "outputs": [
    {
     "name": "stdout",
     "output_type": "stream",
     "text": [
      "              precision    recall  f1-score   support\n",
      "\n",
      "           0       0.74      0.69      0.71     32154\n",
      "           1       0.27      0.32      0.29     11552\n",
      "\n",
      "    accuracy                           0.59     43706\n",
      "   macro avg       0.50      0.50      0.50     43706\n",
      "weighted avg       0.61      0.59      0.60     43706\n",
      "\n",
      "[[22155  9999]\n",
      " [ 7886  3666]]\n"
     ]
    },
    {
     "data": {
      "text/plain": [
       "0.5907884500983847"
      ]
     },
     "execution_count": 106,
     "metadata": {},
     "output_type": "execute_result"
    }
   ],
   "source": [
    "dt= DecisionTreeClassifier()\n",
    "model = dt.fit(X_SMOTE, y_SMOTE)\n",
    "pred = dt.predict(X_test)\n",
    "print(classification_report(y_test , pred))\n",
    "print(confusion_matrix(y_test , pred))\n",
    "accuracy_score(y_test , pred)"
   ]
  },
  {
   "cell_type": "code",
   "execution_count": null,
   "id": "17cbee65",
   "metadata": {},
   "outputs": [],
   "source": [
    "def plot_roc(model):\n",
    "    y_pred_prob = gbm.predict_proba(xtest)[:,1]\n",
    "    \n",
    "    # the roc_curve() returns the values for false positive rate, true positive rate and threshold\n",
    "    # pass the actual target values and predicted probabilities to the function\n",
    "    fpr, tpr, thresholds = roc_curve(ytest, y_pred_prob)\n",
    "\n",
    "    # plot the ROC curve\n",
    "    plt.plot(fpr, tpr)\n",
    "\n",
    "    # set limits for x and y axes\n",
    "    plt.xlim([0.0, 1.0])\n",
    "    plt.ylim([0.0, 1.0])\n",
    "\n",
    "    # plot the straight line showing worst prediction for the model\n",
    "    plt.plot([0, 1], [0, 1],'r--')\n",
    "\n",
    "    # add plot and axes labels\n",
    "    # set text size using 'fontsize'\n",
    "    plt.title('ROC curve', fontsize = 15)\n",
    "    plt.xlabel('False positive rate (1-Specificity)', fontsize = 15)\n",
    "    plt.ylabel('True positive rate (Sensitivity)', fontsize = 15)\n",
    "\n",
    "    # add the AUC score to the plot\n",
    "    # 'x' and 'y' gives position of the text\n",
    "    # 's' is the text \n",
    "    # use round() to round-off the AUC score upto 4 digits\n",
    "    plt.text(x = 0.82, y = 0.3, s = ('AUC Score:',round(roc_auc_score(y_test, y_pred_prob),4)))\n",
    "\n",
    "    # plot the grid\n",
    "    plt.grid(True)\n",
    "    \n",
    "plot_roc(gbm)    "
   ]
  },
  {
   "cell_type": "code",
   "execution_count": null,
   "id": "72231546",
   "metadata": {},
   "outputs": [],
   "source": []
  },
  {
   "cell_type": "code",
   "execution_count": null,
   "id": "a8f11444",
   "metadata": {},
   "outputs": [],
   "source": []
  },
  {
   "cell_type": "code",
   "execution_count": 108,
   "id": "e67f65da",
   "metadata": {},
   "outputs": [],
   "source": [
    "x=newtrain.drop(\"Default\" , axis=1)\n",
    "y=newtrain[\"Default\"]\n"
   ]
  },
  {
   "cell_type": "code",
   "execution_count": 109,
   "id": "13262ee4",
   "metadata": {},
   "outputs": [],
   "source": [
    "dt = DecisionTreeClassifier()\n",
    "model5 = dt.fit(x, y)\n",
    "pred5 = dt.predict(newtest)"
   ]
  },
  {
   "cell_type": "code",
   "execution_count": 111,
   "id": "9c077329",
   "metadata": {},
   "outputs": [
    {
     "data": {
      "text/html": [
       "<div>\n",
       "<style scoped>\n",
       "    .dataframe tbody tr th:only-of-type {\n",
       "        vertical-align: middle;\n",
       "    }\n",
       "\n",
       "    .dataframe tbody tr th {\n",
       "        vertical-align: top;\n",
       "    }\n",
       "\n",
       "    .dataframe thead th {\n",
       "        text-align: right;\n",
       "    }\n",
       "</style>\n",
       "<table border=\"1\" class=\"dataframe\">\n",
       "  <thead>\n",
       "    <tr style=\"text-align: right;\">\n",
       "      <th></th>\n",
       "      <th>ID</th>\n",
       "    </tr>\n",
       "  </thead>\n",
       "  <tbody>\n",
       "    <tr>\n",
       "      <th>0</th>\n",
       "      <td>487410</td>\n",
       "    </tr>\n",
       "    <tr>\n",
       "      <th>1</th>\n",
       "      <td>533258</td>\n",
       "    </tr>\n",
       "    <tr>\n",
       "      <th>2</th>\n",
       "      <td>581926</td>\n",
       "    </tr>\n",
       "    <tr>\n",
       "      <th>3</th>\n",
       "      <td>486301</td>\n",
       "    </tr>\n",
       "    <tr>\n",
       "      <th>4</th>\n",
       "      <td>580822</td>\n",
       "    </tr>\n",
       "    <tr>\n",
       "      <th>...</th>\n",
       "      <td>...</td>\n",
       "    </tr>\n",
       "    <tr>\n",
       "      <th>56755</th>\n",
       "      <td>513665</td>\n",
       "    </tr>\n",
       "    <tr>\n",
       "      <th>56756</th>\n",
       "      <td>450327</td>\n",
       "    </tr>\n",
       "    <tr>\n",
       "      <th>56757</th>\n",
       "      <td>476417</td>\n",
       "    </tr>\n",
       "    <tr>\n",
       "      <th>56758</th>\n",
       "      <td>461152</td>\n",
       "    </tr>\n",
       "    <tr>\n",
       "      <th>56759</th>\n",
       "      <td>524075</td>\n",
       "    </tr>\n",
       "  </tbody>\n",
       "</table>\n",
       "<p>56760 rows × 1 columns</p>\n",
       "</div>"
      ],
      "text/plain": [
       "           ID\n",
       "0      487410\n",
       "1      533258\n",
       "2      581926\n",
       "3      486301\n",
       "4      580822\n",
       "...       ...\n",
       "56755  513665\n",
       "56756  450327\n",
       "56757  476417\n",
       "56758  461152\n",
       "56759  524075\n",
       "\n",
       "[56760 rows x 1 columns]"
      ]
     },
     "execution_count": 111,
     "metadata": {},
     "output_type": "execute_result"
    }
   ],
   "source": [
    "testing = pd.DataFrame()\n",
    "testing[\"ID\"] = test[\"ID\"]\n",
    "testing"
   ]
  },
  {
   "cell_type": "code",
   "execution_count": 112,
   "id": "89897f9e",
   "metadata": {},
   "outputs": [
    {
     "data": {
      "text/html": [
       "<div>\n",
       "<style scoped>\n",
       "    .dataframe tbody tr th:only-of-type {\n",
       "        vertical-align: middle;\n",
       "    }\n",
       "\n",
       "    .dataframe tbody tr th {\n",
       "        vertical-align: top;\n",
       "    }\n",
       "\n",
       "    .dataframe thead th {\n",
       "        text-align: right;\n",
       "    }\n",
       "</style>\n",
       "<table border=\"1\" class=\"dataframe\">\n",
       "  <thead>\n",
       "    <tr style=\"text-align: right;\">\n",
       "      <th></th>\n",
       "      <th>ID</th>\n",
       "      <th>Default</th>\n",
       "    </tr>\n",
       "  </thead>\n",
       "  <tbody>\n",
       "    <tr>\n",
       "      <th>0</th>\n",
       "      <td>487410</td>\n",
       "      <td>0</td>\n",
       "    </tr>\n",
       "    <tr>\n",
       "      <th>1</th>\n",
       "      <td>533258</td>\n",
       "      <td>0</td>\n",
       "    </tr>\n",
       "    <tr>\n",
       "      <th>2</th>\n",
       "      <td>581926</td>\n",
       "      <td>1</td>\n",
       "    </tr>\n",
       "    <tr>\n",
       "      <th>3</th>\n",
       "      <td>486301</td>\n",
       "      <td>0</td>\n",
       "    </tr>\n",
       "    <tr>\n",
       "      <th>4</th>\n",
       "      <td>580822</td>\n",
       "      <td>0</td>\n",
       "    </tr>\n",
       "  </tbody>\n",
       "</table>\n",
       "</div>"
      ],
      "text/plain": [
       "       ID  Default\n",
       "0  487410        0\n",
       "1  533258        0\n",
       "2  581926        1\n",
       "3  486301        0\n",
       "4  580822        0"
      ]
     },
     "execution_count": 112,
     "metadata": {},
     "output_type": "execute_result"
    }
   ],
   "source": [
    "testing[\"Default\"] = pred5\n",
    "testing.to_csv(\"dt.csv\" , index = False)\n",
    "testing.head(5)"
   ]
  },
  {
   "cell_type": "code",
   "execution_count": null,
   "id": "a7324d3d",
   "metadata": {},
   "outputs": [],
   "source": []
  },
  {
   "cell_type": "code",
   "execution_count": 113,
   "id": "efe572fc",
   "metadata": {},
   "outputs": [],
   "source": [
    "sm = SMOTE(random_state=1)\n",
    "X_SMOTE, y_SMOTE = sm.fit_resample(x, y)"
   ]
  },
  {
   "cell_type": "code",
   "execution_count": 114,
   "id": "39b9798f",
   "metadata": {},
   "outputs": [],
   "source": [
    "dt= DecisionTreeClassifier()\n",
    "model = dt.fit(X_SMOTE, y_SMOTE)\n",
    "pred = dt.predict(newtest)"
   ]
  },
  {
   "cell_type": "code",
   "execution_count": 115,
   "id": "28cfaa22",
   "metadata": {},
   "outputs": [
    {
     "data": {
      "text/html": [
       "<div>\n",
       "<style scoped>\n",
       "    .dataframe tbody tr th:only-of-type {\n",
       "        vertical-align: middle;\n",
       "    }\n",
       "\n",
       "    .dataframe tbody tr th {\n",
       "        vertical-align: top;\n",
       "    }\n",
       "\n",
       "    .dataframe thead th {\n",
       "        text-align: right;\n",
       "    }\n",
       "</style>\n",
       "<table border=\"1\" class=\"dataframe\">\n",
       "  <thead>\n",
       "    <tr style=\"text-align: right;\">\n",
       "      <th></th>\n",
       "      <th>ID</th>\n",
       "    </tr>\n",
       "  </thead>\n",
       "  <tbody>\n",
       "    <tr>\n",
       "      <th>0</th>\n",
       "      <td>487410</td>\n",
       "    </tr>\n",
       "    <tr>\n",
       "      <th>1</th>\n",
       "      <td>533258</td>\n",
       "    </tr>\n",
       "    <tr>\n",
       "      <th>2</th>\n",
       "      <td>581926</td>\n",
       "    </tr>\n",
       "    <tr>\n",
       "      <th>3</th>\n",
       "      <td>486301</td>\n",
       "    </tr>\n",
       "    <tr>\n",
       "      <th>4</th>\n",
       "      <td>580822</td>\n",
       "    </tr>\n",
       "    <tr>\n",
       "      <th>...</th>\n",
       "      <td>...</td>\n",
       "    </tr>\n",
       "    <tr>\n",
       "      <th>56755</th>\n",
       "      <td>513665</td>\n",
       "    </tr>\n",
       "    <tr>\n",
       "      <th>56756</th>\n",
       "      <td>450327</td>\n",
       "    </tr>\n",
       "    <tr>\n",
       "      <th>56757</th>\n",
       "      <td>476417</td>\n",
       "    </tr>\n",
       "    <tr>\n",
       "      <th>56758</th>\n",
       "      <td>461152</td>\n",
       "    </tr>\n",
       "    <tr>\n",
       "      <th>56759</th>\n",
       "      <td>524075</td>\n",
       "    </tr>\n",
       "  </tbody>\n",
       "</table>\n",
       "<p>56760 rows × 1 columns</p>\n",
       "</div>"
      ],
      "text/plain": [
       "           ID\n",
       "0      487410\n",
       "1      533258\n",
       "2      581926\n",
       "3      486301\n",
       "4      580822\n",
       "...       ...\n",
       "56755  513665\n",
       "56756  450327\n",
       "56757  476417\n",
       "56758  461152\n",
       "56759  524075\n",
       "\n",
       "[56760 rows x 1 columns]"
      ]
     },
     "execution_count": 115,
     "metadata": {},
     "output_type": "execute_result"
    }
   ],
   "source": [
    "testing1 = pd.DataFrame()\n",
    "testing1[\"ID\"] = test[\"ID\"]\n",
    "testing1"
   ]
  },
  {
   "cell_type": "code",
   "execution_count": 116,
   "id": "0de6f1ac",
   "metadata": {},
   "outputs": [
    {
     "data": {
      "text/html": [
       "<div>\n",
       "<style scoped>\n",
       "    .dataframe tbody tr th:only-of-type {\n",
       "        vertical-align: middle;\n",
       "    }\n",
       "\n",
       "    .dataframe tbody tr th {\n",
       "        vertical-align: top;\n",
       "    }\n",
       "\n",
       "    .dataframe thead th {\n",
       "        text-align: right;\n",
       "    }\n",
       "</style>\n",
       "<table border=\"1\" class=\"dataframe\">\n",
       "  <thead>\n",
       "    <tr style=\"text-align: right;\">\n",
       "      <th></th>\n",
       "      <th>ID</th>\n",
       "      <th>Default</th>\n",
       "    </tr>\n",
       "  </thead>\n",
       "  <tbody>\n",
       "    <tr>\n",
       "      <th>0</th>\n",
       "      <td>487410</td>\n",
       "      <td>0</td>\n",
       "    </tr>\n",
       "    <tr>\n",
       "      <th>1</th>\n",
       "      <td>533258</td>\n",
       "      <td>0</td>\n",
       "    </tr>\n",
       "    <tr>\n",
       "      <th>2</th>\n",
       "      <td>581926</td>\n",
       "      <td>0</td>\n",
       "    </tr>\n",
       "    <tr>\n",
       "      <th>3</th>\n",
       "      <td>486301</td>\n",
       "      <td>0</td>\n",
       "    </tr>\n",
       "    <tr>\n",
       "      <th>4</th>\n",
       "      <td>580822</td>\n",
       "      <td>0</td>\n",
       "    </tr>\n",
       "  </tbody>\n",
       "</table>\n",
       "</div>"
      ],
      "text/plain": [
       "       ID  Default\n",
       "0  487410        0\n",
       "1  533258        0\n",
       "2  581926        0\n",
       "3  486301        0\n",
       "4  580822        0"
      ]
     },
     "execution_count": 116,
     "metadata": {},
     "output_type": "execute_result"
    }
   ],
   "source": [
    "testing1[\"Default\"] = pred\n",
    "testing1.to_csv(\"dt_2.csv\" , index = False)\n",
    "testing1.head(5)"
   ]
  },
  {
   "cell_type": "code",
   "execution_count": null,
   "id": "e3741ce1",
   "metadata": {},
   "outputs": [],
   "source": []
  },
  {
   "cell_type": "code",
   "execution_count": 117,
   "id": "e25fb0f1",
   "metadata": {},
   "outputs": [
    {
     "name": "stdout",
     "output_type": "stream",
     "text": [
      "Fitting 5 folds for each of 16 candidates, totalling 80 fits\n"
     ]
    },
    {
     "data": {
      "text/html": [
       "<style>#sk-container-id-1 {color: black;background-color: white;}#sk-container-id-1 pre{padding: 0;}#sk-container-id-1 div.sk-toggleable {background-color: white;}#sk-container-id-1 label.sk-toggleable__label {cursor: pointer;display: block;width: 100%;margin-bottom: 0;padding: 0.3em;box-sizing: border-box;text-align: center;}#sk-container-id-1 label.sk-toggleable__label-arrow:before {content: \"▸\";float: left;margin-right: 0.25em;color: #696969;}#sk-container-id-1 label.sk-toggleable__label-arrow:hover:before {color: black;}#sk-container-id-1 div.sk-estimator:hover label.sk-toggleable__label-arrow:before {color: black;}#sk-container-id-1 div.sk-toggleable__content {max-height: 0;max-width: 0;overflow: hidden;text-align: left;background-color: #f0f8ff;}#sk-container-id-1 div.sk-toggleable__content pre {margin: 0.2em;color: black;border-radius: 0.25em;background-color: #f0f8ff;}#sk-container-id-1 input.sk-toggleable__control:checked~div.sk-toggleable__content {max-height: 200px;max-width: 100%;overflow: auto;}#sk-container-id-1 input.sk-toggleable__control:checked~label.sk-toggleable__label-arrow:before {content: \"▾\";}#sk-container-id-1 div.sk-estimator input.sk-toggleable__control:checked~label.sk-toggleable__label {background-color: #d4ebff;}#sk-container-id-1 div.sk-label input.sk-toggleable__control:checked~label.sk-toggleable__label {background-color: #d4ebff;}#sk-container-id-1 input.sk-hidden--visually {border: 0;clip: rect(1px 1px 1px 1px);clip: rect(1px, 1px, 1px, 1px);height: 1px;margin: -1px;overflow: hidden;padding: 0;position: absolute;width: 1px;}#sk-container-id-1 div.sk-estimator {font-family: monospace;background-color: #f0f8ff;border: 1px dotted black;border-radius: 0.25em;box-sizing: border-box;margin-bottom: 0.5em;}#sk-container-id-1 div.sk-estimator:hover {background-color: #d4ebff;}#sk-container-id-1 div.sk-parallel-item::after {content: \"\";width: 100%;border-bottom: 1px solid gray;flex-grow: 1;}#sk-container-id-1 div.sk-label:hover label.sk-toggleable__label {background-color: #d4ebff;}#sk-container-id-1 div.sk-serial::before {content: \"\";position: absolute;border-left: 1px solid gray;box-sizing: border-box;top: 0;bottom: 0;left: 50%;z-index: 0;}#sk-container-id-1 div.sk-serial {display: flex;flex-direction: column;align-items: center;background-color: white;padding-right: 0.2em;padding-left: 0.2em;position: relative;}#sk-container-id-1 div.sk-item {position: relative;z-index: 1;}#sk-container-id-1 div.sk-parallel {display: flex;align-items: stretch;justify-content: center;background-color: white;position: relative;}#sk-container-id-1 div.sk-item::before, #sk-container-id-1 div.sk-parallel-item::before {content: \"\";position: absolute;border-left: 1px solid gray;box-sizing: border-box;top: 0;bottom: 0;left: 50%;z-index: -1;}#sk-container-id-1 div.sk-parallel-item {display: flex;flex-direction: column;z-index: 1;position: relative;background-color: white;}#sk-container-id-1 div.sk-parallel-item:first-child::after {align-self: flex-end;width: 50%;}#sk-container-id-1 div.sk-parallel-item:last-child::after {align-self: flex-start;width: 50%;}#sk-container-id-1 div.sk-parallel-item:only-child::after {width: 0;}#sk-container-id-1 div.sk-dashed-wrapped {border: 1px dashed gray;margin: 0 0.4em 0.5em 0.4em;box-sizing: border-box;padding-bottom: 0.4em;background-color: white;}#sk-container-id-1 div.sk-label label {font-family: monospace;font-weight: bold;display: inline-block;line-height: 1.2em;}#sk-container-id-1 div.sk-label-container {text-align: center;}#sk-container-id-1 div.sk-container {/* jupyter's `normalize.less` sets `[hidden] { display: none; }` but bootstrap.min.css set `[hidden] { display: none !important; }` so we also need the `!important` here to be able to override the default hidden behavior on the sphinx rendered scikit-learn.org. See: https://github.com/scikit-learn/scikit-learn/issues/21755 */display: inline-block !important;position: relative;}#sk-container-id-1 div.sk-text-repr-fallback {display: none;}</style><div id=\"sk-container-id-1\" class=\"sk-top-container\"><div class=\"sk-text-repr-fallback\"><pre>GridSearchCV(cv=5, estimator=DecisionTreeClassifier(),\n",
       "             param_grid={&#x27;criterion&#x27;: [&#x27;entropy&#x27;, &#x27;gini&#x27;],\n",
       "                         &#x27;max_depth&#x27;: range(5, 15, 5),\n",
       "                         &#x27;min_samples_leaf&#x27;: range(50, 150, 50),\n",
       "                         &#x27;min_samples_split&#x27;: range(50, 150, 50)},\n",
       "             verbose=1)</pre><b>In a Jupyter environment, please rerun this cell to show the HTML representation or trust the notebook. <br />On GitHub, the HTML representation is unable to render, please try loading this page with nbviewer.org.</b></div><div class=\"sk-container\" hidden><div class=\"sk-item sk-dashed-wrapped\"><div class=\"sk-label-container\"><div class=\"sk-label sk-toggleable\"><input class=\"sk-toggleable__control sk-hidden--visually\" id=\"sk-estimator-id-1\" type=\"checkbox\" ><label for=\"sk-estimator-id-1\" class=\"sk-toggleable__label sk-toggleable__label-arrow\">GridSearchCV</label><div class=\"sk-toggleable__content\"><pre>GridSearchCV(cv=5, estimator=DecisionTreeClassifier(),\n",
       "             param_grid={&#x27;criterion&#x27;: [&#x27;entropy&#x27;, &#x27;gini&#x27;],\n",
       "                         &#x27;max_depth&#x27;: range(5, 15, 5),\n",
       "                         &#x27;min_samples_leaf&#x27;: range(50, 150, 50),\n",
       "                         &#x27;min_samples_split&#x27;: range(50, 150, 50)},\n",
       "             verbose=1)</pre></div></div></div><div class=\"sk-parallel\"><div class=\"sk-parallel-item\"><div class=\"sk-item\"><div class=\"sk-label-container\"><div class=\"sk-label sk-toggleable\"><input class=\"sk-toggleable__control sk-hidden--visually\" id=\"sk-estimator-id-2\" type=\"checkbox\" ><label for=\"sk-estimator-id-2\" class=\"sk-toggleable__label sk-toggleable__label-arrow\">estimator: DecisionTreeClassifier</label><div class=\"sk-toggleable__content\"><pre>DecisionTreeClassifier()</pre></div></div></div><div class=\"sk-serial\"><div class=\"sk-item\"><div class=\"sk-estimator sk-toggleable\"><input class=\"sk-toggleable__control sk-hidden--visually\" id=\"sk-estimator-id-3\" type=\"checkbox\" ><label for=\"sk-estimator-id-3\" class=\"sk-toggleable__label sk-toggleable__label-arrow\">DecisionTreeClassifier</label><div class=\"sk-toggleable__content\"><pre>DecisionTreeClassifier()</pre></div></div></div></div></div></div></div></div></div></div>"
      ],
      "text/plain": [
       "GridSearchCV(cv=5, estimator=DecisionTreeClassifier(),\n",
       "             param_grid={'criterion': ['entropy', 'gini'],\n",
       "                         'max_depth': range(5, 15, 5),\n",
       "                         'min_samples_leaf': range(50, 150, 50),\n",
       "                         'min_samples_split': range(50, 150, 50)},\n",
       "             verbose=1)"
      ]
     },
     "execution_count": 117,
     "metadata": {},
     "output_type": "execute_result"
    }
   ],
   "source": [
    "param_grid = {\n",
    "    'max_depth': range(5, 15, 5),\n",
    "    'min_samples_leaf': range(50, 150, 50),\n",
    "    'min_samples_split': range(50, 150, 50),\n",
    "    'criterion': [\"entropy\", \"gini\"]\n",
    "}\n",
    "\n",
    "n_folds = 5\n",
    "\n",
    "# Instantiate the grid search model\n",
    "dtree = DecisionTreeClassifier()\n",
    "grid_search = GridSearchCV(estimator = dtree, param_grid = param_grid, \n",
    "                          cv = n_folds, verbose = 1)\n",
    "\n",
    "# Fit the grid search to the data\n",
    "grid_search.fit(x,y)"
   ]
  },
  {
   "cell_type": "code",
   "execution_count": 118,
   "id": "70c40ab8",
   "metadata": {},
   "outputs": [
    {
     "data": {
      "text/html": [
       "<div>\n",
       "<style scoped>\n",
       "    .dataframe tbody tr th:only-of-type {\n",
       "        vertical-align: middle;\n",
       "    }\n",
       "\n",
       "    .dataframe tbody tr th {\n",
       "        vertical-align: top;\n",
       "    }\n",
       "\n",
       "    .dataframe thead th {\n",
       "        text-align: right;\n",
       "    }\n",
       "</style>\n",
       "<table border=\"1\" class=\"dataframe\">\n",
       "  <thead>\n",
       "    <tr style=\"text-align: right;\">\n",
       "      <th></th>\n",
       "      <th>mean_fit_time</th>\n",
       "      <th>std_fit_time</th>\n",
       "      <th>mean_score_time</th>\n",
       "      <th>std_score_time</th>\n",
       "      <th>param_criterion</th>\n",
       "      <th>param_max_depth</th>\n",
       "      <th>param_min_samples_leaf</th>\n",
       "      <th>param_min_samples_split</th>\n",
       "      <th>params</th>\n",
       "      <th>split0_test_score</th>\n",
       "      <th>split1_test_score</th>\n",
       "      <th>split2_test_score</th>\n",
       "      <th>split3_test_score</th>\n",
       "      <th>split4_test_score</th>\n",
       "      <th>mean_test_score</th>\n",
       "      <th>std_test_score</th>\n",
       "      <th>rank_test_score</th>\n",
       "    </tr>\n",
       "  </thead>\n",
       "  <tbody>\n",
       "    <tr>\n",
       "      <th>2</th>\n",
       "      <td>0.887034</td>\n",
       "      <td>0.006065</td>\n",
       "      <td>0.013165</td>\n",
       "      <td>0.000400</td>\n",
       "      <td>entropy</td>\n",
       "      <td>5</td>\n",
       "      <td>100</td>\n",
       "      <td>50</td>\n",
       "      <td>{'criterion': 'entropy', 'max_depth': 5, 'min_...</td>\n",
       "      <td>0.735692</td>\n",
       "      <td>0.735692</td>\n",
       "      <td>0.735692</td>\n",
       "      <td>0.735692</td>\n",
       "      <td>0.735729</td>\n",
       "      <td>0.735699</td>\n",
       "      <td>0.000015</td>\n",
       "      <td>1</td>\n",
       "    </tr>\n",
       "    <tr>\n",
       "      <th>3</th>\n",
       "      <td>0.886041</td>\n",
       "      <td>0.002828</td>\n",
       "      <td>0.013370</td>\n",
       "      <td>0.000484</td>\n",
       "      <td>entropy</td>\n",
       "      <td>5</td>\n",
       "      <td>100</td>\n",
       "      <td>100</td>\n",
       "      <td>{'criterion': 'entropy', 'max_depth': 5, 'min_...</td>\n",
       "      <td>0.735692</td>\n",
       "      <td>0.735692</td>\n",
       "      <td>0.735692</td>\n",
       "      <td>0.735692</td>\n",
       "      <td>0.735729</td>\n",
       "      <td>0.735699</td>\n",
       "      <td>0.000015</td>\n",
       "      <td>1</td>\n",
       "    </tr>\n",
       "    <tr>\n",
       "      <th>10</th>\n",
       "      <td>0.766365</td>\n",
       "      <td>0.008781</td>\n",
       "      <td>0.015151</td>\n",
       "      <td>0.003405</td>\n",
       "      <td>gini</td>\n",
       "      <td>5</td>\n",
       "      <td>100</td>\n",
       "      <td>50</td>\n",
       "      <td>{'criterion': 'gini', 'max_depth': 5, 'min_sam...</td>\n",
       "      <td>0.735692</td>\n",
       "      <td>0.735692</td>\n",
       "      <td>0.735692</td>\n",
       "      <td>0.735692</td>\n",
       "      <td>0.735729</td>\n",
       "      <td>0.735699</td>\n",
       "      <td>0.000015</td>\n",
       "      <td>1</td>\n",
       "    </tr>\n",
       "    <tr>\n",
       "      <th>11</th>\n",
       "      <td>0.762769</td>\n",
       "      <td>0.002112</td>\n",
       "      <td>0.016548</td>\n",
       "      <td>0.003756</td>\n",
       "      <td>gini</td>\n",
       "      <td>5</td>\n",
       "      <td>100</td>\n",
       "      <td>100</td>\n",
       "      <td>{'criterion': 'gini', 'max_depth': 5, 'min_sam...</td>\n",
       "      <td>0.735692</td>\n",
       "      <td>0.735692</td>\n",
       "      <td>0.735692</td>\n",
       "      <td>0.735692</td>\n",
       "      <td>0.735729</td>\n",
       "      <td>0.735699</td>\n",
       "      <td>0.000015</td>\n",
       "      <td>1</td>\n",
       "    </tr>\n",
       "    <tr>\n",
       "      <th>0</th>\n",
       "      <td>0.893804</td>\n",
       "      <td>0.009641</td>\n",
       "      <td>0.013409</td>\n",
       "      <td>0.000459</td>\n",
       "      <td>entropy</td>\n",
       "      <td>5</td>\n",
       "      <td>50</td>\n",
       "      <td>50</td>\n",
       "      <td>{'criterion': 'entropy', 'max_depth': 5, 'min_...</td>\n",
       "      <td>0.735692</td>\n",
       "      <td>0.735692</td>\n",
       "      <td>0.735692</td>\n",
       "      <td>0.735314</td>\n",
       "      <td>0.735503</td>\n",
       "      <td>0.735578</td>\n",
       "      <td>0.000151</td>\n",
       "      <td>5</td>\n",
       "    </tr>\n",
       "  </tbody>\n",
       "</table>\n",
       "</div>"
      ],
      "text/plain": [
       "    mean_fit_time  std_fit_time  mean_score_time  std_score_time  \\\n",
       "2        0.887034      0.006065         0.013165        0.000400   \n",
       "3        0.886041      0.002828         0.013370        0.000484   \n",
       "10       0.766365      0.008781         0.015151        0.003405   \n",
       "11       0.762769      0.002112         0.016548        0.003756   \n",
       "0        0.893804      0.009641         0.013409        0.000459   \n",
       "\n",
       "   param_criterion param_max_depth param_min_samples_leaf  \\\n",
       "2          entropy               5                    100   \n",
       "3          entropy               5                    100   \n",
       "10            gini               5                    100   \n",
       "11            gini               5                    100   \n",
       "0          entropy               5                     50   \n",
       "\n",
       "   param_min_samples_split                                             params  \\\n",
       "2                       50  {'criterion': 'entropy', 'max_depth': 5, 'min_...   \n",
       "3                      100  {'criterion': 'entropy', 'max_depth': 5, 'min_...   \n",
       "10                      50  {'criterion': 'gini', 'max_depth': 5, 'min_sam...   \n",
       "11                     100  {'criterion': 'gini', 'max_depth': 5, 'min_sam...   \n",
       "0                       50  {'criterion': 'entropy', 'max_depth': 5, 'min_...   \n",
       "\n",
       "    split0_test_score  split1_test_score  split2_test_score  \\\n",
       "2            0.735692           0.735692           0.735692   \n",
       "3            0.735692           0.735692           0.735692   \n",
       "10           0.735692           0.735692           0.735692   \n",
       "11           0.735692           0.735692           0.735692   \n",
       "0            0.735692           0.735692           0.735692   \n",
       "\n",
       "    split3_test_score  split4_test_score  mean_test_score  std_test_score  \\\n",
       "2            0.735692           0.735729         0.735699        0.000015   \n",
       "3            0.735692           0.735729         0.735699        0.000015   \n",
       "10           0.735692           0.735729         0.735699        0.000015   \n",
       "11           0.735692           0.735729         0.735699        0.000015   \n",
       "0            0.735314           0.735503         0.735578        0.000151   \n",
       "\n",
       "    rank_test_score  \n",
       "2                 1  \n",
       "3                 1  \n",
       "10                1  \n",
       "11                1  \n",
       "0                 5  "
      ]
     },
     "execution_count": 118,
     "metadata": {},
     "output_type": "execute_result"
    }
   ],
   "source": [
    "# cv results\n",
    "cv_results = pd.DataFrame(grid_search.cv_results_)\n",
    "cv_results.sort_values('mean_test_score', ascending=False)[0:5]"
   ]
  },
  {
   "cell_type": "code",
   "execution_count": null,
   "id": "cb3170af",
   "metadata": {},
   "outputs": [],
   "source": []
  },
  {
   "cell_type": "code",
   "execution_count": null,
   "id": "b939ec61",
   "metadata": {},
   "outputs": [],
   "source": []
  },
  {
   "cell_type": "code",
   "execution_count": null,
   "id": "a0082056",
   "metadata": {},
   "outputs": [],
   "source": []
  },
  {
   "cell_type": "code",
   "execution_count": null,
   "id": "d2a306c7",
   "metadata": {},
   "outputs": [],
   "source": []
  },
  {
   "cell_type": "code",
   "execution_count": null,
   "id": "473db573",
   "metadata": {},
   "outputs": [],
   "source": []
  }
 ],
 "metadata": {
  "kernelspec": {
   "display_name": "Python 3 (ipykernel)",
   "language": "python",
   "name": "python3"
  },
  "language_info": {
   "codemirror_mode": {
    "name": "ipython",
    "version": 3
   },
   "file_extension": ".py",
   "mimetype": "text/x-python",
   "name": "python",
   "nbconvert_exporter": "python",
   "pygments_lexer": "ipython3",
   "version": "3.9.7"
  }
 },
 "nbformat": 4,
 "nbformat_minor": 5
}
